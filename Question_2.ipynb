{
  "nbformat": 4,
  "nbformat_minor": 0,
  "metadata": {
    "colab": {
      "name": "Question-2.ipynb",
      "provenance": [],
      "collapsed_sections": []
    },
    "kernelspec": {
      "name": "python3",
      "display_name": "Python 3"
    },
    "language_info": {
      "name": "python"
    },
    "accelerator": "GPU"
  },
  "cells": [
    {
      "cell_type": "code",
      "metadata": {
        "colab": {
          "base_uri": "https://localhost:8080/"
        },
        "id": "V0PdVT4VmQ5Y",
        "outputId": "d49f4271-0255-4a63-cc75-591f1bd5c25a"
      },
      "source": [
        "# data analysis library\n",
        "import numpy as np \n",
        "import pandas as pd\n",
        "\n",
        "# visualization libraries\n",
        "from pylab import rcParams\n",
        "import seaborn as sns \n",
        "import matplotlib.pyplot as plt \n",
        "from wordcloud import WordCloud\n",
        "\n",
        "import re # regular expression \n",
        "\n",
        "# NLP libraries \n",
        "import nltk\n",
        "nltk.download('stopwords')\n",
        "from nltk.corpus import stopwords\n",
        "from nltk.stem import SnowballStemmer\n",
        "from keras.preprocessing.text import Tokenizer \n",
        "\n",
        "# model selection \n",
        "from sklearn.model_selection import train_test_split \n",
        "from sklearn.model_selection import KFold\n",
        "\n",
        "# models \n",
        "import keras\n",
        "import tensorflow as tf\n",
        "import tensorflow_hub as hub\n",
        "# import keras.layers import Dense\n",
        "# from keras.utils import np_utils \n",
        "from keras.wrappers.scikit_learn import KerasClassifier\n",
        "from sklearn.preprocessing import LabelEncoder\n",
        "from tensorflow.keras.utils import to_categorical \n",
        "\n",
        "# metrics \n",
        "from sklearn.metrics import confusion_matrix\n",
        "from sklearn.metrics import roc_auc_score, roc_curve\n",
        "from sklearn.metrics import classification_report\n",
        "\n",
        "\n",
        "# loading the data\n",
        "from google.colab import drive\n",
        "drive.mount('/content/drive')\n",
        "\n",
        "# plot settings \n",
        "plt.rcParams[\"figure.figsize\"] = (14, 6)\n",
        "plt.style.use('ggplot') \n",
        "\n",
        "print(\"Version: \", tf.__version__) \n",
        "print(\"Hub version: \", hub.__version__)\n",
        "print(\"Eager mode: \", tf.executing_eagerly())\n",
        "print(\"GPU is\", \"available\" if tf.config.list_physical_devices(\"GPU\") else \"NOT AVAILABLE\") \n",
        "\n",
        "# for hyper parameter tuning \n",
        "!pip install -q -U keras-tuner\n",
        "import keras_tuner as kt"
      ],
      "execution_count": null,
      "outputs": [
        {
          "output_type": "stream",
          "text": [
            "[nltk_data] Downloading package stopwords to /root/nltk_data...\n",
            "[nltk_data]   Package stopwords is already up-to-date!\n",
            "Drive already mounted at /content/drive; to attempt to forcibly remount, call drive.mount(\"/content/drive\", force_remount=True).\n",
            "Version:  2.5.0\n",
            "Hub version:  0.12.0\n",
            "Eager mode:  True\n",
            "GPU is available\n"
          ],
          "name": "stdout"
        }
      ]
    },
    {
      "cell_type": "code",
      "metadata": {
        "colab": {
          "base_uri": "https://localhost:8080/",
          "height": 221
        },
        "id": "tE0uYFVyqY3u",
        "outputId": "dbfdf1dc-e7f9-4e2c-8348-276363120d22"
      },
      "source": [
        "file_path = \"/content/drive/MyDrive/DL Assignment 1 - Group-016/tripadvisor_hotel_reviews.csv\" \n",
        "\n",
        "data = pd.read_csv(file_path) \n",
        "print(\"Size:\", data.shape)\n",
        "data.head()"
      ],
      "execution_count": null,
      "outputs": [
        {
          "output_type": "stream",
          "text": [
            "Size: (20491, 2)\n"
          ],
          "name": "stdout"
        },
        {
          "output_type": "execute_result",
          "data": {
            "text/html": [
              "<div>\n",
              "<style scoped>\n",
              "    .dataframe tbody tr th:only-of-type {\n",
              "        vertical-align: middle;\n",
              "    }\n",
              "\n",
              "    .dataframe tbody tr th {\n",
              "        vertical-align: top;\n",
              "    }\n",
              "\n",
              "    .dataframe thead th {\n",
              "        text-align: right;\n",
              "    }\n",
              "</style>\n",
              "<table border=\"1\" class=\"dataframe\">\n",
              "  <thead>\n",
              "    <tr style=\"text-align: right;\">\n",
              "      <th></th>\n",
              "      <th>Review</th>\n",
              "      <th>Rating</th>\n",
              "    </tr>\n",
              "  </thead>\n",
              "  <tbody>\n",
              "    <tr>\n",
              "      <th>0</th>\n",
              "      <td>nice hotel expensive parking got good deal sta...</td>\n",
              "      <td>4</td>\n",
              "    </tr>\n",
              "    <tr>\n",
              "      <th>1</th>\n",
              "      <td>ok nothing special charge diamond member hilto...</td>\n",
              "      <td>2</td>\n",
              "    </tr>\n",
              "    <tr>\n",
              "      <th>2</th>\n",
              "      <td>nice rooms not 4* experience hotel monaco seat...</td>\n",
              "      <td>3</td>\n",
              "    </tr>\n",
              "    <tr>\n",
              "      <th>3</th>\n",
              "      <td>unique, great stay, wonderful time hotel monac...</td>\n",
              "      <td>5</td>\n",
              "    </tr>\n",
              "    <tr>\n",
              "      <th>4</th>\n",
              "      <td>great stay great stay, went seahawk game aweso...</td>\n",
              "      <td>5</td>\n",
              "    </tr>\n",
              "  </tbody>\n",
              "</table>\n",
              "</div>"
            ],
            "text/plain": [
              "                                              Review  Rating\n",
              "0  nice hotel expensive parking got good deal sta...       4\n",
              "1  ok nothing special charge diamond member hilto...       2\n",
              "2  nice rooms not 4* experience hotel monaco seat...       3\n",
              "3  unique, great stay, wonderful time hotel monac...       5\n",
              "4  great stay great stay, went seahawk game aweso...       5"
            ]
          },
          "metadata": {
            "tags": []
          },
          "execution_count": 109
        }
      ]
    },
    {
      "cell_type": "code",
      "metadata": {
        "colab": {
          "base_uri": "https://localhost:8080/"
        },
        "id": "sAp6patqgylk",
        "outputId": "46c59bb5-c7fe-4b27-f7d8-ef92e7a1e3d6"
      },
      "source": [
        "# checking 2 examples for each rating \n",
        "for k, v in data.groupby('Rating'): \n",
        "  print(\"Rating:\", k) \n",
        "  count = 1\n",
        "  for i, j in dict(v.Review[0:2]).items(): \n",
        "    print(count,\".\",j) \n",
        "    count += 1      "
      ],
      "execution_count": null,
      "outputs": [
        {
          "output_type": "stream",
          "text": [
            "Rating: 1\n",
            "1 . horrible customer service hotel stay february 3rd 4th 2007my friend picked hotel monaco appealing website online package included champagne late checkout 3 free valet gift spa weekend, friend checked room hours earlier came later, pulled valet young man just stood, asked valet open said, pull bags didn__Ç_é_ offer help, got garment bag suitcase came car key room number says not valet, car park car street pull, left key working asked valet park car gets, went room fine bottle champagne oil lotion gift spa, dressed went came got bed noticed blood drops pillows sheets pillows, disgusted just unbelievable, called desk sent somebody 20 minutes later, swapped sheets left apologizing, sunday morning called desk speak management sheets aggravated rude, apparently no manager kind supervisor weekend wait monday morning, young man spoke said cover food adding person changed sheets said fresh blood rude tone, checkout 3pm package booked, 12 1:30 staff maids tried walk room opening door apologizing closing, people called saying check 12 remind package, finally packed things went downstairs check, quickly signed paper took, way took closer look room, unfortunately covered food offered charged valet, called desk ask charges lady answered snapped saying aware problem experienced monday like told earlier, life treated like hotel, not sure hotel constantly problems lucky ones stay recommend anybody know,  \n",
            "2 . noise airconditioner-a standard, arranged stay travel agency unfortunately warwick seattle hotel dissapointment trip, 3 night stay warwick changed 3 rooms, starting minute stay hotel personnel didn`t make feel like guest like intruder, reluctant help solve complaints, hotel right downtown 5 minutes really good restaurants like good thing, availability room offered 2nd floor window directly opening car parking level, changed room, 3 rooms loud sound coming air conditioner/ heating unbelievable hotel, hotel personnel told standard noise rooms, tried avoid using night order sleep possible watching tv loudly,  \n",
            "Rating: 2\n",
            "1 . ok nothing special charge diamond member hilton decided chain shot 20th anniversary seattle, start booked suite paid extra website description not, suite bedroom bathroom standard hotel room, took printed reservation desk showed said things like tv couch ect desk clerk told oh mixed suites description kimpton website sorry free breakfast, got kidding, embassy suits sitting room bathroom bedroom unlike kimpton calls suite, 5 day stay offer correct false advertising, send kimpton preferred guest website email asking failure provide suite advertised website reservation description furnished hard copy reservation printout website desk manager duty did not reply solution, send email trip guest survey did not follow email mail, guess tell concerned guest.the staff ranged indifferent not helpful, asked desk good breakfast spots neighborhood hood told no hotels, gee best breakfast spots seattle 1/2 block away convenient hotel does not know exist, arrived late night 11 pm inside run bellman busy chating cell phone help bags.prior arrival emailed hotel inform 20th anniversary half really picky wanted make sure good, got nice email saying like deliver bottle champagne chocolate covered strawberries room arrival celebrate, told needed foam pillows, arrival no champagne strawberries no foam pillows great room view alley high rise building good not better housekeeping staff cleaner room property, impressed left morning shopping room got short trips 2 hours, beds comfortable.not good ac-heat control 4 x 4 inch screen bring green shine directly eyes night, light sensitive tape controls.this not 4 start hotel clean business hotel super high rates, better chain hotels seattle,  \n",
            "2 . poor value stayed monaco seattle july, nice hotel priced 100- 150 night not, hotel takes beating quotient, experience simply average, nothing exceptional paying 300+ n't ca n't terribly disappointed, wife stayed nicest suites 200/night felt like overpaying, best advice shop, quality-wise league average marriott nice best western,  \n",
            "Rating: 3\n",
            "1 . nice rooms not 4* experience hotel monaco seattle good hotel n't 4* level.positives large bathroom mediterranean suite comfortable bed pillowsattentive housekeeping staffnegatives ac unit malfunctioned stay desk disorganized, missed 3 separate wakeup calls, concierge busy hard touch, did n't provide guidance special requests.tv hard use ipod sound dock suite non functioning. decided book mediterranean suite 3 night weekend stay 1st choice rest party filled, comparison w spent 45 night larger square footage room great soaking tub whirlpool jets nice shower.before stay hotel arrange car service price 53 tip reasonable driver waiting arrival.checkin easy downside room picked 2 person jacuzi tub no bath accessories salts bubble bath did n't stay, night got 12/1a checked voucher bottle champagne nice gesture fish waiting room, impression room huge open space felt room big, tv far away bed chore change channel, ipod dock broken disappointing.in morning way asked desk check thermostat said 65f 74 2 degrees warm try cover face night bright blue light kept, got room night no, 1st drop desk, called maintainence came look thermostat told play settings happy digital box wo n't work, asked wakeup 10am morning did n't happen, called later 6pm nap wakeup forgot, 10am wakeup morning yep forgotten.the bathroom facilities great room surprised room sold whirlpool bath tub n't bath amenities, great relax water jets going,  \n",
            "2 . nice hotel not nice staff hotel lovely staff quite rude, bellhop desk clerk going way make things difficult, waited forever check heavy bags no help getting throught double doors room, worst desk clerk checking tap tap tap car waited pick 20 minutes, got home noticed 1,000 dollar hold credit card took 5 phonecalls 2 faxes 1 week resolved, stay warwck 4th lenora rooms ok..but al friendly faces tiring day airport,  \n",
            "Rating: 4\n",
            "1 . nice hotel expensive parking got good deal stay hotel anniversary, arrived late evening took advice previous reviews did valet parking, check quick easy, little disappointed non-existent view room room clean nice size, bed comfortable woke stiff neck high pillows, not soundproof like heard music room night morning loud bangs doors opening closing hear people talking hallway, maybe just noisy neighbors, aveda bath products nice, did not goldfish stay nice touch taken advantage staying longer, location great walking distance shopping, overall nice experience having pay 40 parking night,  \n",
            "2 . excellent staff, housekeeping quality hotel chocked staff make feel home, experienced exceptional service desk staff concierge door men maid service needs work, maid failed tuck sheets foot bed instance soiled sheets used, staff quickley resolved soiled sheets issue, guess relates employee not reflection rest staff.we received excellent advice concierge regarding resturants area happy hour wine tasting nice touch staff went way make feel home.great location like close good food shopping took play 5th street theather well.pikes market pioneer square access mono rail short walking distance,  \n",
            "Rating: 5\n",
            "1 . unique, great stay, wonderful time hotel monaco, location excellent short stroll main downtown shopping area, pet friendly room showed no signs animal hair smells, monaco suite sleeping area big striped curtains pulled closed nice touch felt cosy, goldfish named brandi enjoyed, did n't partake free wine coffee/tea service lobby thought great feature, great staff friendly, free wireless internet hotel worked suite 2 laptops, decor lovely eclectic mix pattens color palatte, animal print bathrobes feel like rock stars, nice did n't look like sterile chain hotel hotel personality excellent stay,  \n",
            "2 . great stay great stay, went seahawk game awesome, downfall view building did n't complain, room huge staff helpful, booked hotels website seahawk package, no charge parking got voucher taxi, problem taxi driver did n't want accept voucher barely spoke english, funny thing speak arabic called started making comments girlfriend cell phone buddy, took second realize just said fact speak language face priceless, ass told, said large city, told head doorman issue called cab company promply answer did n't, apologized offered pay taxi, bucks 2 miles stadium, game plan taxi return going humpin, great walk did n't mind, right christmas wonderful lights, homeless stowed away building entrances leave, police presence not greatest area stadium, activities 7 blocks pike street waterfront great coffee shops way, hotel mantained foyer awesome, wine tasting available evening, best dog, taking st. bernard time family, safes hotel located service desk room, bathroom huge jetted tub huge, funny house keeping walked girlfriend getting dressed, did n't hear knock doing turn service, screamed girlfriend screams hit floor laughing, started talking spanish worked, place recommend price, check online deals just good not better, besite contains deals vouchers travel websites n't tell,  \n"
          ],
          "name": "stdout"
        }
      ]
    },
    {
      "cell_type": "markdown",
      "metadata": {
        "id": "WW8yEtsVkYVl"
      },
      "source": [
        "Note: The reviews seem to be consistant with the rating awarded."
      ]
    },
    {
      "cell_type": "markdown",
      "metadata": {
        "id": "Buy0zzNVp_Cb"
      },
      "source": [
        "# Data Visualization"
      ]
    },
    {
      "cell_type": "markdown",
      "metadata": {
        "id": "v1J48f14pUA9"
      },
      "source": [
        "**1. Class (*Rating*) Counts** \n"
      ]
    },
    {
      "cell_type": "code",
      "metadata": {
        "colab": {
          "base_uri": "https://localhost:8080/",
          "height": 204
        },
        "id": "DHW6M5Q-q23J",
        "outputId": "e57f32b0-3cc4-4fbf-82aa-3b40c3a9591a"
      },
      "source": [
        "summary_table_1 = pd.DataFrame(round(data.Rating.value_counts() / len(data) * 100, 2))  \n",
        "summary_table_1.columns = ['Percentage']\n",
        "summary_table_1['Rating Counts'] = list(data.Rating.value_counts())   \n",
        "\n",
        "summary_table_1"
      ],
      "execution_count": null,
      "outputs": [
        {
          "output_type": "execute_result",
          "data": {
            "text/html": [
              "<div>\n",
              "<style scoped>\n",
              "    .dataframe tbody tr th:only-of-type {\n",
              "        vertical-align: middle;\n",
              "    }\n",
              "\n",
              "    .dataframe tbody tr th {\n",
              "        vertical-align: top;\n",
              "    }\n",
              "\n",
              "    .dataframe thead th {\n",
              "        text-align: right;\n",
              "    }\n",
              "</style>\n",
              "<table border=\"1\" class=\"dataframe\">\n",
              "  <thead>\n",
              "    <tr style=\"text-align: right;\">\n",
              "      <th></th>\n",
              "      <th>Percentage</th>\n",
              "      <th>Rating Counts</th>\n",
              "    </tr>\n",
              "  </thead>\n",
              "  <tbody>\n",
              "    <tr>\n",
              "      <th>5</th>\n",
              "      <td>44.19</td>\n",
              "      <td>9054</td>\n",
              "    </tr>\n",
              "    <tr>\n",
              "      <th>4</th>\n",
              "      <td>29.47</td>\n",
              "      <td>6039</td>\n",
              "    </tr>\n",
              "    <tr>\n",
              "      <th>3</th>\n",
              "      <td>10.66</td>\n",
              "      <td>2184</td>\n",
              "    </tr>\n",
              "    <tr>\n",
              "      <th>2</th>\n",
              "      <td>8.75</td>\n",
              "      <td>1793</td>\n",
              "    </tr>\n",
              "    <tr>\n",
              "      <th>1</th>\n",
              "      <td>6.93</td>\n",
              "      <td>1421</td>\n",
              "    </tr>\n",
              "  </tbody>\n",
              "</table>\n",
              "</div>"
            ],
            "text/plain": [
              "   Percentage  Rating Counts\n",
              "5       44.19           9054\n",
              "4       29.47           6039\n",
              "3       10.66           2184\n",
              "2        8.75           1793\n",
              "1        6.93           1421"
            ]
          },
          "metadata": {
            "tags": []
          },
          "execution_count": 111
        }
      ]
    },
    {
      "cell_type": "code",
      "metadata": {
        "colab": {
          "base_uri": "https://localhost:8080/",
          "height": 392
        },
        "id": "wytv0sTqrGCO",
        "outputId": "0ada14cc-edee-4967-c38b-b715773fd8e6"
      },
      "source": [
        "# plotting classes \n",
        "sns.barplot(x=summary_table_1.index, y=summary_table_1['Percentage'])\n",
        "plt.text(2, 48, 'Rating Percentages', fontsize=14, fontweight='bold', \n",
        "         horizontalalignment='center', \n",
        "         verticalalignment='center',\n",
        "         fontfamily='serif', color=\"#000000\") \n",
        "plt.show() "
      ],
      "execution_count": 304,
      "outputs": [
        {
          "output_type": "display_data",
          "data": {
            "image/png": "[encoded data removed]",
            "text/plain": [
              "<Figure size 1008x432 with 1 Axes>"
            ]
          },
          "metadata": {
            "tags": []
          }
        }
      ]
    },
    {
      "cell_type": "code",
      "metadata": {
        "colab": {
          "base_uri": "https://localhost:8080/",
          "height": 410
        },
        "id": "MGGumojsdxe8",
        "outputId": "c781dc74-90cc-4f3d-c52f-d95f1082a153"
      },
      "source": [
        "# plotting class counnts \n",
        "# plt.figure(figsize=(13, 8))\n",
        "\n",
        "\n",
        "sns.barplot(x=summary_table_1.index, y=summary_table_1['Rating Counts'])\n",
        "plt.text(2, 9850, 'Rating Distribution', fontsize=14, fontweight='bold', \n",
        "         horizontalalignment='center', \n",
        "         verticalalignment='center',\n",
        "         fontfamily='serif', color=\"#000000\")\n",
        "plt.xlabel(\"Rating\") \n",
        "plt.ylabel(\"Number of Reviews\")\n",
        "plt.show()"
      ],
      "execution_count": 299,
      "outputs": [
        {
          "output_type": "display_data",
          "data": {
            "image/png": "[encoded data removed]",
            "text/plain": [
              "<Figure size 1008x432 with 1 Axes>"
            ]
          },
          "metadata": {
            "tags": []
          }
        }
      ]
    },
    {
      "cell_type": "code",
      "metadata": {
        "colab": {
          "base_uri": "https://localhost:8080/",
          "height": 529
        },
        "id": "XJWZRpJmrXaD",
        "outputId": "e3c2ed0a-9973-4947-dccb-f5e6b0d34298"
      },
      "source": [
        "# words per review \n",
        "word_count = data.Review.apply(lambda x : len(x.split(\" \")))\n",
        "\n",
        "plt.figure(figsize=(13, 8))\n",
        "plt.text(950, 1290, 'Word Frequency', fontsize=14, fontweight='bold', \n",
        "         horizontalalignment='center', \n",
        "         verticalalignment='center',\n",
        "         fontfamily='serif', color=\"#000000\")\n",
        "sns.histplot(word_count) \n",
        "plt.xlabel(\"Review Word Count\") \n",
        "plt.ylabel(\"Frequency\") \n",
        "plt.show() "
      ],
      "execution_count": 261,
      "outputs": [
        {
          "output_type": "display_data",
          "data": {
            "image/png": "[encoded data removed]",
            "text/plain": [
              "<Figure size 936x576 with 1 Axes>"
            ]
          },
          "metadata": {
            "tags": []
          }
        }
      ]
    },
    {
      "cell_type": "code",
      "metadata": {
        "colab": {
          "base_uri": "https://localhost:8080/"
        },
        "id": "_KRBKkrX8YzU",
        "outputId": "728f484b-0f74-4189-dd83-6ac337249fed"
      },
      "source": [
        "print(\"Average Words:\", word_count.mean()) \n",
        "print(\"Skewness:\", word_count.skew()) "
      ],
      "execution_count": null,
      "outputs": [
        {
          "output_type": "stream",
          "text": [
            "Average Words: 106.3750427016739\n",
            "Skewness: 4.495935249170961\n"
          ],
          "name": "stdout"
        }
      ]
    },
    {
      "cell_type": "markdown",
      "metadata": {
        "id": "ks-UD-ITXD_1"
      },
      "source": [
        "**Take aways:**\n",
        "1.   73.66 percent of the reviews are rated 4 and 5, shows majority of users felt positively about services. The remaining 26.34 percent are rated 3, 2 and 1 combined. \n",
        "2.   Histogram of word count and frequency shows majority of reviews were short with under 100 words.\n",
        "\n"
      ]
    },
    {
      "cell_type": "code",
      "metadata": {
        "colab": {
          "base_uri": "https://localhost:8080/",
          "height": 439
        },
        "id": "fn7aZRAH8ywW",
        "outputId": "34bc60b1-5c6a-4efd-f5a0-a41781843e82"
      },
      "source": [
        "# plotting word cloud of 100 most commonly used words in reviews. \n",
        "word_cloud_img = ''.join(data.Review) \n",
        "word_cloud_img = WordCloud(max_font_size=100, max_words=100, width=1600, \n",
        "                           height=900, scale=10, \n",
        "                           background_color='white').generate(word_cloud_img) \n",
        "\n",
        "plt.figure(figsize=(13, 8))\n",
        "plt.imshow(word_cloud_img, interpolation='bilinear') \n",
        "plt.axis('off')\n",
        "plt.show() "
      ],
      "execution_count": null,
      "outputs": [
        {
          "output_type": "display_data",
          "data": {
            "image/png": "[encoded data removed]",
            "text/plain": [
              "<Figure size 936x576 with 1 Axes>"
            ]
          },
          "metadata": {
            "tags": []
          }
        }
      ]
    },
    {
      "cell_type": "markdown",
      "metadata": {
        "id": "YpKl1e7DlO_m"
      },
      "source": [
        "## Pre-Processing \n",
        "1. removing digits and other unwanted characters - this allows the word count to lessen by removing unwanted information. <br>\n",
        "   For Example: \"WE STAYED IN THIS HOTEL FOR 2 DAYS IN ROOM 104 AND IT WAS AWESOME\". \n",
        "   The information like room number and number of days of stay does not contribute toward the rating.  \n",
        "2. removing stop words including characters that convey emotion like [!, ?, ...] \n",
        "3. use of pretrained **word-embedding model** from tensorflow to generate an embed tensor. Encodes the sentences into 128 features. \n",
        "\n",
        "\n",
        "\n",
        "\n",
        "\n",
        "\n",
        "\n",
        "\n"
      ]
    },
    {
      "cell_type": "markdown",
      "metadata": {
        "id": "uOTwrIGfHd-O"
      },
      "source": [
        "**Stemming/ Lematization** <br>\n",
        "Stemming usually refers to a process that chops off the ends of words in the hope of achieving goal correctly most of the time and often includes the removal of derivational affixes.<br> \n",
        "Lemmatization usually refers to doing things properly with the use of a vocabulary and morphological analysis of words, normally aiming to remove inflectional endings only and to return the base and dictionary form of a word <br> \n",
        "**Why do it ?** <br> \n",
        "Reduce number of words by assimilating words by stems (root words)."
      ]
    },
    {
      "cell_type": "code",
      "metadata": {
        "colab": {
          "base_uri": "https://localhost:8080/"
        },
        "id": "cji7dUyVlwAn",
        "outputId": "56684bec-7e1d-4c2a-bff6-8a806c7dd7d0"
      },
      "source": [
        "stemmer = SnowballStemmer('english') \n",
        "\n",
        "stop_words = stopwords.words('english')\n",
        "print(\"examples of some of the stopwords\\n \")\n",
        "print(stop_words[:10])  \n",
        "print(stop_words[11:20]) "
      ],
      "execution_count": null,
      "outputs": [
        {
          "output_type": "stream",
          "text": [
            "examples of some of the stopwords\n",
            " \n",
            "['i', 'me', 'my', 'myself', 'we', 'our', 'ours', 'ourselves', 'you', \"you're\"]\n",
            "[\"you'll\", \"you'd\", 'your', 'yours', 'yourself', 'yourselves', 'he', 'him', 'his']\n"
          ],
          "name": "stdout"
        }
      ]
    },
    {
      "cell_type": "code",
      "metadata": {
        "id": "t1-XJuL3lwrS"
      },
      "source": [
        "# removing digits and stop words\n",
        "def cleaned_data(review, stem=True): \n",
        "  review = re.sub(r'\\d+', ' ', review) # removes digits \n",
        "  tokens = list()\n",
        "  for token in review.split(): \n",
        "    if (token not in stop_words): \n",
        "      if stem: \n",
        "        tokens.append(stemmer.stem(token)) \n",
        "      else: \n",
        "        tokens.append(token)   \n",
        "  return ' '.join(tokens)   "
      ],
      "execution_count": null,
      "outputs": []
    },
    {
      "cell_type": "code",
      "metadata": {
        "id": "qJ2yHNtvwx8y"
      },
      "source": [
        ""
      ],
      "execution_count": null,
      "outputs": []
    },
    {
      "cell_type": "code",
      "metadata": {
        "colab": {
          "base_uri": "https://localhost:8080/"
        },
        "id": "w8RSQ0vDlTBc",
        "outputId": "c6d74194-5c1e-4269-e62b-1362677e9bc6"
      },
      "source": [
        "# features\n",
        "X = data.Review.apply(cleaned_data) \n",
        "print(X.shape)\n",
        "\n",
        "# labels\n",
        "data.Rating = data.iloc[:, -1:].astype('category') \n",
        "y = to_categorical(LabelEncoder().fit_transform(data.Rating), \n",
        "                   num_classes=5, dtype=\"int32\")  \n",
        "print(y.shape) \n",
        "\n",
        "print(X[0:5]) "
      ],
      "execution_count": null,
      "outputs": [
        {
          "output_type": "stream",
          "text": [
            "(20491,)\n",
            "(20491, 5)\n",
            "0    nice hotel expens park got good deal stay hote...\n",
            "1    ok noth special charg diamond member hilton de...\n",
            "2    nice room * experi hotel monaco seattl good ho...\n",
            "3    unique, great stay, wonder time hotel monaco, ...\n",
            "4    great stay great stay, went seahawk game aweso...\n",
            "Name: Review, dtype: object\n"
          ],
          "name": "stdout"
        }
      ]
    },
    {
      "cell_type": "code",
      "metadata": {
        "colab": {
          "base_uri": "https://localhost:8080/",
          "height": 528
        },
        "id": "i_MYZ5lKHFeG",
        "outputId": "e5951491-e155-42e5-d701-34960e2cf513"
      },
      "source": [
        "# histogram of cleaned data\n",
        "word_count_2 = X.apply(lambda x : len(x.split(\" \")))\n",
        "\n",
        "\n",
        "plt.figure(figsize=(13, 8))\n",
        "plt.text(950, 1290, 'Word Frequency - After Transformation', fontsize=14, fontweight='bold', \n",
        "         horizontalalignment='center', \n",
        "         verticalalignment='center',\n",
        "         fontfamily='serif', color=\"#000000\")\n",
        "sns.histplot(word_count_2) \n",
        "plt.xlabel(\"Review Word Count\") \n",
        "plt.ylabel(\"Frequency\") \n",
        "\n",
        "plt.show() "
      ],
      "execution_count": 260,
      "outputs": [
        {
          "output_type": "display_data",
          "data": {
            "image/png": "[encoded data removed]",
            "text/plain": [
              "<Figure size 936x576 with 1 Axes>"
            ]
          },
          "metadata": {
            "tags": []
          }
        }
      ]
    },
    {
      "cell_type": "code",
      "metadata": {
        "colab": {
          "base_uri": "https://localhost:8080/"
        },
        "id": "eegrkUJ4lmoF",
        "outputId": "eadc3221-a0ff-41a5-8344-641e561ec071"
      },
      "source": [
        "print(\"Average percentage change in words after data clean up:\", \n",
        "      round(((word_count - word_count_2) / word_count * 100).mean(), 2))"
      ],
      "execution_count": null,
      "outputs": [
        {
          "output_type": "stream",
          "text": [
            "Average percentage change in words after data clean up: 7.69\n"
          ],
          "name": "stdout"
        }
      ]
    },
    {
      "cell_type": "code",
      "metadata": {
        "colab": {
          "base_uri": "https://localhost:8080/"
        },
        "id": "UzD4PoEUhQz6",
        "outputId": "7dfed1ab-6c98-4b98-dee4-abb5e1011f9d"
      },
      "source": [
        "# train and test splits \n",
        "x_train, x_test, y_train, y_test = train_test_split(X, y, test_size=0.35,\n",
        "                                                    random_state=True,\n",
        "                                                    shuffle=True) \n",
        "\n",
        "print(\"Training size\", x_train.shape) \n",
        "print(\"Test size\", x_test.shape) "
      ],
      "execution_count": null,
      "outputs": [
        {
          "output_type": "stream",
          "text": [
            "Training size (13319,)\n",
            "Test size (7172,)\n"
          ],
          "name": "stdout"
        }
      ]
    },
    {
      "cell_type": "markdown",
      "metadata": {
        "id": "ZkP9HovWhuaR"
      },
      "source": [
        "**Word Embedding**"
      ]
    },
    {
      "cell_type": "markdown",
      "metadata": {
        "id": "2CJfK6YlhuaV"
      },
      "source": [
        "\n",
        "**WHAT DOES NNLM (Neural Network Language Model) DO?**\n",
        "  1.   Splits the string sentences on spaces. [Does not accept numbers, which is also one of the reasons we removed them from data] \n",
        "  2.   Small fraction of the least frequent tokens and embeddings (~2.5%) are replaced by hash buckets. \n",
        "         Each hash bucket is initialized using the remaining embedding vectors that hash to the same bucket.\n",
        "  3.   Word embeddings are combined into sentence embedding using the sqrtn combiner"
      ]
    },
    {
      "cell_type": "code",
      "metadata": {
        "colab": {
          "base_uri": "https://localhost:8080/"
        },
        "id": "X-BVBhgKhwdd",
        "outputId": "77217301-5aaa-44da-a009-2a2d3362920d"
      },
      "source": [
        "embed = hub.load(\"https://tfhub.dev/google/nnlm-en-dim128/2\")  \n",
        "x_train = embed(x_train) \n",
        "x_test = embed(x_test) \n",
        "\n",
        "print(\"training set size - after embedding\", x_train.shape)"
      ],
      "execution_count": null,
      "outputs": [
        {
          "output_type": "stream",
          "text": [
            "training set size - after embedding (13319, 128)\n"
          ],
          "name": "stdout"
        }
      ]
    },
    {
      "cell_type": "markdown",
      "metadata": {
        "id": "QiZ_08gpybxo"
      },
      "source": [
        "**Baseline Model**\n",
        "<ul>\n",
        "<li>A sequential network with 2 hidden layers is chosen to serve as benchmark.</li>\n",
        "<li>Further improvement can be achieved to base model by tuning hyper-parameters.</li>\n",
        "<li>Comparision of base model to more complex models with LSTM networks and Convolution networks is demonstrated.</li>\n",
        "<li>Bonus: Comaparison of base model with tensorflow's native estimators.</li>\n",
        "</ul>"
      ]
    },
    {
      "cell_type": "code",
      "metadata": {
        "colab": {
          "base_uri": "https://localhost:8080/"
        },
        "id": "NtGNZkqG0mFC",
        "outputId": "8289a91b-f911-476b-d8af-5804678f8104"
      },
      "source": [
        "model = tf.keras.Sequential()\n",
        "model.add(tf.keras.layers.Dense(units=256,\n",
        "    input_shape=(x_train.shape[1], ),\n",
        "    kernel_regularizer='l2', \n",
        "    activation='relu'\n",
        "  )\n",
        ")\n",
        "model.add(\n",
        "  tf.keras.layers.Dropout(rate=0.5)\n",
        ")\n",
        "model.add(\n",
        "  tf.keras.layers.Dense(\n",
        "    units=128, \n",
        "    kernel_regularizer='l2', \n",
        "    activation='relu'\n",
        "  )\n",
        ")\n",
        "model.add(\n",
        "  tf.keras.layers.Dropout(rate=0.5)\n",
        ")\n",
        "model.add(tf.keras.layers.Dense(5, activation='softmax'))\n",
        "model.summary()"
      ],
      "execution_count": null,
      "outputs": [
        {
          "output_type": "stream",
          "text": [
            "Model: \"sequential_24\"\n",
            "_________________________________________________________________\n",
            "Layer (type)                 Output Shape              Param #   \n",
            "=================================================================\n",
            "dense_32 (Dense)             (None, 256)               33024     \n",
            "_________________________________________________________________\n",
            "dropout_2 (Dropout)          (None, 256)               0         \n",
            "_________________________________________________________________\n",
            "dense_33 (Dense)             (None, 128)               32896     \n",
            "_________________________________________________________________\n",
            "dropout_3 (Dropout)          (None, 128)               0         \n",
            "_________________________________________________________________\n",
            "dense_34 (Dense)             (None, 5)                 645       \n",
            "=================================================================\n",
            "Total params: 66,565\n",
            "Trainable params: 66,565\n",
            "Non-trainable params: 0\n",
            "_________________________________________________________________\n"
          ],
          "name": "stdout"
        }
      ]
    },
    {
      "cell_type": "markdown",
      "metadata": {
        "id": "KkwSfwoWzAya"
      },
      "source": [
        "**Justification for Algorithm Parameters:** \n",
        "1. Optimizer: Adam is the best adaptive optimizers for handling sparse data. Not necessary to tune the learning rate for Adam. \n",
        "2. Loss: Categorical Cross Entropy: Ideal for multiclass classification, further improvements can made based on result as we're dealing with sparse matrices for classes. \n",
        "3. Metric: Accuracy, Training accuracy needs to the marker for decision on features. Model needs to identify classes accurately.   "
      ]
    },
    {
      "cell_type": "code",
      "metadata": {
        "id": "8iGoxG-l05kv"
      },
      "source": [
        "model.compile(\n",
        "    loss='categorical_crossentropy',\n",
        "    optimizer=tf.keras.optimizers.Adam(0.001),\n",
        "    metrics=['accuracy']\n",
        ")"
      ],
      "execution_count": null,
      "outputs": []
    },
    {
      "cell_type": "code",
      "metadata": {
        "colab": {
          "base_uri": "https://localhost:8080/"
        },
        "id": "oSUsJP_Q0_bN",
        "outputId": "9bcd6f87-1625-4a8b-e5b4-ca14528ce09b"
      },
      "source": [
        "history = model.fit(\n",
        "    x_train, y_train,\n",
        "    epochs=10,\n",
        "    batch_size=16,\n",
        "    validation_split=0.1,\n",
        "    verbose=1, shuffle=True) "
      ],
      "execution_count": null,
      "outputs": [
        {
          "output_type": "stream",
          "text": [
            "Epoch 1/10\n",
            "750/750 [==============================] - 2s 3ms/step - loss: 1.2108 - accuracy: 0.4826 - val_loss: 1.0704 - val_accuracy: 0.5405\n",
            "Epoch 2/10\n",
            "750/750 [==============================] - 2s 3ms/step - loss: 1.1080 - accuracy: 0.5232 - val_loss: 1.0500 - val_accuracy: 0.5511\n",
            "Epoch 3/10\n",
            "750/750 [==============================] - 2s 2ms/step - loss: 1.0834 - accuracy: 0.5348 - val_loss: 1.0469 - val_accuracy: 0.5390\n",
            "Epoch 4/10\n",
            "750/750 [==============================] - 2s 2ms/step - loss: 1.0684 - accuracy: 0.5372 - val_loss: 1.0468 - val_accuracy: 0.5541\n",
            "Epoch 5/10\n",
            "750/750 [==============================] - 2s 3ms/step - loss: 1.0658 - accuracy: 0.5385 - val_loss: 1.0328 - val_accuracy: 0.5653\n",
            "Epoch 6/10\n",
            "750/750 [==============================] - 2s 3ms/step - loss: 1.0533 - accuracy: 0.5399 - val_loss: 1.0379 - val_accuracy: 0.5503\n",
            "Epoch 7/10\n",
            "750/750 [==============================] - 2s 2ms/step - loss: 1.0421 - accuracy: 0.5479 - val_loss: 1.0435 - val_accuracy: 0.5330\n",
            "Epoch 8/10\n",
            "750/750 [==============================] - 2s 3ms/step - loss: 1.0420 - accuracy: 0.5483 - val_loss: 1.0362 - val_accuracy: 0.5586\n",
            "Epoch 9/10\n",
            "750/750 [==============================] - 2s 3ms/step - loss: 1.0322 - accuracy: 0.5516 - val_loss: 1.0333 - val_accuracy: 0.5368\n",
            "Epoch 10/10\n",
            "750/750 [==============================] - 2s 3ms/step - loss: 1.0240 - accuracy: 0.5549 - val_loss: 1.0290 - val_accuracy: 0.5473\n"
          ],
          "name": "stdout"
        }
      ]
    },
    {
      "cell_type": "code",
      "metadata": {
        "colab": {
          "base_uri": "https://localhost:8080/"
        },
        "id": "iDV7Snb21Cdd",
        "outputId": "60aea3ce-6b7a-4c18-a7ee-9112e03c8efb"
      },
      "source": [
        "model.evaluate(x_test, y_test) "
      ],
      "execution_count": null,
      "outputs": [
        {
          "output_type": "stream",
          "text": [
            "225/225 [==============================] - 0s 2ms/step - loss: 1.0538 - accuracy: 0.5266\n"
          ],
          "name": "stdout"
        },
        {
          "output_type": "execute_result",
          "data": {
            "text/plain": [
              "[1.0537546873092651, 0.5266313552856445]"
            ]
          },
          "metadata": {
            "tags": []
          },
          "execution_count": 127
        }
      ]
    },
    {
      "cell_type": "code",
      "metadata": {
        "colab": {
          "base_uri": "https://localhost:8080/"
        },
        "id": "05tKfi9V1PCl",
        "outputId": "6b51c0e2-6ec7-4558-b146-5a053bc8c7ee"
      },
      "source": [
        "print(\"Average training accuracy\", round(np.mean(history.history['accuracy']) * 100, 2)) \n",
        "print(\"Average training loss\", round(np.mean(history.history['loss']), 2)) "
      ],
      "execution_count": null,
      "outputs": [
        {
          "output_type": "stream",
          "text": [
            "Average training accuracy 53.59\n",
            "Average training loss 1.07\n"
          ],
          "name": "stdout"
        }
      ]
    },
    {
      "cell_type": "code",
      "metadata": {
        "colab": {
          "base_uri": "https://localhost:8080/",
          "height": 799
        },
        "id": "Xcz47Jyf0f8f",
        "outputId": "bc2222fd-2561-4549-99e2-78311a5fae47"
      },
      "source": [
        "# summarize history for accuracy\n",
        "plt.figure(figsize=(9,6))\n",
        "plt.plot(history.history['accuracy'])\n",
        "plt.plot(history.history['val_accuracy'])\n",
        "plt.title('baseline model accuracy')\n",
        "plt.ylabel('accuracy')\n",
        "plt.xlabel('epoch')\n",
        "plt.legend(['train', 'test'], loc='upper left')\n",
        "plt.show()\n",
        "# summarize history for loss\n",
        "plt.figure(figsize=(9,6))\n",
        "plt.plot(history.history['loss'])\n",
        "plt.plot(history.history['val_loss'])\n",
        "plt.title('base line model loss')\n",
        "plt.ylabel('loss')\n",
        "plt.xlabel('epoch')\n",
        "plt.legend(['train', 'test'], loc='upper left')\n",
        "plt.show()"
      ],
      "execution_count": null,
      "outputs": [
        {
          "output_type": "display_data",
          "data": {
            "image/png": "[encoded data removed]",
            "text/plain": [
              "<Figure size 648x432 with 1 Axes>"
            ]
          },
          "metadata": {
            "tags": []
          }
        },
        {
          "output_type": "display_data",
          "data": {
            "image/png": "[encoded data removed]",
            "text/plain": [
              "<Figure size 648x432 with 1 Axes>"
            ]
          },
          "metadata": {
            "tags": []
          }
        }
      ]
    },
    {
      "cell_type": "markdown",
      "metadata": {
        "id": "X_8WcC-42bxV"
      },
      "source": [
        "**Classification Metrics**"
      ]
    },
    {
      "cell_type": "code",
      "metadata": {
        "colab": {
          "base_uri": "https://localhost:8080/"
        },
        "id": "GjVjmCov1xZ_",
        "outputId": "944ee7d5-b1ba-4f7d-dda0-138eac4e100a"
      },
      "source": [
        "# Metrics on test set \n",
        "baseline_prediction = model.predict(x_test) \n",
        "baseline_prediction = [np.argmax(i) for i in baseline_prediction] \n",
        "actual = [np.argmax(i) for i in y_test] \n",
        "count = 0\n",
        "for i in range(len(x_test)): \n",
        "  if(actual[i] == baseline_prediction[i]): \n",
        "    count += 1\n",
        "print(\"test accuracy\" , round((count / len(x_test)) * 100, 2)) "
      ],
      "execution_count": null,
      "outputs": [
        {
          "output_type": "stream",
          "text": [
            "test accuracy 52.66\n"
          ],
          "name": "stdout"
        }
      ]
    },
    {
      "cell_type": "code",
      "metadata": {
        "colab": {
          "base_uri": "https://localhost:8080/"
        },
        "id": "maRItOqS70wr",
        "outputId": "6e374c8d-e5b8-4fd8-b567-65949e52a1c7"
      },
      "source": [
        "print(classification_report(baseline_prediction, actual)) "
      ],
      "execution_count": null,
      "outputs": [
        {
          "output_type": "stream",
          "text": [
            "              precision    recall  f1-score   support\n",
            "\n",
            "           0       0.51      0.62      0.56       431\n",
            "           1       0.31      0.35      0.33       551\n",
            "           2       0.07      0.42      0.12       118\n",
            "           3       0.23      0.42      0.30      1201\n",
            "           4       0.89      0.57      0.69      4871\n",
            "\n",
            "    accuracy                           0.53      7172\n",
            "   macro avg       0.40      0.48      0.40      7172\n",
            "weighted avg       0.70      0.53      0.58      7172\n",
            "\n"
          ],
          "name": "stdout"
        }
      ]
    },
    {
      "cell_type": "code",
      "metadata": {
        "colab": {
          "base_uri": "https://localhost:8080/",
          "height": 735
        },
        "id": "gkrey8jV2s0O",
        "outputId": "88b7fab9-6c5c-48c4-eeff-b1ec61aad98c"
      },
      "source": [
        "plt.text(2.5, -0.25, 'Confusion Matrix', fontsize=14, fontweight='bold', \n",
        "         horizontalalignment='center', \n",
        "         verticalalignment='center',\n",
        "         fontfamily='serif', color=\"#000000\") \n",
        "sns.heatmap(confusion_matrix(baseline_prediction, actual), annot=True) \n",
        "plt.show() "
      ],
      "execution_count": 237,
      "outputs": [
        {
          "output_type": "error",
          "ename": "ValueError",
          "evalue": "ignored",
          "traceback": [
            "\u001b[0;31m---------------------------------------------------------------------------\u001b[0m",
            "\u001b[0;31mValueError\u001b[0m                                Traceback (most recent call last)",
            "\u001b[0;32m<ipython-input-237-eaf9286f635b>\u001b[0m in \u001b[0;36m<module>\u001b[0;34m()\u001b[0m\n\u001b[1;32m      3\u001b[0m          \u001b[0mverticalalignment\u001b[0m\u001b[0;34m=\u001b[0m\u001b[0;34m'center'\u001b[0m\u001b[0;34m,\u001b[0m\u001b[0;34m\u001b[0m\u001b[0;34m\u001b[0m\u001b[0m\n\u001b[1;32m      4\u001b[0m          fontfamily='serif', color=\"#000000\") \n\u001b[0;32m----> 5\u001b[0;31m \u001b[0msns\u001b[0m\u001b[0;34m.\u001b[0m\u001b[0mheatmap\u001b[0m\u001b[0;34m(\u001b[0m\u001b[0mconfusion_matrix\u001b[0m\u001b[0;34m(\u001b[0m\u001b[0mbaseline_prediction\u001b[0m\u001b[0;34m,\u001b[0m \u001b[0mactual\u001b[0m\u001b[0;34m)\u001b[0m\u001b[0;34m)\u001b[0m\u001b[0;34m\u001b[0m\u001b[0;34m\u001b[0m\u001b[0m\n\u001b[0m\u001b[1;32m      6\u001b[0m \u001b[0mplt\u001b[0m\u001b[0;34m.\u001b[0m\u001b[0mshow\u001b[0m\u001b[0;34m(\u001b[0m\u001b[0;34m)\u001b[0m\u001b[0;34m\u001b[0m\u001b[0;34m\u001b[0m\u001b[0m\n",
            "\u001b[0;32m/usr/local/lib/python3.7/dist-packages/sklearn/metrics/_classification.py\u001b[0m in \u001b[0;36mconfusion_matrix\u001b[0;34m(y_true, y_pred, labels, sample_weight, normalize)\u001b[0m\n\u001b[1;32m    266\u001b[0m \u001b[0;34m\u001b[0m\u001b[0m\n\u001b[1;32m    267\u001b[0m     \"\"\"\n\u001b[0;32m--> 268\u001b[0;31m     \u001b[0my_type\u001b[0m\u001b[0;34m,\u001b[0m \u001b[0my_true\u001b[0m\u001b[0;34m,\u001b[0m \u001b[0my_pred\u001b[0m \u001b[0;34m=\u001b[0m \u001b[0m_check_targets\u001b[0m\u001b[0;34m(\u001b[0m\u001b[0my_true\u001b[0m\u001b[0;34m,\u001b[0m \u001b[0my_pred\u001b[0m\u001b[0;34m)\u001b[0m\u001b[0;34m\u001b[0m\u001b[0;34m\u001b[0m\u001b[0m\n\u001b[0m\u001b[1;32m    269\u001b[0m     \u001b[0;32mif\u001b[0m \u001b[0my_type\u001b[0m \u001b[0;32mnot\u001b[0m \u001b[0;32min\u001b[0m \u001b[0;34m(\u001b[0m\u001b[0;34m\"binary\"\u001b[0m\u001b[0;34m,\u001b[0m \u001b[0;34m\"multiclass\"\u001b[0m\u001b[0;34m)\u001b[0m\u001b[0;34m:\u001b[0m\u001b[0;34m\u001b[0m\u001b[0;34m\u001b[0m\u001b[0m\n\u001b[1;32m    270\u001b[0m         \u001b[0;32mraise\u001b[0m \u001b[0mValueError\u001b[0m\u001b[0;34m(\u001b[0m\u001b[0;34m\"%s is not supported\"\u001b[0m \u001b[0;34m%\u001b[0m \u001b[0my_type\u001b[0m\u001b[0;34m)\u001b[0m\u001b[0;34m\u001b[0m\u001b[0;34m\u001b[0m\u001b[0m\n",
            "\u001b[0;32m/usr/local/lib/python3.7/dist-packages/sklearn/metrics/_classification.py\u001b[0m in \u001b[0;36m_check_targets\u001b[0;34m(y_true, y_pred)\u001b[0m\n\u001b[1;32m     78\u001b[0m     \u001b[0my_pred\u001b[0m \u001b[0;34m:\u001b[0m \u001b[0marray\u001b[0m \u001b[0;32mor\u001b[0m \u001b[0mindicator\u001b[0m \u001b[0mmatrix\u001b[0m\u001b[0;34m\u001b[0m\u001b[0;34m\u001b[0m\u001b[0m\n\u001b[1;32m     79\u001b[0m     \"\"\"\n\u001b[0;32m---> 80\u001b[0;31m     \u001b[0mcheck_consistent_length\u001b[0m\u001b[0;34m(\u001b[0m\u001b[0my_true\u001b[0m\u001b[0;34m,\u001b[0m \u001b[0my_pred\u001b[0m\u001b[0;34m)\u001b[0m\u001b[0;34m\u001b[0m\u001b[0;34m\u001b[0m\u001b[0m\n\u001b[0m\u001b[1;32m     81\u001b[0m     \u001b[0mtype_true\u001b[0m \u001b[0;34m=\u001b[0m \u001b[0mtype_of_target\u001b[0m\u001b[0;34m(\u001b[0m\u001b[0my_true\u001b[0m\u001b[0;34m)\u001b[0m\u001b[0;34m\u001b[0m\u001b[0;34m\u001b[0m\u001b[0m\n\u001b[1;32m     82\u001b[0m     \u001b[0mtype_pred\u001b[0m \u001b[0;34m=\u001b[0m \u001b[0mtype_of_target\u001b[0m\u001b[0;34m(\u001b[0m\u001b[0my_pred\u001b[0m\u001b[0;34m)\u001b[0m\u001b[0;34m\u001b[0m\u001b[0;34m\u001b[0m\u001b[0m\n",
            "\u001b[0;32m/usr/local/lib/python3.7/dist-packages/sklearn/utils/validation.py\u001b[0m in \u001b[0;36mcheck_consistent_length\u001b[0;34m(*arrays)\u001b[0m\n\u001b[1;32m    210\u001b[0m     \u001b[0;32mif\u001b[0m \u001b[0mlen\u001b[0m\u001b[0;34m(\u001b[0m\u001b[0muniques\u001b[0m\u001b[0;34m)\u001b[0m \u001b[0;34m>\u001b[0m \u001b[0;36m1\u001b[0m\u001b[0;34m:\u001b[0m\u001b[0;34m\u001b[0m\u001b[0;34m\u001b[0m\u001b[0m\n\u001b[1;32m    211\u001b[0m         raise ValueError(\"Found input variables with inconsistent numbers of\"\n\u001b[0;32m--> 212\u001b[0;31m                          \" samples: %r\" % [int(l) for l in lengths])\n\u001b[0m\u001b[1;32m    213\u001b[0m \u001b[0;34m\u001b[0m\u001b[0m\n\u001b[1;32m    214\u001b[0m \u001b[0;34m\u001b[0m\u001b[0m\n",
            "\u001b[0;31mValueError\u001b[0m: Found input variables with inconsistent numbers of samples: [7172, 4099]"
          ]
        },
        {
          "output_type": "display_data",
          "data": {
            "image/png": "[encoded data removed]",
            "text/plain": [
              "<Figure size 1008x432 with 1 Axes>"
            ]
          },
          "metadata": {
            "tags": []
          }
        }
      ]
    },
    {
      "cell_type": "markdown",
      "metadata": {
        "id": "gTYTTGEQUvxr"
      },
      "source": [
        "**Observations from baseline classifier results:**\n",
        "1. The prediction for classes 0, 4 (ratings 1 and 5 respectively) are more accurate compared to other 3 classes. It can be infered that in extreme cases the language is more clear but in the rest the language is more subtle/nuanced. \n",
        "2. The class imbalance is one of the reasons for poor performance of the model. Sampling techiques can be applied to create a evenly represented training set. \n",
        "3. The most missclassified class is for rating 3, it is advisable to club the ratings 2 and 3 as both classes have similar sounding language used. "
      ]
    },
    {
      "cell_type": "markdown",
      "metadata": {
        "id": "fuHUIwd98gfb"
      },
      "source": [
        "**Modification to Base Model** \n",
        "1. Model hyperparameters which influence model selection such as the number and width of hidden layers\n",
        "2. Algorithm hyperparameters which influence the speed and quality of the learning algorithm such as the learning rate for Stochastic Gradient Descent (SGD) OR Adam.  "
      ]
    },
    {
      "cell_type": "code",
      "metadata": {
        "id": "cg9B-88ZiwUJ"
      },
      "source": [
        ""
      ],
      "execution_count": null,
      "outputs": []
    },
    {
      "cell_type": "markdown",
      "metadata": {
        "id": "lpALkfSjwL_t"
      },
      "source": [
        "Manual HP Tuning: \n",
        "Proposal 1 \n",
        "1. Vary the Algorithm parameter by keeping the same model parameters. ie Number of hidden layers and units remain the same  while following changes are made to Algorithmic parameters. \n",
        "2. Loss - Sparse categorical crossentropy. \n",
        "3. Optimizer RMS PROP with learning rate = 0.001\n",
        "4. Number of epochs set to 200 "
      ]
    },
    {
      "cell_type": "code",
      "metadata": {
        "colab": {
          "base_uri": "https://localhost:8080/"
        },
        "id": "XWsM5fvJxiJ-",
        "outputId": "8b66d33a-c43a-418c-ddca-d2d5c5a22a80"
      },
      "source": [
        "modified_model = tf.keras.Sequential() \n",
        "modified_model.add(tf.keras.layers.Dense(units=256, input_shape=(x_train.shape[1], ), activation='relu'))\n",
        "modified_model.add(tf.keras.layers.Dropout(rate=0.5)) \n",
        "modified_model.add(tf.keras.layers.Dense(units=128, activation='relu'))\n",
        "modified_model.add(tf.keras.layers.Dropout(rate=0.5)) \n",
        "modified_model.add(tf.keras.layers.Dense(5, activation='softmax'))\n",
        "modified_model.summary() "
      ],
      "execution_count": null,
      "outputs": [
        {
          "output_type": "stream",
          "text": [
            "Model: \"sequential_25\"\n",
            "_________________________________________________________________\n",
            "Layer (type)                 Output Shape              Param #   \n",
            "=================================================================\n",
            "dense_35 (Dense)             (None, 256)               33024     \n",
            "_________________________________________________________________\n",
            "dropout_4 (Dropout)          (None, 256)               0         \n",
            "_________________________________________________________________\n",
            "dense_36 (Dense)             (None, 128)               32896     \n",
            "_________________________________________________________________\n",
            "dropout_5 (Dropout)          (None, 128)               0         \n",
            "_________________________________________________________________\n",
            "dense_37 (Dense)             (None, 5)                 645       \n",
            "=================================================================\n",
            "Total params: 66,565\n",
            "Trainable params: 66,565\n",
            "Non-trainable params: 0\n",
            "_________________________________________________________________\n"
          ],
          "name": "stdout"
        }
      ]
    },
    {
      "cell_type": "code",
      "metadata": {
        "id": "q0rWOtaDxiN0"
      },
      "source": [
        "modified_model.compile(loss=tf.keras.losses.CategoricalCrossentropy(), \n",
        "                       optimizer=tf.keras.optimizers.RMSprop(learning_rate=0.001),\n",
        "                       metrics=[tf.keras.metrics.CategoricalAccuracy()])"
      ],
      "execution_count": null,
      "outputs": []
    },
    {
      "cell_type": "code",
      "metadata": {
        "colab": {
          "base_uri": "https://localhost:8080/"
        },
        "id": "R-j7DWqdxiYE",
        "outputId": "7fa0224e-608f-4dcc-9b26-039108530495"
      },
      "source": [
        "mod_hist = modified_model.fit(x_train, y_train,\n",
        "    epochs=200, validation_split=0.2, verbose=1, shuffle=True) "
      ],
      "execution_count": null,
      "outputs": [
        {
          "output_type": "stream",
          "text": [
            "Epoch 1/200\n",
            "333/333 [==============================] - 2s 3ms/step - loss: 1.2431 - categorical_accuracy: 0.4679 - val_loss: 1.0819 - val_categorical_accuracy: 0.5353\n",
            "Epoch 2/200\n",
            "333/333 [==============================] - 1s 3ms/step - loss: 1.1265 - categorical_accuracy: 0.5149 - val_loss: 1.0702 - val_categorical_accuracy: 0.5402\n",
            "Epoch 3/200\n",
            "333/333 [==============================] - 1s 3ms/step - loss: 1.0965 - categorical_accuracy: 0.5198 - val_loss: 1.0401 - val_categorical_accuracy: 0.5432\n",
            "Epoch 4/200\n",
            "333/333 [==============================] - 1s 3ms/step - loss: 1.0795 - categorical_accuracy: 0.5355 - val_loss: 1.0350 - val_categorical_accuracy: 0.5548\n",
            "Epoch 5/200\n",
            "333/333 [==============================] - 1s 3ms/step - loss: 1.0689 - categorical_accuracy: 0.5388 - val_loss: 1.0388 - val_categorical_accuracy: 0.5503\n",
            "Epoch 6/200\n",
            "333/333 [==============================] - 1s 3ms/step - loss: 1.0585 - categorical_accuracy: 0.5426 - val_loss: 1.0457 - val_categorical_accuracy: 0.5593\n",
            "Epoch 7/200\n",
            "333/333 [==============================] - 1s 3ms/step - loss: 1.0539 - categorical_accuracy: 0.5495 - val_loss: 1.0368 - val_categorical_accuracy: 0.5578\n",
            "Epoch 8/200\n",
            "333/333 [==============================] - 1s 3ms/step - loss: 1.0461 - categorical_accuracy: 0.5574 - val_loss: 1.0420 - val_categorical_accuracy: 0.5563\n",
            "Epoch 9/200\n",
            "333/333 [==============================] - 1s 3ms/step - loss: 1.0389 - categorical_accuracy: 0.5512 - val_loss: 1.0386 - val_categorical_accuracy: 0.5552\n",
            "Epoch 10/200\n",
            "333/333 [==============================] - 1s 3ms/step - loss: 1.0317 - categorical_accuracy: 0.5599 - val_loss: 1.0376 - val_categorical_accuracy: 0.5676\n",
            "Epoch 11/200\n",
            "333/333 [==============================] - 1s 3ms/step - loss: 1.0223 - categorical_accuracy: 0.5611 - val_loss: 1.0419 - val_categorical_accuracy: 0.5574\n",
            "Epoch 12/200\n",
            "333/333 [==============================] - 1s 3ms/step - loss: 1.0183 - categorical_accuracy: 0.5681 - val_loss: 1.0505 - val_categorical_accuracy: 0.5541\n",
            "Epoch 13/200\n",
            "333/333 [==============================] - 1s 3ms/step - loss: 1.0086 - categorical_accuracy: 0.5625 - val_loss: 1.0494 - val_categorical_accuracy: 0.5601\n",
            "Epoch 14/200\n",
            "333/333 [==============================] - 1s 3ms/step - loss: 1.0066 - categorical_accuracy: 0.5672 - val_loss: 1.0620 - val_categorical_accuracy: 0.5552\n",
            "Epoch 15/200\n",
            "333/333 [==============================] - 1s 3ms/step - loss: 1.0010 - categorical_accuracy: 0.5724 - val_loss: 1.0617 - val_categorical_accuracy: 0.5601\n",
            "Epoch 16/200\n",
            "333/333 [==============================] - 1s 3ms/step - loss: 0.9941 - categorical_accuracy: 0.5766 - val_loss: 1.0603 - val_categorical_accuracy: 0.5533\n",
            "Epoch 17/200\n",
            "333/333 [==============================] - 1s 3ms/step - loss: 0.9891 - categorical_accuracy: 0.5749 - val_loss: 1.0831 - val_categorical_accuracy: 0.5480\n",
            "Epoch 18/200\n",
            "333/333 [==============================] - 1s 3ms/step - loss: 0.9724 - categorical_accuracy: 0.5786 - val_loss: 1.0754 - val_categorical_accuracy: 0.5616\n",
            "Epoch 19/200\n",
            "333/333 [==============================] - 1s 3ms/step - loss: 0.9762 - categorical_accuracy: 0.5792 - val_loss: 1.0912 - val_categorical_accuracy: 0.5507\n",
            "Epoch 20/200\n",
            "333/333 [==============================] - 1s 3ms/step - loss: 0.9702 - categorical_accuracy: 0.5824 - val_loss: 1.1107 - val_categorical_accuracy: 0.5492\n",
            "Epoch 21/200\n",
            "333/333 [==============================] - 1s 3ms/step - loss: 0.9611 - categorical_accuracy: 0.5882 - val_loss: 1.0825 - val_categorical_accuracy: 0.5477\n",
            "Epoch 22/200\n",
            "333/333 [==============================] - 1s 3ms/step - loss: 0.9566 - categorical_accuracy: 0.5880 - val_loss: 1.1030 - val_categorical_accuracy: 0.5511\n",
            "Epoch 23/200\n",
            "333/333 [==============================] - 1s 3ms/step - loss: 0.9474 - categorical_accuracy: 0.5969 - val_loss: 1.1063 - val_categorical_accuracy: 0.5477\n",
            "Epoch 24/200\n",
            "333/333 [==============================] - 1s 3ms/step - loss: 0.9458 - categorical_accuracy: 0.5930 - val_loss: 1.1005 - val_categorical_accuracy: 0.5432\n",
            "Epoch 25/200\n",
            "333/333 [==============================] - 1s 3ms/step - loss: 0.9363 - categorical_accuracy: 0.5967 - val_loss: 1.1379 - val_categorical_accuracy: 0.5435\n",
            "Epoch 26/200\n",
            "333/333 [==============================] - 1s 3ms/step - loss: 0.9263 - categorical_accuracy: 0.5962 - val_loss: 1.1133 - val_categorical_accuracy: 0.5409\n",
            "Epoch 27/200\n",
            "333/333 [==============================] - 1s 3ms/step - loss: 0.9216 - categorical_accuracy: 0.6043 - val_loss: 1.1188 - val_categorical_accuracy: 0.5533\n",
            "Epoch 28/200\n",
            "333/333 [==============================] - 1s 3ms/step - loss: 0.9164 - categorical_accuracy: 0.6060 - val_loss: 1.1166 - val_categorical_accuracy: 0.5394\n",
            "Epoch 29/200\n",
            "333/333 [==============================] - 1s 3ms/step - loss: 0.9172 - categorical_accuracy: 0.6057 - val_loss: 1.1419 - val_categorical_accuracy: 0.5469\n",
            "Epoch 30/200\n",
            "333/333 [==============================] - 1s 3ms/step - loss: 0.9084 - categorical_accuracy: 0.6130 - val_loss: 1.1376 - val_categorical_accuracy: 0.5387\n",
            "Epoch 31/200\n",
            "333/333 [==============================] - 1s 3ms/step - loss: 0.8903 - categorical_accuracy: 0.6130 - val_loss: 1.1524 - val_categorical_accuracy: 0.5349\n",
            "Epoch 32/200\n",
            "333/333 [==============================] - 1s 3ms/step - loss: 0.9058 - categorical_accuracy: 0.6160 - val_loss: 1.1436 - val_categorical_accuracy: 0.5526\n",
            "Epoch 33/200\n",
            "333/333 [==============================] - 1s 3ms/step - loss: 0.8901 - categorical_accuracy: 0.6188 - val_loss: 1.2115 - val_categorical_accuracy: 0.5432\n",
            "Epoch 34/200\n",
            "333/333 [==============================] - 1s 3ms/step - loss: 0.8872 - categorical_accuracy: 0.6206 - val_loss: 1.2721 - val_categorical_accuracy: 0.5507\n",
            "Epoch 35/200\n",
            "333/333 [==============================] - 1s 3ms/step - loss: 0.8816 - categorical_accuracy: 0.6214 - val_loss: 1.1909 - val_categorical_accuracy: 0.5349\n",
            "Epoch 36/200\n",
            "333/333 [==============================] - 1s 3ms/step - loss: 0.8684 - categorical_accuracy: 0.6230 - val_loss: 1.1795 - val_categorical_accuracy: 0.5338\n",
            "Epoch 37/200\n",
            "333/333 [==============================] - 1s 3ms/step - loss: 0.8646 - categorical_accuracy: 0.6359 - val_loss: 1.2368 - val_categorical_accuracy: 0.5312\n",
            "Epoch 38/200\n",
            "333/333 [==============================] - 1s 3ms/step - loss: 0.8601 - categorical_accuracy: 0.6306 - val_loss: 1.2004 - val_categorical_accuracy: 0.5387\n",
            "Epoch 39/200\n",
            "333/333 [==============================] - 1s 3ms/step - loss: 0.8573 - categorical_accuracy: 0.6372 - val_loss: 1.2291 - val_categorical_accuracy: 0.5349\n",
            "Epoch 40/200\n",
            "333/333 [==============================] - 1s 3ms/step - loss: 0.8582 - categorical_accuracy: 0.6318 - val_loss: 1.2293 - val_categorical_accuracy: 0.5394\n",
            "Epoch 41/200\n",
            "333/333 [==============================] - 1s 3ms/step - loss: 0.8489 - categorical_accuracy: 0.6369 - val_loss: 1.2378 - val_categorical_accuracy: 0.5225\n",
            "Epoch 42/200\n",
            "333/333 [==============================] - 1s 3ms/step - loss: 0.8506 - categorical_accuracy: 0.6383 - val_loss: 1.2383 - val_categorical_accuracy: 0.5285\n",
            "Epoch 43/200\n",
            "333/333 [==============================] - 1s 3ms/step - loss: 0.8507 - categorical_accuracy: 0.6390 - val_loss: 1.2539 - val_categorical_accuracy: 0.5315\n",
            "Epoch 44/200\n",
            "333/333 [==============================] - 1s 3ms/step - loss: 0.8485 - categorical_accuracy: 0.6389 - val_loss: 1.2547 - val_categorical_accuracy: 0.5345\n",
            "Epoch 45/200\n",
            "333/333 [==============================] - 1s 3ms/step - loss: 0.8323 - categorical_accuracy: 0.6473 - val_loss: 1.2861 - val_categorical_accuracy: 0.5345\n",
            "Epoch 46/200\n",
            "333/333 [==============================] - 1s 3ms/step - loss: 0.8263 - categorical_accuracy: 0.6482 - val_loss: 1.2810 - val_categorical_accuracy: 0.5319\n",
            "Epoch 47/200\n",
            "333/333 [==============================] - 1s 3ms/step - loss: 0.8267 - categorical_accuracy: 0.6465 - val_loss: 1.2759 - val_categorical_accuracy: 0.5293\n",
            "Epoch 48/200\n",
            "333/333 [==============================] - 1s 3ms/step - loss: 0.8188 - categorical_accuracy: 0.6523 - val_loss: 1.3018 - val_categorical_accuracy: 0.5383\n",
            "Epoch 49/200\n",
            "333/333 [==============================] - 1s 3ms/step - loss: 0.8192 - categorical_accuracy: 0.6563 - val_loss: 1.3695 - val_categorical_accuracy: 0.5233\n",
            "Epoch 50/200\n",
            "333/333 [==============================] - 1s 3ms/step - loss: 0.8157 - categorical_accuracy: 0.6552 - val_loss: 1.2837 - val_categorical_accuracy: 0.5297\n",
            "Epoch 51/200\n",
            "333/333 [==============================] - 1s 3ms/step - loss: 0.8070 - categorical_accuracy: 0.6571 - val_loss: 1.3218 - val_categorical_accuracy: 0.5330\n",
            "Epoch 52/200\n",
            "333/333 [==============================] - 1s 3ms/step - loss: 0.8071 - categorical_accuracy: 0.6618 - val_loss: 1.3117 - val_categorical_accuracy: 0.5278\n",
            "Epoch 53/200\n",
            "333/333 [==============================] - 1s 3ms/step - loss: 0.8042 - categorical_accuracy: 0.6561 - val_loss: 1.3378 - val_categorical_accuracy: 0.5357\n",
            "Epoch 54/200\n",
            "333/333 [==============================] - 1s 3ms/step - loss: 0.7962 - categorical_accuracy: 0.6614 - val_loss: 1.3243 - val_categorical_accuracy: 0.5312\n",
            "Epoch 55/200\n",
            "333/333 [==============================] - 1s 3ms/step - loss: 0.7901 - categorical_accuracy: 0.6666 - val_loss: 1.3422 - val_categorical_accuracy: 0.5165\n",
            "Epoch 56/200\n",
            "333/333 [==============================] - 1s 3ms/step - loss: 0.7916 - categorical_accuracy: 0.6668 - val_loss: 1.3323 - val_categorical_accuracy: 0.5357\n",
            "Epoch 57/200\n",
            "333/333 [==============================] - 1s 3ms/step - loss: 0.7804 - categorical_accuracy: 0.6695 - val_loss: 1.3615 - val_categorical_accuracy: 0.5218\n",
            "Epoch 58/200\n",
            "333/333 [==============================] - 1s 3ms/step - loss: 0.7821 - categorical_accuracy: 0.6647 - val_loss: 1.3587 - val_categorical_accuracy: 0.5312\n",
            "Epoch 59/200\n",
            "333/333 [==============================] - 1s 3ms/step - loss: 0.7839 - categorical_accuracy: 0.6676 - val_loss: 1.3469 - val_categorical_accuracy: 0.5278\n",
            "Epoch 60/200\n",
            "333/333 [==============================] - 1s 3ms/step - loss: 0.7846 - categorical_accuracy: 0.6708 - val_loss: 1.3558 - val_categorical_accuracy: 0.5285\n",
            "Epoch 61/200\n",
            "333/333 [==============================] - 1s 3ms/step - loss: 0.7693 - categorical_accuracy: 0.6770 - val_loss: 1.4793 - val_categorical_accuracy: 0.5143\n",
            "Epoch 62/200\n",
            "333/333 [==============================] - 1s 3ms/step - loss: 0.7653 - categorical_accuracy: 0.6753 - val_loss: 1.4062 - val_categorical_accuracy: 0.5375\n",
            "Epoch 63/200\n",
            "333/333 [==============================] - 1s 3ms/step - loss: 0.7661 - categorical_accuracy: 0.6695 - val_loss: 1.4337 - val_categorical_accuracy: 0.5278\n",
            "Epoch 64/200\n",
            "333/333 [==============================] - 1s 3ms/step - loss: 0.7651 - categorical_accuracy: 0.6830 - val_loss: 1.3725 - val_categorical_accuracy: 0.5206\n",
            "Epoch 65/200\n",
            "333/333 [==============================] - 1s 3ms/step - loss: 0.7642 - categorical_accuracy: 0.6757 - val_loss: 1.4024 - val_categorical_accuracy: 0.5278\n",
            "Epoch 66/200\n",
            "333/333 [==============================] - 1s 3ms/step - loss: 0.7509 - categorical_accuracy: 0.6819 - val_loss: 1.4035 - val_categorical_accuracy: 0.5379\n",
            "Epoch 67/200\n",
            "333/333 [==============================] - 1s 3ms/step - loss: 0.7564 - categorical_accuracy: 0.6882 - val_loss: 1.4174 - val_categorical_accuracy: 0.5330\n",
            "Epoch 68/200\n",
            "333/333 [==============================] - 1s 3ms/step - loss: 0.7574 - categorical_accuracy: 0.6812 - val_loss: 1.4379 - val_categorical_accuracy: 0.5225\n",
            "Epoch 69/200\n",
            "333/333 [==============================] - 1s 3ms/step - loss: 0.7499 - categorical_accuracy: 0.6846 - val_loss: 1.4362 - val_categorical_accuracy: 0.5300\n",
            "Epoch 70/200\n",
            "333/333 [==============================] - 1s 3ms/step - loss: 0.7457 - categorical_accuracy: 0.6837 - val_loss: 1.4666 - val_categorical_accuracy: 0.5345\n",
            "Epoch 71/200\n",
            "333/333 [==============================] - 1s 3ms/step - loss: 0.7392 - categorical_accuracy: 0.6902 - val_loss: 1.4905 - val_categorical_accuracy: 0.5285\n",
            "Epoch 72/200\n",
            "333/333 [==============================] - 1s 3ms/step - loss: 0.7446 - categorical_accuracy: 0.6892 - val_loss: 1.4497 - val_categorical_accuracy: 0.5312\n",
            "Epoch 73/200\n",
            "333/333 [==============================] - 1s 3ms/step - loss: 0.7385 - categorical_accuracy: 0.6907 - val_loss: 1.4824 - val_categorical_accuracy: 0.5308\n",
            "Epoch 74/200\n",
            "333/333 [==============================] - 1s 3ms/step - loss: 0.7422 - categorical_accuracy: 0.6881 - val_loss: 1.3962 - val_categorical_accuracy: 0.5278\n",
            "Epoch 75/200\n",
            "333/333 [==============================] - 1s 3ms/step - loss: 0.7241 - categorical_accuracy: 0.7013 - val_loss: 1.5002 - val_categorical_accuracy: 0.5221\n",
            "Epoch 76/200\n",
            "333/333 [==============================] - 1s 3ms/step - loss: 0.7341 - categorical_accuracy: 0.6940 - val_loss: 1.4870 - val_categorical_accuracy: 0.5109\n",
            "Epoch 77/200\n",
            "333/333 [==============================] - 1s 3ms/step - loss: 0.7354 - categorical_accuracy: 0.6955 - val_loss: 1.4780 - val_categorical_accuracy: 0.5154\n",
            "Epoch 78/200\n",
            "333/333 [==============================] - 1s 3ms/step - loss: 0.7171 - categorical_accuracy: 0.6966 - val_loss: 1.5107 - val_categorical_accuracy: 0.5139\n",
            "Epoch 79/200\n",
            "333/333 [==============================] - 1s 3ms/step - loss: 0.7116 - categorical_accuracy: 0.7010 - val_loss: 1.6015 - val_categorical_accuracy: 0.5289\n",
            "Epoch 80/200\n",
            "333/333 [==============================] - 1s 3ms/step - loss: 0.7275 - categorical_accuracy: 0.6994 - val_loss: 1.5809 - val_categorical_accuracy: 0.5252\n",
            "Epoch 81/200\n",
            "333/333 [==============================] - 1s 3ms/step - loss: 0.7133 - categorical_accuracy: 0.7012 - val_loss: 1.5312 - val_categorical_accuracy: 0.5116\n",
            "Epoch 82/200\n",
            "333/333 [==============================] - 1s 3ms/step - loss: 0.6998 - categorical_accuracy: 0.7131 - val_loss: 1.6099 - val_categorical_accuracy: 0.5312\n",
            "Epoch 83/200\n",
            "333/333 [==============================] - 1s 3ms/step - loss: 0.7006 - categorical_accuracy: 0.7066 - val_loss: 1.5596 - val_categorical_accuracy: 0.5210\n",
            "Epoch 84/200\n",
            "333/333 [==============================] - 1s 3ms/step - loss: 0.6901 - categorical_accuracy: 0.7129 - val_loss: 1.5273 - val_categorical_accuracy: 0.5158\n",
            "Epoch 85/200\n",
            "333/333 [==============================] - 1s 3ms/step - loss: 0.7043 - categorical_accuracy: 0.7100 - val_loss: 1.5217 - val_categorical_accuracy: 0.5154\n",
            "Epoch 86/200\n",
            "333/333 [==============================] - 1s 3ms/step - loss: 0.7025 - categorical_accuracy: 0.7123 - val_loss: 1.5272 - val_categorical_accuracy: 0.5128\n",
            "Epoch 87/200\n",
            "333/333 [==============================] - 1s 3ms/step - loss: 0.7023 - categorical_accuracy: 0.7103 - val_loss: 1.5570 - val_categorical_accuracy: 0.5113\n",
            "Epoch 88/200\n",
            "333/333 [==============================] - 1s 3ms/step - loss: 0.6901 - categorical_accuracy: 0.7121 - val_loss: 1.6087 - val_categorical_accuracy: 0.5090\n",
            "Epoch 89/200\n",
            "333/333 [==============================] - 1s 3ms/step - loss: 0.6994 - categorical_accuracy: 0.7080 - val_loss: 1.5305 - val_categorical_accuracy: 0.5195\n",
            "Epoch 90/200\n",
            "333/333 [==============================] - 1s 3ms/step - loss: 0.6930 - categorical_accuracy: 0.7157 - val_loss: 1.6231 - val_categorical_accuracy: 0.5143\n",
            "Epoch 91/200\n",
            "333/333 [==============================] - 1s 3ms/step - loss: 0.6939 - categorical_accuracy: 0.7088 - val_loss: 1.6035 - val_categorical_accuracy: 0.5282\n",
            "Epoch 92/200\n",
            "333/333 [==============================] - 1s 3ms/step - loss: 0.6763 - categorical_accuracy: 0.7202 - val_loss: 1.6038 - val_categorical_accuracy: 0.5165\n",
            "Epoch 93/200\n",
            "333/333 [==============================] - 1s 3ms/step - loss: 0.6833 - categorical_accuracy: 0.7170 - val_loss: 1.7171 - val_categorical_accuracy: 0.5282\n",
            "Epoch 94/200\n",
            "333/333 [==============================] - 1s 3ms/step - loss: 0.6842 - categorical_accuracy: 0.7183 - val_loss: 1.6100 - val_categorical_accuracy: 0.5184\n",
            "Epoch 95/200\n",
            "333/333 [==============================] - 1s 3ms/step - loss: 0.6863 - categorical_accuracy: 0.7174 - val_loss: 1.7091 - val_categorical_accuracy: 0.5191\n",
            "Epoch 96/200\n",
            "333/333 [==============================] - 1s 3ms/step - loss: 0.6903 - categorical_accuracy: 0.7156 - val_loss: 1.6302 - val_categorical_accuracy: 0.5150\n",
            "Epoch 97/200\n",
            "333/333 [==============================] - 1s 3ms/step - loss: 0.6682 - categorical_accuracy: 0.7241 - val_loss: 1.7088 - val_categorical_accuracy: 0.5165\n",
            "Epoch 98/200\n",
            "333/333 [==============================] - 1s 3ms/step - loss: 0.6632 - categorical_accuracy: 0.7262 - val_loss: 1.7588 - val_categorical_accuracy: 0.5169\n",
            "Epoch 99/200\n",
            "333/333 [==============================] - 1s 3ms/step - loss: 0.6738 - categorical_accuracy: 0.7196 - val_loss: 1.6367 - val_categorical_accuracy: 0.5135\n",
            "Epoch 100/200\n",
            "333/333 [==============================] - 1s 3ms/step - loss: 0.6813 - categorical_accuracy: 0.7174 - val_loss: 1.5987 - val_categorical_accuracy: 0.5120\n",
            "Epoch 101/200\n",
            "333/333 [==============================] - 1s 3ms/step - loss: 0.6696 - categorical_accuracy: 0.7243 - val_loss: 1.6931 - val_categorical_accuracy: 0.5169\n",
            "Epoch 102/200\n",
            "333/333 [==============================] - 1s 3ms/step - loss: 0.6693 - categorical_accuracy: 0.7260 - val_loss: 1.7385 - val_categorical_accuracy: 0.5300\n",
            "Epoch 103/200\n",
            "333/333 [==============================] - 1s 3ms/step - loss: 0.6719 - categorical_accuracy: 0.7233 - val_loss: 1.6659 - val_categorical_accuracy: 0.5218\n",
            "Epoch 104/200\n",
            "333/333 [==============================] - 1s 3ms/step - loss: 0.6637 - categorical_accuracy: 0.7242 - val_loss: 1.7360 - val_categorical_accuracy: 0.5161\n",
            "Epoch 105/200\n",
            "333/333 [==============================] - 1s 3ms/step - loss: 0.6518 - categorical_accuracy: 0.7327 - val_loss: 1.7266 - val_categorical_accuracy: 0.5248\n",
            "Epoch 106/200\n",
            "333/333 [==============================] - 1s 3ms/step - loss: 0.6591 - categorical_accuracy: 0.7294 - val_loss: 1.6794 - val_categorical_accuracy: 0.5113\n",
            "Epoch 107/200\n",
            "333/333 [==============================] - 1s 3ms/step - loss: 0.6626 - categorical_accuracy: 0.7252 - val_loss: 1.7443 - val_categorical_accuracy: 0.5075\n",
            "Epoch 108/200\n",
            "333/333 [==============================] - 1s 3ms/step - loss: 0.6549 - categorical_accuracy: 0.7330 - val_loss: 1.6756 - val_categorical_accuracy: 0.5101\n",
            "Epoch 109/200\n",
            "333/333 [==============================] - 1s 3ms/step - loss: 0.6646 - categorical_accuracy: 0.7332 - val_loss: 1.7972 - val_categorical_accuracy: 0.5255\n",
            "Epoch 110/200\n",
            "333/333 [==============================] - 1s 3ms/step - loss: 0.6580 - categorical_accuracy: 0.7324 - val_loss: 1.6644 - val_categorical_accuracy: 0.5120\n",
            "Epoch 111/200\n",
            "333/333 [==============================] - 1s 3ms/step - loss: 0.6520 - categorical_accuracy: 0.7326 - val_loss: 1.7121 - val_categorical_accuracy: 0.5214\n",
            "Epoch 112/200\n",
            "333/333 [==============================] - 1s 3ms/step - loss: 0.6448 - categorical_accuracy: 0.7355 - val_loss: 1.7877 - val_categorical_accuracy: 0.5221\n",
            "Epoch 113/200\n",
            "333/333 [==============================] - 1s 3ms/step - loss: 0.6498 - categorical_accuracy: 0.7366 - val_loss: 1.8094 - val_categorical_accuracy: 0.5105\n",
            "Epoch 114/200\n",
            "333/333 [==============================] - 1s 3ms/step - loss: 0.6469 - categorical_accuracy: 0.7366 - val_loss: 1.7967 - val_categorical_accuracy: 0.5255\n",
            "Epoch 115/200\n",
            "333/333 [==============================] - 1s 3ms/step - loss: 0.6447 - categorical_accuracy: 0.7398 - val_loss: 1.8174 - val_categorical_accuracy: 0.5139\n",
            "Epoch 116/200\n",
            "333/333 [==============================] - 1s 3ms/step - loss: 0.6379 - categorical_accuracy: 0.7391 - val_loss: 1.8694 - val_categorical_accuracy: 0.5071\n",
            "Epoch 117/200\n",
            "333/333 [==============================] - 1s 3ms/step - loss: 0.6442 - categorical_accuracy: 0.7409 - val_loss: 1.7775 - val_categorical_accuracy: 0.5128\n",
            "Epoch 118/200\n",
            "333/333 [==============================] - 1s 3ms/step - loss: 0.6438 - categorical_accuracy: 0.7409 - val_loss: 1.7860 - val_categorical_accuracy: 0.5143\n",
            "Epoch 119/200\n",
            "333/333 [==============================] - 1s 3ms/step - loss: 0.6395 - categorical_accuracy: 0.7400 - val_loss: 1.8344 - val_categorical_accuracy: 0.5176\n",
            "Epoch 120/200\n",
            "333/333 [==============================] - 1s 3ms/step - loss: 0.6444 - categorical_accuracy: 0.7366 - val_loss: 1.8765 - val_categorical_accuracy: 0.5184\n",
            "Epoch 121/200\n",
            "333/333 [==============================] - 1s 3ms/step - loss: 0.6369 - categorical_accuracy: 0.7341 - val_loss: 1.7419 - val_categorical_accuracy: 0.5135\n",
            "Epoch 122/200\n",
            "333/333 [==============================] - 1s 3ms/step - loss: 0.6443 - categorical_accuracy: 0.7354 - val_loss: 1.8465 - val_categorical_accuracy: 0.5030\n",
            "Epoch 123/200\n",
            "333/333 [==============================] - 1s 3ms/step - loss: 0.6246 - categorical_accuracy: 0.7465 - val_loss: 1.7933 - val_categorical_accuracy: 0.5064\n",
            "Epoch 124/200\n",
            "333/333 [==============================] - 1s 3ms/step - loss: 0.6420 - categorical_accuracy: 0.7355 - val_loss: 1.8197 - val_categorical_accuracy: 0.5079\n",
            "Epoch 125/200\n",
            "333/333 [==============================] - 1s 3ms/step - loss: 0.6387 - categorical_accuracy: 0.7414 - val_loss: 1.8911 - val_categorical_accuracy: 0.5113\n",
            "Epoch 126/200\n",
            "333/333 [==============================] - 1s 3ms/step - loss: 0.6375 - categorical_accuracy: 0.7455 - val_loss: 1.8215 - val_categorical_accuracy: 0.5090\n",
            "Epoch 127/200\n",
            "333/333 [==============================] - 1s 3ms/step - loss: 0.6354 - categorical_accuracy: 0.7412 - val_loss: 1.8201 - val_categorical_accuracy: 0.4992\n",
            "Epoch 128/200\n",
            "333/333 [==============================] - 1s 3ms/step - loss: 0.6219 - categorical_accuracy: 0.7483 - val_loss: 1.8567 - val_categorical_accuracy: 0.5098\n",
            "Epoch 129/200\n",
            "333/333 [==============================] - 1s 3ms/step - loss: 0.6172 - categorical_accuracy: 0.7460 - val_loss: 1.8520 - val_categorical_accuracy: 0.5000\n",
            "Epoch 130/200\n",
            "333/333 [==============================] - 1s 3ms/step - loss: 0.6177 - categorical_accuracy: 0.7536 - val_loss: 1.8534 - val_categorical_accuracy: 0.5053\n",
            "Epoch 131/200\n",
            "333/333 [==============================] - 1s 3ms/step - loss: 0.6163 - categorical_accuracy: 0.7514 - val_loss: 1.9400 - val_categorical_accuracy: 0.5045\n",
            "Epoch 132/200\n",
            "333/333 [==============================] - 1s 3ms/step - loss: 0.6118 - categorical_accuracy: 0.7549 - val_loss: 1.8940 - val_categorical_accuracy: 0.5195\n",
            "Epoch 133/200\n",
            "333/333 [==============================] - 1s 3ms/step - loss: 0.6137 - categorical_accuracy: 0.7519 - val_loss: 1.8557 - val_categorical_accuracy: 0.5165\n",
            "Epoch 134/200\n",
            "333/333 [==============================] - 1s 3ms/step - loss: 0.6176 - categorical_accuracy: 0.7496 - val_loss: 1.9028 - val_categorical_accuracy: 0.5169\n",
            "Epoch 135/200\n",
            "333/333 [==============================] - 1s 3ms/step - loss: 0.6148 - categorical_accuracy: 0.7543 - val_loss: 1.8426 - val_categorical_accuracy: 0.5060\n",
            "Epoch 136/200\n",
            "333/333 [==============================] - 1s 3ms/step - loss: 0.6061 - categorical_accuracy: 0.7559 - val_loss: 1.9439 - val_categorical_accuracy: 0.5131\n",
            "Epoch 137/200\n",
            "333/333 [==============================] - 1s 3ms/step - loss: 0.6109 - categorical_accuracy: 0.7540 - val_loss: 1.9235 - val_categorical_accuracy: 0.5041\n",
            "Epoch 138/200\n",
            "333/333 [==============================] - 1s 3ms/step - loss: 0.6072 - categorical_accuracy: 0.7565 - val_loss: 1.9895 - val_categorical_accuracy: 0.5120\n",
            "Epoch 139/200\n",
            "333/333 [==============================] - 1s 3ms/step - loss: 0.6048 - categorical_accuracy: 0.7558 - val_loss: 1.8902 - val_categorical_accuracy: 0.5075\n",
            "Epoch 140/200\n",
            "333/333 [==============================] - 1s 3ms/step - loss: 0.6151 - categorical_accuracy: 0.7561 - val_loss: 1.8937 - val_categorical_accuracy: 0.5086\n",
            "Epoch 141/200\n",
            "333/333 [==============================] - 1s 3ms/step - loss: 0.6042 - categorical_accuracy: 0.7564 - val_loss: 2.0070 - val_categorical_accuracy: 0.5176\n",
            "Epoch 142/200\n",
            "333/333 [==============================] - 1s 3ms/step - loss: 0.6170 - categorical_accuracy: 0.7565 - val_loss: 1.9560 - val_categorical_accuracy: 0.5053\n",
            "Epoch 143/200\n",
            "333/333 [==============================] - 1s 3ms/step - loss: 0.6006 - categorical_accuracy: 0.7626 - val_loss: 1.9299 - val_categorical_accuracy: 0.5116\n",
            "Epoch 144/200\n",
            "333/333 [==============================] - 1s 3ms/step - loss: 0.6020 - categorical_accuracy: 0.7601 - val_loss: 1.9250 - val_categorical_accuracy: 0.5045\n",
            "Epoch 145/200\n",
            "333/333 [==============================] - 1s 3ms/step - loss: 0.6083 - categorical_accuracy: 0.7527 - val_loss: 1.9082 - val_categorical_accuracy: 0.5019\n",
            "Epoch 146/200\n",
            "333/333 [==============================] - 1s 3ms/step - loss: 0.6047 - categorical_accuracy: 0.7580 - val_loss: 1.9574 - val_categorical_accuracy: 0.5120\n",
            "Epoch 147/200\n",
            "333/333 [==============================] - 1s 3ms/step - loss: 0.6058 - categorical_accuracy: 0.7548 - val_loss: 1.9286 - val_categorical_accuracy: 0.5098\n",
            "Epoch 148/200\n",
            "333/333 [==============================] - 1s 3ms/step - loss: 0.6030 - categorical_accuracy: 0.7603 - val_loss: 2.1454 - val_categorical_accuracy: 0.5109\n",
            "Epoch 149/200\n",
            "333/333 [==============================] - 1s 3ms/step - loss: 0.6060 - categorical_accuracy: 0.7556 - val_loss: 1.8499 - val_categorical_accuracy: 0.5004\n",
            "Epoch 150/200\n",
            "333/333 [==============================] - 1s 3ms/step - loss: 0.5889 - categorical_accuracy: 0.7654 - val_loss: 1.9156 - val_categorical_accuracy: 0.5068\n",
            "Epoch 151/200\n",
            "333/333 [==============================] - 1s 3ms/step - loss: 0.5920 - categorical_accuracy: 0.7596 - val_loss: 2.0347 - val_categorical_accuracy: 0.5143\n",
            "Epoch 152/200\n",
            "333/333 [==============================] - 1s 3ms/step - loss: 0.5986 - categorical_accuracy: 0.7625 - val_loss: 2.0402 - val_categorical_accuracy: 0.5146\n",
            "Epoch 153/200\n",
            "333/333 [==============================] - 1s 3ms/step - loss: 0.5968 - categorical_accuracy: 0.7631 - val_loss: 1.9048 - val_categorical_accuracy: 0.5116\n",
            "Epoch 154/200\n",
            "333/333 [==============================] - 1s 3ms/step - loss: 0.5853 - categorical_accuracy: 0.7642 - val_loss: 2.0610 - val_categorical_accuracy: 0.5184\n",
            "Epoch 155/200\n",
            "333/333 [==============================] - 1s 3ms/step - loss: 0.5840 - categorical_accuracy: 0.7702 - val_loss: 2.0238 - val_categorical_accuracy: 0.5109\n",
            "Epoch 156/200\n",
            "333/333 [==============================] - 1s 3ms/step - loss: 0.5966 - categorical_accuracy: 0.7613 - val_loss: 2.0698 - val_categorical_accuracy: 0.5154\n",
            "Epoch 157/200\n",
            "333/333 [==============================] - 1s 3ms/step - loss: 0.5906 - categorical_accuracy: 0.7610 - val_loss: 2.0012 - val_categorical_accuracy: 0.5109\n",
            "Epoch 158/200\n",
            "333/333 [==============================] - 1s 3ms/step - loss: 0.5987 - categorical_accuracy: 0.7601 - val_loss: 2.0632 - val_categorical_accuracy: 0.5131\n",
            "Epoch 159/200\n",
            "333/333 [==============================] - 1s 3ms/step - loss: 0.5783 - categorical_accuracy: 0.7676 - val_loss: 2.0822 - val_categorical_accuracy: 0.5101\n",
            "Epoch 160/200\n",
            "333/333 [==============================] - 1s 3ms/step - loss: 0.5962 - categorical_accuracy: 0.7628 - val_loss: 1.9504 - val_categorical_accuracy: 0.5068\n",
            "Epoch 161/200\n",
            "333/333 [==============================] - 1s 3ms/step - loss: 0.5777 - categorical_accuracy: 0.7687 - val_loss: 2.1010 - val_categorical_accuracy: 0.5135\n",
            "Epoch 162/200\n",
            "333/333 [==============================] - 1s 3ms/step - loss: 0.5892 - categorical_accuracy: 0.7623 - val_loss: 2.0334 - val_categorical_accuracy: 0.5083\n",
            "Epoch 163/200\n",
            "333/333 [==============================] - 1s 3ms/step - loss: 0.5826 - categorical_accuracy: 0.7655 - val_loss: 2.0449 - val_categorical_accuracy: 0.5090\n",
            "Epoch 164/200\n",
            "333/333 [==============================] - 1s 3ms/step - loss: 0.5786 - categorical_accuracy: 0.7712 - val_loss: 2.0239 - val_categorical_accuracy: 0.5090\n",
            "Epoch 165/200\n",
            "333/333 [==============================] - 1s 3ms/step - loss: 0.5663 - categorical_accuracy: 0.7745 - val_loss: 2.0887 - val_categorical_accuracy: 0.5053\n",
            "Epoch 166/200\n",
            "333/333 [==============================] - 1s 3ms/step - loss: 0.5718 - categorical_accuracy: 0.7718 - val_loss: 2.0402 - val_categorical_accuracy: 0.5064\n",
            "Epoch 167/200\n",
            "333/333 [==============================] - 1s 3ms/step - loss: 0.5753 - categorical_accuracy: 0.7679 - val_loss: 2.0231 - val_categorical_accuracy: 0.5101\n",
            "Epoch 168/200\n",
            "333/333 [==============================] - 1s 3ms/step - loss: 0.5747 - categorical_accuracy: 0.7667 - val_loss: 2.0046 - val_categorical_accuracy: 0.5124\n",
            "Epoch 169/200\n",
            "333/333 [==============================] - 1s 3ms/step - loss: 0.5874 - categorical_accuracy: 0.7703 - val_loss: 2.0568 - val_categorical_accuracy: 0.5083\n",
            "Epoch 170/200\n",
            "333/333 [==============================] - 1s 3ms/step - loss: 0.5808 - categorical_accuracy: 0.7721 - val_loss: 2.0806 - val_categorical_accuracy: 0.4959\n",
            "Epoch 171/200\n",
            "333/333 [==============================] - 1s 3ms/step - loss: 0.5756 - categorical_accuracy: 0.7746 - val_loss: 2.0767 - val_categorical_accuracy: 0.5120\n",
            "Epoch 172/200\n",
            "333/333 [==============================] - 1s 3ms/step - loss: 0.5754 - categorical_accuracy: 0.7721 - val_loss: 2.0714 - val_categorical_accuracy: 0.5064\n",
            "Epoch 173/200\n",
            "333/333 [==============================] - 1s 3ms/step - loss: 0.5734 - categorical_accuracy: 0.7718 - val_loss: 2.0940 - val_categorical_accuracy: 0.5128\n",
            "Epoch 174/200\n",
            "333/333 [==============================] - 1s 3ms/step - loss: 0.5692 - categorical_accuracy: 0.7744 - val_loss: 2.1798 - val_categorical_accuracy: 0.5079\n",
            "Epoch 175/200\n",
            "333/333 [==============================] - 1s 3ms/step - loss: 0.5580 - categorical_accuracy: 0.7804 - val_loss: 2.1203 - val_categorical_accuracy: 0.5068\n",
            "Epoch 176/200\n",
            "333/333 [==============================] - 1s 3ms/step - loss: 0.5847 - categorical_accuracy: 0.7700 - val_loss: 2.0889 - val_categorical_accuracy: 0.5023\n",
            "Epoch 177/200\n",
            "333/333 [==============================] - 1s 3ms/step - loss: 0.5640 - categorical_accuracy: 0.7741 - val_loss: 2.1055 - val_categorical_accuracy: 0.5075\n",
            "Epoch 178/200\n",
            "333/333 [==============================] - 1s 3ms/step - loss: 0.5790 - categorical_accuracy: 0.7741 - val_loss: 2.1420 - val_categorical_accuracy: 0.5101\n",
            "Epoch 179/200\n",
            "333/333 [==============================] - 1s 3ms/step - loss: 0.5635 - categorical_accuracy: 0.7757 - val_loss: 2.2331 - val_categorical_accuracy: 0.5090\n",
            "Epoch 180/200\n",
            "333/333 [==============================] - 1s 3ms/step - loss: 0.5689 - categorical_accuracy: 0.7715 - val_loss: 2.1477 - val_categorical_accuracy: 0.5150\n",
            "Epoch 181/200\n",
            "333/333 [==============================] - 1s 3ms/step - loss: 0.5554 - categorical_accuracy: 0.7796 - val_loss: 2.2336 - val_categorical_accuracy: 0.5045\n",
            "Epoch 182/200\n",
            "333/333 [==============================] - 1s 3ms/step - loss: 0.5452 - categorical_accuracy: 0.7828 - val_loss: 2.1858 - val_categorical_accuracy: 0.5116\n",
            "Epoch 183/200\n",
            "333/333 [==============================] - 1s 3ms/step - loss: 0.5657 - categorical_accuracy: 0.7764 - val_loss: 2.0908 - val_categorical_accuracy: 0.5150\n",
            "Epoch 184/200\n",
            "333/333 [==============================] - 1s 3ms/step - loss: 0.5602 - categorical_accuracy: 0.7737 - val_loss: 2.1503 - val_categorical_accuracy: 0.5008\n",
            "Epoch 185/200\n",
            "333/333 [==============================] - 1s 3ms/step - loss: 0.5641 - categorical_accuracy: 0.7772 - val_loss: 2.1258 - val_categorical_accuracy: 0.5041\n",
            "Epoch 186/200\n",
            "333/333 [==============================] - 1s 3ms/step - loss: 0.5713 - categorical_accuracy: 0.7785 - val_loss: 2.2940 - val_categorical_accuracy: 0.5161\n",
            "Epoch 187/200\n",
            "333/333 [==============================] - 1s 3ms/step - loss: 0.5479 - categorical_accuracy: 0.7844 - val_loss: 2.1500 - val_categorical_accuracy: 0.5023\n",
            "Epoch 188/200\n",
            "333/333 [==============================] - 1s 3ms/step - loss: 0.5541 - categorical_accuracy: 0.7771 - val_loss: 2.2273 - val_categorical_accuracy: 0.5023\n",
            "Epoch 189/200\n",
            "333/333 [==============================] - 1s 3ms/step - loss: 0.5593 - categorical_accuracy: 0.7842 - val_loss: 2.2356 - val_categorical_accuracy: 0.5049\n",
            "Epoch 190/200\n",
            "333/333 [==============================] - 1s 3ms/step - loss: 0.5530 - categorical_accuracy: 0.7868 - val_loss: 2.2514 - val_categorical_accuracy: 0.5011\n",
            "Epoch 191/200\n",
            "333/333 [==============================] - 1s 3ms/step - loss: 0.5498 - categorical_accuracy: 0.7810 - val_loss: 2.1714 - val_categorical_accuracy: 0.5094\n",
            "Epoch 192/200\n",
            "333/333 [==============================] - 1s 3ms/step - loss: 0.5499 - categorical_accuracy: 0.7815 - val_loss: 2.3537 - val_categorical_accuracy: 0.4977\n",
            "Epoch 193/200\n",
            "333/333 [==============================] - 1s 3ms/step - loss: 0.5457 - categorical_accuracy: 0.7818 - val_loss: 2.2489 - val_categorical_accuracy: 0.5038\n",
            "Epoch 194/200\n",
            "333/333 [==============================] - 1s 3ms/step - loss: 0.5555 - categorical_accuracy: 0.7815 - val_loss: 2.3735 - val_categorical_accuracy: 0.4985\n",
            "Epoch 195/200\n",
            "333/333 [==============================] - 1s 3ms/step - loss: 0.5536 - categorical_accuracy: 0.7804 - val_loss: 2.3152 - val_categorical_accuracy: 0.5071\n",
            "Epoch 196/200\n",
            "333/333 [==============================] - 1s 3ms/step - loss: 0.5423 - categorical_accuracy: 0.7834 - val_loss: 2.2230 - val_categorical_accuracy: 0.5113\n",
            "Epoch 197/200\n",
            "333/333 [==============================] - 1s 3ms/step - loss: 0.5505 - categorical_accuracy: 0.7824 - val_loss: 2.2295 - val_categorical_accuracy: 0.5041\n",
            "Epoch 198/200\n",
            "333/333 [==============================] - 1s 3ms/step - loss: 0.5623 - categorical_accuracy: 0.7805 - val_loss: 2.2269 - val_categorical_accuracy: 0.4970\n",
            "Epoch 199/200\n",
            "333/333 [==============================] - 1s 3ms/step - loss: 0.5522 - categorical_accuracy: 0.7818 - val_loss: 2.3194 - val_categorical_accuracy: 0.5090\n",
            "Epoch 200/200\n",
            "333/333 [==============================] - 1s 3ms/step - loss: 0.5502 - categorical_accuracy: 0.7828 - val_loss: 2.2812 - val_categorical_accuracy: 0.5041\n"
          ],
          "name": "stdout"
        }
      ]
    },
    {
      "cell_type": "code",
      "metadata": {
        "colab": {
          "base_uri": "https://localhost:8080/",
          "height": 179
        },
        "id": "DCHgWQ71xii8",
        "outputId": "f7c6d2db-6735-4c3b-803f-8724cbdd78e4"
      },
      "source": [
        "fig, ax = plt.subplots(1, 2, figsize=(20, 3))\n",
        "ax = ax.ravel()\n",
        "\n",
        "for i, metric in enumerate(['categorical_accuracy', 'loss']):\n",
        "    ax[i].plot(mod_hist.history[metric])\n",
        "    ax[i].plot(mod_hist.history[\"val_\" + metric])\n",
        "    ax[i].set_title(\"Model {}\".format(metric))\n",
        "    ax[i].set_xlabel(\"epochs\")\n",
        "    ax[i].set_ylabel(metric)\n",
        "    ax[i].legend([\"train\", \"val\"])"
      ],
      "execution_count": null,
      "outputs": [
        {
          "output_type": "display_data",
          "data": {
            "image/png": "[encoded data removed]",
            "text/plain": [
              "<Figure size 1440x216 with 2 Axes>"
            ]
          },
          "metadata": {
            "tags": []
          }
        }
      ]
    },
    {
      "cell_type": "markdown",
      "metadata": {
        "id": "LPvtRWQkHPsS"
      },
      "source": [
        "Model is clearly overfitting with no improvement in val_accuracy. Opting for Adam optimizer. "
      ]
    },
    {
      "cell_type": "code",
      "metadata": {
        "colab": {
          "base_uri": "https://localhost:8080/"
        },
        "id": "HLtk-Q_tDvRs",
        "outputId": "827cf8de-1744-454c-c444-c13fda9b8cf8"
      },
      "source": [
        "modified_model.compile(loss=tf.keras.losses.CategoricalCrossentropy(), \n",
        "                       optimizer=tf.keras.optimizers.Adam(learning_rate=0.001),\n",
        "                       metrics=['accuracy'])   \n",
        "\n",
        "mod_hist2 = modified_model.fit(x_train, y_train,\n",
        "    epochs=200, validation_split=0.2, verbose=1, shuffle=True) "
      ],
      "execution_count": null,
      "outputs": [
        {
          "output_type": "stream",
          "text": [
            "Epoch 1/200\n",
            "333/333 [==============================] - 1s 3ms/step - loss: 0.5539 - accuracy: 0.7810 - val_loss: 2.1305 - val_accuracy: 0.5053\n",
            "Epoch 2/200\n",
            "333/333 [==============================] - 1s 3ms/step - loss: 0.5741 - accuracy: 0.7714 - val_loss: 2.0482 - val_accuracy: 0.5071\n",
            "Epoch 3/200\n",
            "333/333 [==============================] - 1s 3ms/step - loss: 0.5679 - accuracy: 0.7693 - val_loss: 1.9874 - val_accuracy: 0.4951\n",
            "Epoch 4/200\n",
            "333/333 [==============================] - 1s 3ms/step - loss: 0.5507 - accuracy: 0.7802 - val_loss: 2.0123 - val_accuracy: 0.5083\n",
            "Epoch 5/200\n",
            "333/333 [==============================] - 1s 3ms/step - loss: 0.5679 - accuracy: 0.7722 - val_loss: 2.0518 - val_accuracy: 0.5079\n",
            "Epoch 6/200\n",
            "333/333 [==============================] - 1s 3ms/step - loss: 0.5538 - accuracy: 0.7767 - val_loss: 2.2600 - val_accuracy: 0.4996\n",
            "Epoch 7/200\n",
            "333/333 [==============================] - 1s 3ms/step - loss: 0.5660 - accuracy: 0.7733 - val_loss: 1.9922 - val_accuracy: 0.4929\n",
            "Epoch 8/200\n",
            "333/333 [==============================] - 1s 3ms/step - loss: 0.5500 - accuracy: 0.7794 - val_loss: 2.0873 - val_accuracy: 0.5011\n",
            "Epoch 9/200\n",
            "333/333 [==============================] - 1s 3ms/step - loss: 0.5502 - accuracy: 0.7769 - val_loss: 2.1180 - val_accuracy: 0.5026\n",
            "Epoch 10/200\n",
            "333/333 [==============================] - 1s 3ms/step - loss: 0.5455 - accuracy: 0.7783 - val_loss: 2.3224 - val_accuracy: 0.5075\n",
            "Epoch 11/200\n",
            "333/333 [==============================] - 1s 3ms/step - loss: 0.5550 - accuracy: 0.7782 - val_loss: 2.1806 - val_accuracy: 0.5045\n",
            "Epoch 12/200\n",
            "333/333 [==============================] - 1s 3ms/step - loss: 0.5432 - accuracy: 0.7754 - val_loss: 2.1304 - val_accuracy: 0.4910\n",
            "Epoch 13/200\n",
            "333/333 [==============================] - 1s 3ms/step - loss: 0.5453 - accuracy: 0.7752 - val_loss: 2.2528 - val_accuracy: 0.4914\n",
            "Epoch 14/200\n",
            "333/333 [==============================] - 1s 3ms/step - loss: 0.5322 - accuracy: 0.7800 - val_loss: 2.1333 - val_accuracy: 0.4854\n",
            "Epoch 15/200\n",
            "333/333 [==============================] - 1s 3ms/step - loss: 0.5276 - accuracy: 0.7839 - val_loss: 2.1995 - val_accuracy: 0.5083\n",
            "Epoch 16/200\n",
            "333/333 [==============================] - 1s 3ms/step - loss: 0.5214 - accuracy: 0.7850 - val_loss: 2.3284 - val_accuracy: 0.5045\n",
            "Epoch 17/200\n",
            "333/333 [==============================] - 1s 3ms/step - loss: 0.5305 - accuracy: 0.7841 - val_loss: 2.1592 - val_accuracy: 0.5053\n",
            "Epoch 18/200\n",
            "333/333 [==============================] - 1s 3ms/step - loss: 0.5379 - accuracy: 0.7825 - val_loss: 2.1578 - val_accuracy: 0.4970\n",
            "Epoch 19/200\n",
            "333/333 [==============================] - 1s 3ms/step - loss: 0.5194 - accuracy: 0.7861 - val_loss: 2.1911 - val_accuracy: 0.4981\n",
            "Epoch 20/200\n",
            "333/333 [==============================] - 1s 3ms/step - loss: 0.5222 - accuracy: 0.7866 - val_loss: 2.1760 - val_accuracy: 0.4966\n",
            "Epoch 21/200\n",
            "333/333 [==============================] - 1s 3ms/step - loss: 0.5144 - accuracy: 0.7855 - val_loss: 2.2631 - val_accuracy: 0.5045\n",
            "Epoch 22/200\n",
            "333/333 [==============================] - 1s 3ms/step - loss: 0.5120 - accuracy: 0.7902 - val_loss: 2.2535 - val_accuracy: 0.5060\n",
            "Epoch 23/200\n",
            "333/333 [==============================] - 1s 3ms/step - loss: 0.5017 - accuracy: 0.7917 - val_loss: 2.4527 - val_accuracy: 0.5079\n",
            "Epoch 24/200\n",
            "333/333 [==============================] - 1s 3ms/step - loss: 0.5080 - accuracy: 0.7890 - val_loss: 2.3403 - val_accuracy: 0.5034\n",
            "Epoch 25/200\n",
            "333/333 [==============================] - 1s 3ms/step - loss: 0.5145 - accuracy: 0.7866 - val_loss: 2.3634 - val_accuracy: 0.5060\n",
            "Epoch 26/200\n",
            "333/333 [==============================] - 1s 3ms/step - loss: 0.5064 - accuracy: 0.7890 - val_loss: 2.4052 - val_accuracy: 0.5060\n",
            "Epoch 27/200\n",
            "333/333 [==============================] - 1s 3ms/step - loss: 0.5087 - accuracy: 0.7864 - val_loss: 2.2661 - val_accuracy: 0.5034\n",
            "Epoch 28/200\n",
            "333/333 [==============================] - 1s 3ms/step - loss: 0.5097 - accuracy: 0.7963 - val_loss: 2.3203 - val_accuracy: 0.5053\n",
            "Epoch 29/200\n",
            "333/333 [==============================] - 1s 3ms/step - loss: 0.5087 - accuracy: 0.7900 - val_loss: 2.4220 - val_accuracy: 0.5075\n",
            "Epoch 30/200\n",
            "333/333 [==============================] - 1s 3ms/step - loss: 0.4948 - accuracy: 0.7970 - val_loss: 2.3833 - val_accuracy: 0.4981\n",
            "Epoch 31/200\n",
            "333/333 [==============================] - 1s 3ms/step - loss: 0.5089 - accuracy: 0.7897 - val_loss: 2.3590 - val_accuracy: 0.5090\n",
            "Epoch 32/200\n",
            "333/333 [==============================] - 1s 3ms/step - loss: 0.4959 - accuracy: 0.8001 - val_loss: 2.4059 - val_accuracy: 0.4974\n",
            "Epoch 33/200\n",
            "333/333 [==============================] - 1s 3ms/step - loss: 0.4886 - accuracy: 0.7974 - val_loss: 2.4475 - val_accuracy: 0.5023\n",
            "Epoch 34/200\n",
            "333/333 [==============================] - 1s 3ms/step - loss: 0.4865 - accuracy: 0.7988 - val_loss: 2.3963 - val_accuracy: 0.4989\n",
            "Epoch 35/200\n",
            "333/333 [==============================] - 1s 3ms/step - loss: 0.5019 - accuracy: 0.7882 - val_loss: 2.3857 - val_accuracy: 0.5083\n",
            "Epoch 36/200\n",
            "333/333 [==============================] - 1s 3ms/step - loss: 0.4903 - accuracy: 0.7978 - val_loss: 2.4282 - val_accuracy: 0.4992\n",
            "Epoch 37/200\n",
            "333/333 [==============================] - 1s 3ms/step - loss: 0.4790 - accuracy: 0.8002 - val_loss: 2.4275 - val_accuracy: 0.5034\n",
            "Epoch 38/200\n",
            "333/333 [==============================] - 1s 3ms/step - loss: 0.4863 - accuracy: 0.8021 - val_loss: 2.5161 - val_accuracy: 0.4936\n",
            "Epoch 39/200\n",
            "333/333 [==============================] - 1s 3ms/step - loss: 0.4837 - accuracy: 0.7966 - val_loss: 2.5231 - val_accuracy: 0.5041\n",
            "Epoch 40/200\n",
            "333/333 [==============================] - 1s 3ms/step - loss: 0.4817 - accuracy: 0.8021 - val_loss: 2.5166 - val_accuracy: 0.5004\n",
            "Epoch 41/200\n",
            "333/333 [==============================] - 1s 3ms/step - loss: 0.4869 - accuracy: 0.7999 - val_loss: 2.4995 - val_accuracy: 0.5056\n",
            "Epoch 42/200\n",
            "333/333 [==============================] - 1s 3ms/step - loss: 0.4871 - accuracy: 0.7909 - val_loss: 2.5396 - val_accuracy: 0.5030\n",
            "Epoch 43/200\n",
            "333/333 [==============================] - 1s 3ms/step - loss: 0.4783 - accuracy: 0.8036 - val_loss: 2.5492 - val_accuracy: 0.4989\n",
            "Epoch 44/200\n",
            "333/333 [==============================] - 1s 3ms/step - loss: 0.4907 - accuracy: 0.7953 - val_loss: 2.5189 - val_accuracy: 0.5041\n",
            "Epoch 45/200\n",
            "333/333 [==============================] - 1s 3ms/step - loss: 0.4786 - accuracy: 0.8015 - val_loss: 2.5767 - val_accuracy: 0.5015\n",
            "Epoch 46/200\n",
            "333/333 [==============================] - 1s 3ms/step - loss: 0.4719 - accuracy: 0.7987 - val_loss: 2.5569 - val_accuracy: 0.4947\n",
            "Epoch 47/200\n",
            "333/333 [==============================] - 1s 3ms/step - loss: 0.4747 - accuracy: 0.8008 - val_loss: 2.6667 - val_accuracy: 0.4977\n",
            "Epoch 48/200\n",
            "333/333 [==============================] - 1s 3ms/step - loss: 0.4853 - accuracy: 0.8008 - val_loss: 2.5540 - val_accuracy: 0.5000\n",
            "Epoch 49/200\n",
            "333/333 [==============================] - 1s 3ms/step - loss: 0.4772 - accuracy: 0.8016 - val_loss: 2.6115 - val_accuracy: 0.5139\n",
            "Epoch 50/200\n",
            "333/333 [==============================] - 1s 3ms/step - loss: 0.4705 - accuracy: 0.7999 - val_loss: 2.6166 - val_accuracy: 0.5030\n",
            "Epoch 51/200\n",
            "333/333 [==============================] - 1s 3ms/step - loss: 0.4687 - accuracy: 0.7979 - val_loss: 2.5943 - val_accuracy: 0.4932\n",
            "Epoch 52/200\n",
            "333/333 [==============================] - 1s 3ms/step - loss: 0.4769 - accuracy: 0.8046 - val_loss: 2.5442 - val_accuracy: 0.5101\n",
            "Epoch 53/200\n",
            "333/333 [==============================] - 1s 3ms/step - loss: 0.4620 - accuracy: 0.8074 - val_loss: 2.6437 - val_accuracy: 0.5045\n",
            "Epoch 54/200\n",
            "333/333 [==============================] - 1s 3ms/step - loss: 0.4640 - accuracy: 0.8098 - val_loss: 2.6810 - val_accuracy: 0.5011\n",
            "Epoch 55/200\n",
            "333/333 [==============================] - 1s 3ms/step - loss: 0.4484 - accuracy: 0.8131 - val_loss: 2.6817 - val_accuracy: 0.4959\n",
            "Epoch 56/200\n",
            "333/333 [==============================] - 1s 3ms/step - loss: 0.4643 - accuracy: 0.8058 - val_loss: 2.7392 - val_accuracy: 0.4989\n",
            "Epoch 57/200\n",
            "333/333 [==============================] - 1s 3ms/step - loss: 0.4496 - accuracy: 0.8112 - val_loss: 2.8801 - val_accuracy: 0.5060\n",
            "Epoch 58/200\n",
            "333/333 [==============================] - 1s 3ms/step - loss: 0.4589 - accuracy: 0.8079 - val_loss: 2.8850 - val_accuracy: 0.5086\n",
            "Epoch 59/200\n",
            "333/333 [==============================] - 1s 3ms/step - loss: 0.4663 - accuracy: 0.8070 - val_loss: 2.7661 - val_accuracy: 0.5000\n",
            "Epoch 60/200\n",
            "333/333 [==============================] - 1s 3ms/step - loss: 0.4661 - accuracy: 0.8049 - val_loss: 2.7449 - val_accuracy: 0.5034\n",
            "Epoch 61/200\n",
            "333/333 [==============================] - 1s 3ms/step - loss: 0.4583 - accuracy: 0.8087 - val_loss: 2.7014 - val_accuracy: 0.5041\n",
            "Epoch 62/200\n",
            "333/333 [==============================] - 1s 3ms/step - loss: 0.4533 - accuracy: 0.8094 - val_loss: 2.5653 - val_accuracy: 0.5011\n",
            "Epoch 63/200\n",
            "333/333 [==============================] - 1s 3ms/step - loss: 0.4603 - accuracy: 0.8095 - val_loss: 2.7053 - val_accuracy: 0.5131\n",
            "Epoch 64/200\n",
            "333/333 [==============================] - 1s 3ms/step - loss: 0.4551 - accuracy: 0.8092 - val_loss: 2.7471 - val_accuracy: 0.5011\n",
            "Epoch 65/200\n",
            "333/333 [==============================] - 1s 3ms/step - loss: 0.4488 - accuracy: 0.8137 - val_loss: 2.8548 - val_accuracy: 0.4906\n",
            "Epoch 66/200\n",
            "333/333 [==============================] - 1s 3ms/step - loss: 0.4495 - accuracy: 0.8098 - val_loss: 2.8105 - val_accuracy: 0.5015\n",
            "Epoch 67/200\n",
            "333/333 [==============================] - 1s 3ms/step - loss: 0.4612 - accuracy: 0.8042 - val_loss: 2.7873 - val_accuracy: 0.5000\n",
            "Epoch 68/200\n",
            "333/333 [==============================] - 1s 3ms/step - loss: 0.4531 - accuracy: 0.8104 - val_loss: 2.9343 - val_accuracy: 0.5026\n",
            "Epoch 69/200\n",
            "333/333 [==============================] - 1s 3ms/step - loss: 0.4384 - accuracy: 0.8161 - val_loss: 2.9173 - val_accuracy: 0.4966\n",
            "Epoch 70/200\n",
            "333/333 [==============================] - 1s 3ms/step - loss: 0.4444 - accuracy: 0.8154 - val_loss: 2.7210 - val_accuracy: 0.5075\n",
            "Epoch 71/200\n",
            "333/333 [==============================] - 1s 3ms/step - loss: 0.4423 - accuracy: 0.8165 - val_loss: 2.9960 - val_accuracy: 0.5023\n",
            "Epoch 72/200\n",
            "333/333 [==============================] - 1s 3ms/step - loss: 0.4446 - accuracy: 0.8114 - val_loss: 2.8054 - val_accuracy: 0.4977\n",
            "Epoch 73/200\n",
            "333/333 [==============================] - 1s 3ms/step - loss: 0.4315 - accuracy: 0.8204 - val_loss: 3.0118 - val_accuracy: 0.5090\n",
            "Epoch 74/200\n",
            "333/333 [==============================] - 1s 3ms/step - loss: 0.4457 - accuracy: 0.8176 - val_loss: 2.9894 - val_accuracy: 0.5068\n",
            "Epoch 75/200\n",
            "333/333 [==============================] - 1s 3ms/step - loss: 0.4613 - accuracy: 0.8122 - val_loss: 2.6069 - val_accuracy: 0.4959\n",
            "Epoch 76/200\n",
            "333/333 [==============================] - 1s 3ms/step - loss: 0.4353 - accuracy: 0.8149 - val_loss: 2.8263 - val_accuracy: 0.4970\n",
            "Epoch 77/200\n",
            "333/333 [==============================] - 1s 3ms/step - loss: 0.4295 - accuracy: 0.8220 - val_loss: 2.9543 - val_accuracy: 0.5023\n",
            "Epoch 78/200\n",
            "333/333 [==============================] - 1s 3ms/step - loss: 0.4312 - accuracy: 0.8181 - val_loss: 2.9152 - val_accuracy: 0.5030\n",
            "Epoch 79/200\n",
            "333/333 [==============================] - 1s 3ms/step - loss: 0.4439 - accuracy: 0.8160 - val_loss: 3.0189 - val_accuracy: 0.5026\n",
            "Epoch 80/200\n",
            "333/333 [==============================] - 1s 3ms/step - loss: 0.4507 - accuracy: 0.8120 - val_loss: 2.9685 - val_accuracy: 0.5041\n",
            "Epoch 81/200\n",
            "333/333 [==============================] - 1s 3ms/step - loss: 0.4386 - accuracy: 0.8142 - val_loss: 2.9754 - val_accuracy: 0.5026\n",
            "Epoch 82/200\n",
            "333/333 [==============================] - 1s 3ms/step - loss: 0.4494 - accuracy: 0.8148 - val_loss: 2.8083 - val_accuracy: 0.4959\n",
            "Epoch 83/200\n",
            "333/333 [==============================] - 1s 3ms/step - loss: 0.4163 - accuracy: 0.8261 - val_loss: 3.0181 - val_accuracy: 0.4970\n",
            "Epoch 84/200\n",
            "333/333 [==============================] - 1s 3ms/step - loss: 0.4454 - accuracy: 0.8086 - val_loss: 2.9734 - val_accuracy: 0.4974\n",
            "Epoch 85/200\n",
            "333/333 [==============================] - 1s 3ms/step - loss: 0.4531 - accuracy: 0.8142 - val_loss: 2.9998 - val_accuracy: 0.5079\n",
            "Epoch 86/200\n",
            "333/333 [==============================] - 1s 3ms/step - loss: 0.4216 - accuracy: 0.8252 - val_loss: 2.9495 - val_accuracy: 0.4910\n",
            "Epoch 87/200\n",
            "333/333 [==============================] - 1s 3ms/step - loss: 0.4531 - accuracy: 0.8092 - val_loss: 2.9849 - val_accuracy: 0.5105\n",
            "Epoch 88/200\n",
            "333/333 [==============================] - 1s 3ms/step - loss: 0.4364 - accuracy: 0.8230 - val_loss: 2.9726 - val_accuracy: 0.4977\n",
            "Epoch 89/200\n",
            "333/333 [==============================] - 1s 3ms/step - loss: 0.4276 - accuracy: 0.8211 - val_loss: 3.1265 - val_accuracy: 0.4977\n",
            "Epoch 90/200\n",
            "333/333 [==============================] - 1s 3ms/step - loss: 0.4253 - accuracy: 0.8216 - val_loss: 2.8106 - val_accuracy: 0.5030\n",
            "Epoch 91/200\n",
            "333/333 [==============================] - 1s 3ms/step - loss: 0.4318 - accuracy: 0.8197 - val_loss: 2.9535 - val_accuracy: 0.5041\n",
            "Epoch 92/200\n",
            "333/333 [==============================] - 1s 3ms/step - loss: 0.4283 - accuracy: 0.8231 - val_loss: 3.1088 - val_accuracy: 0.4970\n",
            "Epoch 93/200\n",
            "333/333 [==============================] - 1s 3ms/step - loss: 0.4194 - accuracy: 0.8225 - val_loss: 3.0419 - val_accuracy: 0.4962\n",
            "Epoch 94/200\n",
            "333/333 [==============================] - 1s 3ms/step - loss: 0.4233 - accuracy: 0.8238 - val_loss: 2.9940 - val_accuracy: 0.5041\n",
            "Epoch 95/200\n",
            "333/333 [==============================] - 1s 3ms/step - loss: 0.4136 - accuracy: 0.8301 - val_loss: 3.2301 - val_accuracy: 0.4981\n",
            "Epoch 96/200\n",
            "333/333 [==============================] - 1s 3ms/step - loss: 0.4279 - accuracy: 0.8219 - val_loss: 3.1019 - val_accuracy: 0.4966\n",
            "Epoch 97/200\n",
            "333/333 [==============================] - 1s 3ms/step - loss: 0.4353 - accuracy: 0.8157 - val_loss: 3.0665 - val_accuracy: 0.4989\n",
            "Epoch 98/200\n",
            "333/333 [==============================] - 1s 3ms/step - loss: 0.4181 - accuracy: 0.8225 - val_loss: 3.1594 - val_accuracy: 0.4996\n",
            "Epoch 99/200\n",
            "333/333 [==============================] - 1s 3ms/step - loss: 0.4344 - accuracy: 0.8107 - val_loss: 3.0957 - val_accuracy: 0.5011\n",
            "Epoch 100/200\n",
            "333/333 [==============================] - 1s 3ms/step - loss: 0.4194 - accuracy: 0.8246 - val_loss: 3.2243 - val_accuracy: 0.4992\n",
            "Epoch 101/200\n",
            "333/333 [==============================] - 1s 3ms/step - loss: 0.4168 - accuracy: 0.8282 - val_loss: 3.1712 - val_accuracy: 0.5120\n",
            "Epoch 102/200\n",
            "333/333 [==============================] - 1s 3ms/step - loss: 0.4164 - accuracy: 0.8245 - val_loss: 3.2569 - val_accuracy: 0.4966\n",
            "Epoch 103/200\n",
            "333/333 [==============================] - 1s 3ms/step - loss: 0.4281 - accuracy: 0.8198 - val_loss: 3.1206 - val_accuracy: 0.5034\n",
            "Epoch 104/200\n",
            "333/333 [==============================] - 1s 3ms/step - loss: 0.4050 - accuracy: 0.8290 - val_loss: 3.3646 - val_accuracy: 0.4981\n",
            "Epoch 105/200\n",
            "333/333 [==============================] - 1s 3ms/step - loss: 0.4077 - accuracy: 0.8273 - val_loss: 3.1230 - val_accuracy: 0.4929\n",
            "Epoch 106/200\n",
            "333/333 [==============================] - 1s 3ms/step - loss: 0.4152 - accuracy: 0.8247 - val_loss: 3.2481 - val_accuracy: 0.4992\n",
            "Epoch 107/200\n",
            "333/333 [==============================] - 1s 3ms/step - loss: 0.4038 - accuracy: 0.8303 - val_loss: 3.2078 - val_accuracy: 0.5038\n",
            "Epoch 108/200\n",
            "333/333 [==============================] - 1s 3ms/step - loss: 0.4057 - accuracy: 0.8286 - val_loss: 3.2698 - val_accuracy: 0.4985\n",
            "Epoch 109/200\n",
            "333/333 [==============================] - 1s 3ms/step - loss: 0.4075 - accuracy: 0.8302 - val_loss: 3.2002 - val_accuracy: 0.5083\n",
            "Epoch 110/200\n",
            "333/333 [==============================] - 1s 3ms/step - loss: 0.4201 - accuracy: 0.8263 - val_loss: 3.1942 - val_accuracy: 0.5038\n",
            "Epoch 111/200\n",
            "333/333 [==============================] - 1s 3ms/step - loss: 0.4048 - accuracy: 0.8342 - val_loss: 3.2867 - val_accuracy: 0.4992\n",
            "Epoch 112/200\n",
            "333/333 [==============================] - 1s 3ms/step - loss: 0.4224 - accuracy: 0.8269 - val_loss: 3.3117 - val_accuracy: 0.5015\n",
            "Epoch 113/200\n",
            "333/333 [==============================] - 1s 3ms/step - loss: 0.4106 - accuracy: 0.8271 - val_loss: 3.1753 - val_accuracy: 0.5004\n",
            "Epoch 114/200\n",
            "333/333 [==============================] - 1s 3ms/step - loss: 0.4120 - accuracy: 0.8267 - val_loss: 3.2239 - val_accuracy: 0.5086\n",
            "Epoch 115/200\n",
            "333/333 [==============================] - 1s 3ms/step - loss: 0.4107 - accuracy: 0.8302 - val_loss: 3.2507 - val_accuracy: 0.4970\n",
            "Epoch 116/200\n",
            "333/333 [==============================] - 1s 3ms/step - loss: 0.3956 - accuracy: 0.8284 - val_loss: 3.5570 - val_accuracy: 0.5041\n",
            "Epoch 117/200\n",
            "333/333 [==============================] - 1s 3ms/step - loss: 0.4134 - accuracy: 0.8264 - val_loss: 3.3361 - val_accuracy: 0.5060\n",
            "Epoch 118/200\n",
            "333/333 [==============================] - 1s 3ms/step - loss: 0.3971 - accuracy: 0.8329 - val_loss: 3.2207 - val_accuracy: 0.4989\n",
            "Epoch 119/200\n",
            "333/333 [==============================] - 1s 3ms/step - loss: 0.4026 - accuracy: 0.8279 - val_loss: 3.2486 - val_accuracy: 0.5105\n",
            "Epoch 120/200\n",
            "333/333 [==============================] - 1s 3ms/step - loss: 0.3952 - accuracy: 0.8331 - val_loss: 3.3786 - val_accuracy: 0.5124\n",
            "Epoch 121/200\n",
            "333/333 [==============================] - 1s 3ms/step - loss: 0.4164 - accuracy: 0.8276 - val_loss: 3.3003 - val_accuracy: 0.5083\n",
            "Epoch 122/200\n",
            "333/333 [==============================] - 1s 3ms/step - loss: 0.3984 - accuracy: 0.8330 - val_loss: 3.2263 - val_accuracy: 0.4955\n",
            "Epoch 123/200\n",
            "333/333 [==============================] - 1s 3ms/step - loss: 0.4209 - accuracy: 0.8260 - val_loss: 3.2397 - val_accuracy: 0.5101\n",
            "Epoch 124/200\n",
            "333/333 [==============================] - 1s 3ms/step - loss: 0.3985 - accuracy: 0.8287 - val_loss: 3.4013 - val_accuracy: 0.5105\n",
            "Epoch 125/200\n",
            "333/333 [==============================] - 1s 3ms/step - loss: 0.4039 - accuracy: 0.8297 - val_loss: 3.4141 - val_accuracy: 0.5019\n",
            "Epoch 126/200\n",
            "333/333 [==============================] - 1s 3ms/step - loss: 0.4038 - accuracy: 0.8346 - val_loss: 3.2700 - val_accuracy: 0.4996\n",
            "Epoch 127/200\n",
            "333/333 [==============================] - 1s 3ms/step - loss: 0.4112 - accuracy: 0.8242 - val_loss: 3.2498 - val_accuracy: 0.4951\n",
            "Epoch 128/200\n",
            "333/333 [==============================] - 1s 3ms/step - loss: 0.4053 - accuracy: 0.8297 - val_loss: 3.2661 - val_accuracy: 0.4925\n",
            "Epoch 129/200\n",
            "333/333 [==============================] - 1s 3ms/step - loss: 0.4048 - accuracy: 0.8268 - val_loss: 3.4607 - val_accuracy: 0.5060\n",
            "Epoch 130/200\n",
            "333/333 [==============================] - 1s 3ms/step - loss: 0.3929 - accuracy: 0.8347 - val_loss: 3.4012 - val_accuracy: 0.5068\n",
            "Epoch 131/200\n",
            "333/333 [==============================] - 1s 3ms/step - loss: 0.3799 - accuracy: 0.8389 - val_loss: 3.2741 - val_accuracy: 0.5004\n",
            "Epoch 132/200\n",
            "333/333 [==============================] - 1s 3ms/step - loss: 0.3939 - accuracy: 0.8373 - val_loss: 3.3953 - val_accuracy: 0.5060\n",
            "Epoch 133/200\n",
            "333/333 [==============================] - 1s 3ms/step - loss: 0.3894 - accuracy: 0.8350 - val_loss: 3.2600 - val_accuracy: 0.5049\n",
            "Epoch 134/200\n",
            "333/333 [==============================] - 1s 3ms/step - loss: 0.3904 - accuracy: 0.8332 - val_loss: 3.5471 - val_accuracy: 0.5011\n",
            "Epoch 135/200\n",
            "333/333 [==============================] - 1s 3ms/step - loss: 0.4022 - accuracy: 0.8328 - val_loss: 3.1272 - val_accuracy: 0.4891\n",
            "Epoch 136/200\n",
            "333/333 [==============================] - 1s 3ms/step - loss: 0.4021 - accuracy: 0.8293 - val_loss: 3.3750 - val_accuracy: 0.4925\n",
            "Epoch 137/200\n",
            "333/333 [==============================] - 1s 3ms/step - loss: 0.4017 - accuracy: 0.8340 - val_loss: 3.3685 - val_accuracy: 0.4977\n",
            "Epoch 138/200\n",
            "333/333 [==============================] - 1s 3ms/step - loss: 0.3856 - accuracy: 0.8416 - val_loss: 3.2939 - val_accuracy: 0.5038\n",
            "Epoch 139/200\n",
            "333/333 [==============================] - 1s 3ms/step - loss: 0.3865 - accuracy: 0.8369 - val_loss: 3.4561 - val_accuracy: 0.4959\n",
            "Epoch 140/200\n",
            "333/333 [==============================] - 1s 3ms/step - loss: 0.3829 - accuracy: 0.8395 - val_loss: 3.5076 - val_accuracy: 0.5079\n",
            "Epoch 141/200\n",
            "333/333 [==============================] - 1s 3ms/step - loss: 0.3961 - accuracy: 0.8312 - val_loss: 3.3581 - val_accuracy: 0.4985\n",
            "Epoch 142/200\n",
            "333/333 [==============================] - 1s 3ms/step - loss: 0.3996 - accuracy: 0.8351 - val_loss: 3.4796 - val_accuracy: 0.5068\n",
            "Epoch 143/200\n",
            "333/333 [==============================] - 1s 3ms/step - loss: 0.3925 - accuracy: 0.8324 - val_loss: 3.6551 - val_accuracy: 0.4974\n",
            "Epoch 144/200\n",
            "333/333 [==============================] - 1s 3ms/step - loss: 0.3869 - accuracy: 0.8405 - val_loss: 3.4192 - val_accuracy: 0.5023\n",
            "Epoch 145/200\n",
            "333/333 [==============================] - 1s 3ms/step - loss: 0.3924 - accuracy: 0.8337 - val_loss: 3.5168 - val_accuracy: 0.5004\n",
            "Epoch 146/200\n",
            "333/333 [==============================] - 1s 3ms/step - loss: 0.3875 - accuracy: 0.8399 - val_loss: 3.6878 - val_accuracy: 0.5071\n",
            "Epoch 147/200\n",
            "333/333 [==============================] - 1s 3ms/step - loss: 0.3854 - accuracy: 0.8362 - val_loss: 3.6214 - val_accuracy: 0.4944\n",
            "Epoch 148/200\n",
            "333/333 [==============================] - 1s 3ms/step - loss: 0.3796 - accuracy: 0.8419 - val_loss: 3.5522 - val_accuracy: 0.4992\n",
            "Epoch 149/200\n",
            "333/333 [==============================] - 1s 3ms/step - loss: 0.3937 - accuracy: 0.8328 - val_loss: 3.3442 - val_accuracy: 0.4996\n",
            "Epoch 150/200\n",
            "333/333 [==============================] - 1s 3ms/step - loss: 0.3984 - accuracy: 0.8310 - val_loss: 3.4935 - val_accuracy: 0.5086\n",
            "Epoch 151/200\n",
            "333/333 [==============================] - 1s 3ms/step - loss: 0.3795 - accuracy: 0.8401 - val_loss: 3.6143 - val_accuracy: 0.4951\n",
            "Epoch 152/200\n",
            "333/333 [==============================] - 1s 3ms/step - loss: 0.3871 - accuracy: 0.8360 - val_loss: 3.5209 - val_accuracy: 0.4970\n",
            "Epoch 153/200\n",
            "333/333 [==============================] - 1s 3ms/step - loss: 0.3734 - accuracy: 0.8443 - val_loss: 3.5181 - val_accuracy: 0.5023\n",
            "Epoch 154/200\n",
            "333/333 [==============================] - 1s 3ms/step - loss: 0.3779 - accuracy: 0.8400 - val_loss: 3.7622 - val_accuracy: 0.5094\n",
            "Epoch 155/200\n",
            "333/333 [==============================] - 1s 3ms/step - loss: 0.3812 - accuracy: 0.8405 - val_loss: 3.8006 - val_accuracy: 0.5015\n",
            "Epoch 156/200\n",
            "333/333 [==============================] - 1s 3ms/step - loss: 0.3897 - accuracy: 0.8335 - val_loss: 3.6202 - val_accuracy: 0.5030\n",
            "Epoch 157/200\n",
            "333/333 [==============================] - 1s 3ms/step - loss: 0.3842 - accuracy: 0.8385 - val_loss: 3.5250 - val_accuracy: 0.4944\n",
            "Epoch 158/200\n",
            "333/333 [==============================] - 1s 3ms/step - loss: 0.3795 - accuracy: 0.8428 - val_loss: 3.5273 - val_accuracy: 0.5034\n",
            "Epoch 159/200\n",
            "333/333 [==============================] - 1s 3ms/step - loss: 0.3807 - accuracy: 0.8396 - val_loss: 3.8240 - val_accuracy: 0.4992\n",
            "Epoch 160/200\n",
            "333/333 [==============================] - 1s 3ms/step - loss: 0.3853 - accuracy: 0.8358 - val_loss: 3.6772 - val_accuracy: 0.4936\n",
            "Epoch 161/200\n",
            "333/333 [==============================] - 1s 3ms/step - loss: 0.3879 - accuracy: 0.8387 - val_loss: 3.5033 - val_accuracy: 0.5019\n",
            "Epoch 162/200\n",
            "333/333 [==============================] - 1s 3ms/step - loss: 0.3704 - accuracy: 0.8459 - val_loss: 3.7820 - val_accuracy: 0.4992\n",
            "Epoch 163/200\n",
            "333/333 [==============================] - 1s 3ms/step - loss: 0.3755 - accuracy: 0.8409 - val_loss: 3.6153 - val_accuracy: 0.4966\n",
            "Epoch 164/200\n",
            "333/333 [==============================] - 1s 3ms/step - loss: 0.3806 - accuracy: 0.8407 - val_loss: 3.6981 - val_accuracy: 0.4891\n",
            "Epoch 165/200\n",
            "333/333 [==============================] - 1s 3ms/step - loss: 0.3798 - accuracy: 0.8418 - val_loss: 3.7402 - val_accuracy: 0.4959\n",
            "Epoch 166/200\n",
            "333/333 [==============================] - 1s 3ms/step - loss: 0.3818 - accuracy: 0.8386 - val_loss: 3.6115 - val_accuracy: 0.4947\n",
            "Epoch 167/200\n",
            "333/333 [==============================] - 1s 3ms/step - loss: 0.3987 - accuracy: 0.8325 - val_loss: 3.6072 - val_accuracy: 0.4985\n",
            "Epoch 168/200\n",
            "333/333 [==============================] - 1s 3ms/step - loss: 0.3753 - accuracy: 0.8417 - val_loss: 3.7065 - val_accuracy: 0.5011\n",
            "Epoch 169/200\n",
            "333/333 [==============================] - 1s 3ms/step - loss: 0.3835 - accuracy: 0.8396 - val_loss: 3.5182 - val_accuracy: 0.4902\n",
            "Epoch 170/200\n",
            "333/333 [==============================] - 1s 3ms/step - loss: 0.3710 - accuracy: 0.8421 - val_loss: 3.6403 - val_accuracy: 0.5045\n",
            "Epoch 171/200\n",
            "333/333 [==============================] - 1s 3ms/step - loss: 0.3704 - accuracy: 0.8435 - val_loss: 3.5841 - val_accuracy: 0.5041\n",
            "Epoch 172/200\n",
            "333/333 [==============================] - 1s 3ms/step - loss: 0.3749 - accuracy: 0.8373 - val_loss: 3.7252 - val_accuracy: 0.5000\n",
            "Epoch 173/200\n",
            "333/333 [==============================] - 1s 3ms/step - loss: 0.3750 - accuracy: 0.8445 - val_loss: 3.5944 - val_accuracy: 0.4996\n",
            "Epoch 174/200\n",
            "333/333 [==============================] - 1s 3ms/step - loss: 0.3853 - accuracy: 0.8399 - val_loss: 3.6931 - val_accuracy: 0.5023\n",
            "Epoch 175/200\n",
            "333/333 [==============================] - 1s 3ms/step - loss: 0.3706 - accuracy: 0.8462 - val_loss: 3.8212 - val_accuracy: 0.4947\n",
            "Epoch 176/200\n",
            "333/333 [==============================] - 1s 3ms/step - loss: 0.3642 - accuracy: 0.8456 - val_loss: 3.9663 - val_accuracy: 0.5034\n",
            "Epoch 177/200\n",
            "333/333 [==============================] - 1s 3ms/step - loss: 0.3801 - accuracy: 0.8425 - val_loss: 3.8524 - val_accuracy: 0.5023\n",
            "Epoch 178/200\n",
            "333/333 [==============================] - 1s 3ms/step - loss: 0.3606 - accuracy: 0.8434 - val_loss: 3.8625 - val_accuracy: 0.4962\n",
            "Epoch 179/200\n",
            "333/333 [==============================] - 1s 3ms/step - loss: 0.3712 - accuracy: 0.8425 - val_loss: 3.7544 - val_accuracy: 0.4917\n",
            "Epoch 180/200\n",
            "333/333 [==============================] - 1s 3ms/step - loss: 0.3730 - accuracy: 0.8405 - val_loss: 3.7439 - val_accuracy: 0.4981\n",
            "Epoch 181/200\n",
            "333/333 [==============================] - 1s 3ms/step - loss: 0.3702 - accuracy: 0.8427 - val_loss: 3.7410 - val_accuracy: 0.5026\n",
            "Epoch 182/200\n",
            "333/333 [==============================] - 1s 3ms/step - loss: 0.3534 - accuracy: 0.8467 - val_loss: 3.8650 - val_accuracy: 0.4989\n",
            "Epoch 183/200\n",
            "333/333 [==============================] - 1s 3ms/step - loss: 0.3659 - accuracy: 0.8466 - val_loss: 3.7181 - val_accuracy: 0.5041\n",
            "Epoch 184/200\n",
            "333/333 [==============================] - 1s 3ms/step - loss: 0.3761 - accuracy: 0.8424 - val_loss: 3.7997 - val_accuracy: 0.5030\n",
            "Epoch 185/200\n",
            "333/333 [==============================] - 1s 3ms/step - loss: 0.3819 - accuracy: 0.8422 - val_loss: 3.9357 - val_accuracy: 0.5038\n",
            "Epoch 186/200\n",
            "333/333 [==============================] - 1s 3ms/step - loss: 0.3691 - accuracy: 0.8469 - val_loss: 3.7942 - val_accuracy: 0.5015\n",
            "Epoch 187/200\n",
            "333/333 [==============================] - 1s 3ms/step - loss: 0.3845 - accuracy: 0.8409 - val_loss: 3.8231 - val_accuracy: 0.5008\n",
            "Epoch 188/200\n",
            "333/333 [==============================] - 1s 3ms/step - loss: 0.3735 - accuracy: 0.8421 - val_loss: 3.7930 - val_accuracy: 0.4989\n",
            "Epoch 189/200\n",
            "333/333 [==============================] - 1s 3ms/step - loss: 0.3614 - accuracy: 0.8445 - val_loss: 4.0608 - val_accuracy: 0.4970\n",
            "Epoch 190/200\n",
            "333/333 [==============================] - 1s 3ms/step - loss: 0.3666 - accuracy: 0.8466 - val_loss: 3.7685 - val_accuracy: 0.4974\n",
            "Epoch 191/200\n",
            "333/333 [==============================] - 1s 3ms/step - loss: 0.3593 - accuracy: 0.8453 - val_loss: 4.0498 - val_accuracy: 0.4959\n",
            "Epoch 192/200\n",
            "333/333 [==============================] - 1s 3ms/step - loss: 0.3737 - accuracy: 0.8410 - val_loss: 3.7865 - val_accuracy: 0.4966\n",
            "Epoch 193/200\n",
            "333/333 [==============================] - 1s 3ms/step - loss: 0.3668 - accuracy: 0.8473 - val_loss: 3.7100 - val_accuracy: 0.4936\n",
            "Epoch 194/200\n",
            "333/333 [==============================] - 1s 3ms/step - loss: 0.3496 - accuracy: 0.8545 - val_loss: 3.8878 - val_accuracy: 0.5015\n",
            "Epoch 195/200\n",
            "333/333 [==============================] - 1s 3ms/step - loss: 0.3580 - accuracy: 0.8481 - val_loss: 3.9822 - val_accuracy: 0.5026\n",
            "Epoch 196/200\n",
            "333/333 [==============================] - 1s 3ms/step - loss: 0.3853 - accuracy: 0.8375 - val_loss: 3.8373 - val_accuracy: 0.4959\n",
            "Epoch 197/200\n",
            "333/333 [==============================] - 1s 3ms/step - loss: 0.3580 - accuracy: 0.8512 - val_loss: 4.0280 - val_accuracy: 0.4962\n",
            "Epoch 198/200\n",
            "333/333 [==============================] - 1s 3ms/step - loss: 0.3625 - accuracy: 0.8466 - val_loss: 3.7899 - val_accuracy: 0.4932\n",
            "Epoch 199/200\n",
            "333/333 [==============================] - 1s 3ms/step - loss: 0.3566 - accuracy: 0.8468 - val_loss: 3.8578 - val_accuracy: 0.4955\n",
            "Epoch 200/200\n",
            "333/333 [==============================] - 1s 3ms/step - loss: 0.3530 - accuracy: 0.8541 - val_loss: 3.9071 - val_accuracy: 0.4921\n"
          ],
          "name": "stdout"
        }
      ]
    },
    {
      "cell_type": "code",
      "metadata": {
        "colab": {
          "base_uri": "https://localhost:8080/"
        },
        "id": "zQ9u6YL4DvbH",
        "outputId": "768b4701-6ccb-4eff-8eab-54d11e624284"
      },
      "source": [
        "modified_model.evaluate(x_test, y_test) "
      ],
      "execution_count": null,
      "outputs": [
        {
          "output_type": "stream",
          "text": [
            "225/225 [==============================] - 0s 2ms/step - loss: 3.9875 - accuracy: 0.5024\n"
          ],
          "name": "stdout"
        },
        {
          "output_type": "execute_result",
          "data": {
            "text/plain": [
              "[3.9874603748321533, 0.5023703575134277]"
            ]
          },
          "metadata": {
            "tags": []
          },
          "execution_count": 138
        }
      ]
    },
    {
      "cell_type": "markdown",
      "metadata": {
        "id": "xedGNhjZJTgq"
      },
      "source": [
        "**Tuning model through Random Search Iterator**"
      ]
    },
    {
      "cell_type": "code",
      "metadata": {
        "id": "r9gnEymH9LOq"
      },
      "source": [
        "def model_builder(params):\n",
        "  model = tf.keras.Sequential() \n",
        "  model.add(tf.keras.layers.Flatten(input_shape=(x_train.shape[1],)))\n",
        "  # chosing hidden layers b/w 2 and 20 \n",
        "  for i in range(params.Int('num_layers', 2, 10)): \n",
        "    model.add(tf.keras.layers.Dense(units=params.Int('units_' + str(i), \n",
        "              min_value=32, max_value=512, step=32), \n",
        "              activation=params.Choice('actication', values=['relu', 'tanh'])))  \n",
        "    model.add(tf.keras.layers.Dense(5, activation='softmax')) \n",
        "    hp_learning_rate = params.Choice('learning_rate', values=[1e-2, 1e-3, 1e-4])\n",
        "    model.compile(optimizer=tf.keras.optimizers.Adam(learning_rate=hp_learning_rate), \n",
        "        loss='categorical_crossentropy', metrics=['accuracy'])\n",
        "    return model "
      ],
      "execution_count": null,
      "outputs": []
    },
    {
      "cell_type": "code",
      "metadata": {
        "id": "7ZQCZNZUM7aB"
      },
      "source": [
        "path = \"/content/drive/MyDrive/DL Assignment 1 - Group-016\""
      ],
      "execution_count": null,
      "outputs": []
    },
    {
      "cell_type": "code",
      "metadata": {
        "colab": {
          "base_uri": "https://localhost:8080/"
        },
        "id": "tThAO5YSP7-W",
        "outputId": "38c9ba95-d13e-4900-dd15-32b125b1dfcf"
      },
      "source": [
        "rs_tuner = kt.RandomSearch(model_builder, objective='accuracy', max_trials=5)\n",
        "rs_tuner.search_space_summary()"
      ],
      "execution_count": null,
      "outputs": [
        {
          "output_type": "stream",
          "text": [
            "INFO:tensorflow:Reloading Oracle from existing project ./untitled_project/oracle.json\n"
          ],
          "name": "stdout"
        },
        {
          "output_type": "stream",
          "text": [
            "INFO:tensorflow:Reloading Oracle from existing project ./untitled_project/oracle.json\n"
          ],
          "name": "stderr"
        },
        {
          "output_type": "stream",
          "text": [
            "INFO:tensorflow:Reloading Tuner from ./untitled_project/tuner0.json\n"
          ],
          "name": "stdout"
        },
        {
          "output_type": "stream",
          "text": [
            "INFO:tensorflow:Reloading Tuner from ./untitled_project/tuner0.json\n"
          ],
          "name": "stderr"
        },
        {
          "output_type": "stream",
          "text": [
            "Search space summary\n",
            "Default search space size: 4\n",
            "num_layers (Int)\n",
            "{'default': None, 'conditions': [], 'min_value': 2, 'max_value': 10, 'step': 1, 'sampling': None}\n",
            "units_0 (Int)\n",
            "{'default': None, 'conditions': [], 'min_value': 32, 'max_value': 512, 'step': 32, 'sampling': None}\n",
            "actication (Choice)\n",
            "{'default': 'relu', 'conditions': [], 'values': ['relu', 'tanh'], 'ordered': False}\n",
            "learning_rate (Choice)\n",
            "{'default': 0.01, 'conditions': [], 'values': [0.01, 0.001, 0.0001], 'ordered': True}\n"
          ],
          "name": "stdout"
        }
      ]
    },
    {
      "cell_type": "code",
      "metadata": {
        "colab": {
          "base_uri": "https://localhost:8080/"
        },
        "id": "ZHa2d0niay9k",
        "outputId": "728e6487-3ae2-4d2a-e2c7-50cdae842d52"
      },
      "source": [
        "rs_tuner.search(x_train,y_train) "
      ],
      "execution_count": null,
      "outputs": [
        {
          "output_type": "stream",
          "text": [
            "INFO:tensorflow:Oracle triggered exit\n"
          ],
          "name": "stdout"
        },
        {
          "output_type": "stream",
          "text": [
            "INFO:tensorflow:Oracle triggered exit\n"
          ],
          "name": "stderr"
        }
      ]
    },
    {
      "cell_type": "code",
      "metadata": {
        "colab": {
          "base_uri": "https://localhost:8080/"
        },
        "id": "Nlz8u8lTjXV3",
        "outputId": "456c42cc-9a48-4815-db5e-a426931aae04"
      },
      "source": [
        "rs_tuner.results_summary()"
      ],
      "execution_count": null,
      "outputs": [
        {
          "output_type": "stream",
          "text": [
            "Results summary\n",
            "Results in ./untitled_project\n",
            "Showing 10 best trials\n",
            "Objective(name='accuracy', direction='max')\n",
            "Trial summary\n",
            "Hyperparameters:\n",
            "num_layers: 5\n",
            "units_0: 256\n",
            "actication: relu\n",
            "learning_rate: 0.01\n",
            "Score: 0.5151287913322449\n",
            "Trial summary\n",
            "Hyperparameters:\n",
            "num_layers: 9\n",
            "units_0: 320\n",
            "actication: relu\n",
            "learning_rate: 0.01\n",
            "Score: 0.5139274597167969\n",
            "Trial summary\n",
            "Hyperparameters:\n",
            "num_layers: 5\n",
            "units_0: 128\n",
            "actication: relu\n",
            "learning_rate: 0.01\n",
            "Score: 0.5132517218589783\n",
            "Trial summary\n",
            "Hyperparameters:\n",
            "num_layers: 9\n",
            "units_0: 160\n",
            "actication: tanh\n",
            "learning_rate: 0.001\n",
            "Score: 0.5049928426742554\n",
            "Trial summary\n",
            "Hyperparameters:\n",
            "num_layers: 5\n",
            "units_0: 416\n",
            "actication: tanh\n",
            "learning_rate: 0.0001\n",
            "Score: 0.4570162892341614\n"
          ],
          "name": "stdout"
        }
      ]
    },
    {
      "cell_type": "code",
      "metadata": {
        "colab": {
          "base_uri": "https://localhost:8080/"
        },
        "id": "Y5oIbR73lGiS",
        "outputId": "d36e6aa6-9462-4127-b8ed-0fdd7d42bc53"
      },
      "source": [
        "rs_recommended_model = tf.keras.Sequential() \n",
        "rs_recommended_model.add(tf.keras.layers.Dense(352, \n",
        "                                               input_shape=(x_train.shape[1], ), \n",
        "                                               activation='relu')) # layer 1\n",
        "rs_recommended_model.add(tf.keras.layers.Dense(234, activation='relu')) # layer 2\n",
        "rs_recommended_model.add(tf.keras.layers.Dropout(rate=0.5)) # layer 3 \n",
        "rs_recommended_model.add(tf.keras.layers.Dense(156, activation='relu')) # layer 4\n",
        "rs_recommended_model.add(tf.keras.layers.Dense(104, activation='relu')) # layer 5 \n",
        "rs_recommended_model.add(tf.keras.layers.Dropout(rate=0.5)) # layer 6 \n",
        "rs_recommended_model.add(tf.keras.layers.Dense(68, activation='relu')) # layer 7 \n",
        "rs_recommended_model.add(tf.keras.layers.Dense(5, activation='softmax')) # layer 8\n",
        "rs_recommended_model.summary() "
      ],
      "execution_count": null,
      "outputs": [
        {
          "output_type": "stream",
          "text": [
            "Model: \"sequential_1\"\n",
            "_________________________________________________________________\n",
            "Layer (type)                 Output Shape              Param #   \n",
            "=================================================================\n",
            "dense_2 (Dense)              (None, 352)               45408     \n",
            "_________________________________________________________________\n",
            "dense_3 (Dense)              (None, 234)               82602     \n",
            "_________________________________________________________________\n",
            "dropout (Dropout)            (None, 234)               0         \n",
            "_________________________________________________________________\n",
            "dense_4 (Dense)              (None, 156)               36660     \n",
            "_________________________________________________________________\n",
            "dense_5 (Dense)              (None, 104)               16328     \n",
            "_________________________________________________________________\n",
            "dropout_1 (Dropout)          (None, 104)               0         \n",
            "_________________________________________________________________\n",
            "dense_6 (Dense)              (None, 68)                7140      \n",
            "_________________________________________________________________\n",
            "dense_7 (Dense)              (None, 5)                 345       \n",
            "=================================================================\n",
            "Total params: 188,483\n",
            "Trainable params: 188,483\n",
            "Non-trainable params: 0\n",
            "_________________________________________________________________\n"
          ],
          "name": "stdout"
        }
      ]
    },
    {
      "cell_type": "code",
      "metadata": {
        "colab": {
          "base_uri": "https://localhost:8080/"
        },
        "id": "hgyWoXByNLkM",
        "outputId": "600d26b5-b3a6-4157-bbb5-318a0e1b4348"
      },
      "source": [
        "rs_recommended_model.compile(loss=tf.keras.losses.CategoricalCrossentropy(), \n",
        "                       optimizer=tf.keras.optimizers.RMSprop(learning_rate=0.001),\n",
        "                       metrics=[tf.keras.metrics.CategoricalAccuracy()]) \n",
        "rs_hist = rs_recommended_model.fit(x_train, y_train,\n",
        "    epochs=100, validation_split=0.2, verbose=1, shuffle=True) "
      ],
      "execution_count": null,
      "outputs": [
        {
          "output_type": "stream",
          "text": [
            "Epoch 1/100\n",
            "333/333 [==============================] - 2s 5ms/step - loss: 1.2248 - categorical_accuracy: 0.4648 - val_loss: 1.1537 - val_categorical_accuracy: 0.4981\n",
            "Epoch 2/100\n",
            "333/333 [==============================] - 1s 4ms/step - loss: 1.1195 - categorical_accuracy: 0.5140 - val_loss: 1.0979 - val_categorical_accuracy: 0.5338\n",
            "Epoch 3/100\n",
            "333/333 [==============================] - 1s 4ms/step - loss: 1.0921 - categorical_accuracy: 0.5321 - val_loss: 1.0406 - val_categorical_accuracy: 0.5432\n",
            "Epoch 4/100\n",
            "333/333 [==============================] - 1s 4ms/step - loss: 1.0707 - categorical_accuracy: 0.5399 - val_loss: 1.0502 - val_categorical_accuracy: 0.5495\n",
            "Epoch 5/100\n",
            "333/333 [==============================] - 1s 4ms/step - loss: 1.0437 - categorical_accuracy: 0.5533 - val_loss: 1.0397 - val_categorical_accuracy: 0.5541\n",
            "Epoch 6/100\n",
            "333/333 [==============================] - 1s 4ms/step - loss: 1.0251 - categorical_accuracy: 0.5537 - val_loss: 1.0461 - val_categorical_accuracy: 0.5563\n",
            "Epoch 7/100\n",
            "333/333 [==============================] - 1s 4ms/step - loss: 1.0111 - categorical_accuracy: 0.5616 - val_loss: 1.0694 - val_categorical_accuracy: 0.5387\n",
            "Epoch 8/100\n",
            "333/333 [==============================] - 1s 4ms/step - loss: 0.9891 - categorical_accuracy: 0.5710 - val_loss: 1.1005 - val_categorical_accuracy: 0.5248\n",
            "Epoch 9/100\n",
            "333/333 [==============================] - 1s 4ms/step - loss: 0.9622 - categorical_accuracy: 0.5845 - val_loss: 1.0728 - val_categorical_accuracy: 0.5507\n",
            "Epoch 10/100\n",
            "333/333 [==============================] - 1s 4ms/step - loss: 0.9444 - categorical_accuracy: 0.5958 - val_loss: 1.1309 - val_categorical_accuracy: 0.5537\n",
            "Epoch 11/100\n",
            "333/333 [==============================] - 1s 4ms/step - loss: 0.9194 - categorical_accuracy: 0.5990 - val_loss: 1.1393 - val_categorical_accuracy: 0.5507\n",
            "Epoch 12/100\n",
            "333/333 [==============================] - 1s 4ms/step - loss: 0.8901 - categorical_accuracy: 0.6159 - val_loss: 1.1794 - val_categorical_accuracy: 0.5432\n",
            "Epoch 13/100\n",
            "333/333 [==============================] - 1s 4ms/step - loss: 0.8637 - categorical_accuracy: 0.6224 - val_loss: 1.1830 - val_categorical_accuracy: 0.5278\n",
            "Epoch 14/100\n",
            "333/333 [==============================] - 1s 4ms/step - loss: 0.8471 - categorical_accuracy: 0.6303 - val_loss: 1.2667 - val_categorical_accuracy: 0.5128\n",
            "Epoch 15/100\n",
            "333/333 [==============================] - 1s 4ms/step - loss: 0.8310 - categorical_accuracy: 0.6402 - val_loss: 1.2790 - val_categorical_accuracy: 0.5244\n",
            "Epoch 16/100\n",
            "333/333 [==============================] - 1s 4ms/step - loss: 0.8120 - categorical_accuracy: 0.6524 - val_loss: 1.3285 - val_categorical_accuracy: 0.5049\n",
            "Epoch 17/100\n",
            "333/333 [==============================] - 1s 4ms/step - loss: 0.7842 - categorical_accuracy: 0.6606 - val_loss: 1.4316 - val_categorical_accuracy: 0.5199\n",
            "Epoch 18/100\n",
            "333/333 [==============================] - 1s 4ms/step - loss: 0.7639 - categorical_accuracy: 0.6734 - val_loss: 1.4817 - val_categorical_accuracy: 0.5214\n",
            "Epoch 19/100\n",
            "333/333 [==============================] - 1s 4ms/step - loss: 0.7503 - categorical_accuracy: 0.6832 - val_loss: 1.5067 - val_categorical_accuracy: 0.4583\n",
            "Epoch 20/100\n",
            "333/333 [==============================] - 1s 4ms/step - loss: 0.7295 - categorical_accuracy: 0.6896 - val_loss: 1.6046 - val_categorical_accuracy: 0.5282\n",
            "Epoch 21/100\n",
            "333/333 [==============================] - 1s 4ms/step - loss: 0.7186 - categorical_accuracy: 0.7017 - val_loss: 1.6708 - val_categorical_accuracy: 0.5195\n",
            "Epoch 22/100\n",
            "333/333 [==============================] - 1s 4ms/step - loss: 0.6935 - categorical_accuracy: 0.7066 - val_loss: 2.0527 - val_categorical_accuracy: 0.5075\n",
            "Epoch 23/100\n",
            "333/333 [==============================] - 1s 4ms/step - loss: 0.6850 - categorical_accuracy: 0.7118 - val_loss: 1.6676 - val_categorical_accuracy: 0.5143\n",
            "Epoch 24/100\n",
            "333/333 [==============================] - 1s 4ms/step - loss: 0.6647 - categorical_accuracy: 0.7280 - val_loss: 1.6389 - val_categorical_accuracy: 0.5056\n",
            "Epoch 25/100\n",
            "333/333 [==============================] - 1s 4ms/step - loss: 0.6481 - categorical_accuracy: 0.7293 - val_loss: 2.1994 - val_categorical_accuracy: 0.5203\n",
            "Epoch 26/100\n",
            "333/333 [==============================] - 1s 4ms/step - loss: 0.6482 - categorical_accuracy: 0.7347 - val_loss: 1.8153 - val_categorical_accuracy: 0.4572\n",
            "Epoch 27/100\n",
            "333/333 [==============================] - 1s 4ms/step - loss: 0.6156 - categorical_accuracy: 0.7507 - val_loss: 2.2903 - val_categorical_accuracy: 0.5116\n",
            "Epoch 28/100\n",
            "333/333 [==============================] - 1s 4ms/step - loss: 0.6146 - categorical_accuracy: 0.7563 - val_loss: 1.9599 - val_categorical_accuracy: 0.5165\n",
            "Epoch 29/100\n",
            "333/333 [==============================] - 1s 4ms/step - loss: 0.5947 - categorical_accuracy: 0.7626 - val_loss: 2.0997 - val_categorical_accuracy: 0.5075\n",
            "Epoch 30/100\n",
            "333/333 [==============================] - 1s 4ms/step - loss: 0.5830 - categorical_accuracy: 0.7717 - val_loss: 2.2469 - val_categorical_accuracy: 0.4902\n",
            "Epoch 31/100\n",
            "333/333 [==============================] - 1s 4ms/step - loss: 0.5730 - categorical_accuracy: 0.7739 - val_loss: 2.9786 - val_categorical_accuracy: 0.5236\n",
            "Epoch 32/100\n",
            "333/333 [==============================] - 1s 4ms/step - loss: 0.5593 - categorical_accuracy: 0.7823 - val_loss: 2.9487 - val_categorical_accuracy: 0.5169\n",
            "Epoch 33/100\n",
            "333/333 [==============================] - 1s 4ms/step - loss: 0.5724 - categorical_accuracy: 0.7803 - val_loss: 2.5996 - val_categorical_accuracy: 0.4955\n",
            "Epoch 34/100\n",
            "333/333 [==============================] - 1s 4ms/step - loss: 0.5449 - categorical_accuracy: 0.7868 - val_loss: 2.2311 - val_categorical_accuracy: 0.4940\n",
            "Epoch 35/100\n",
            "333/333 [==============================] - 1s 4ms/step - loss: 0.5277 - categorical_accuracy: 0.7995 - val_loss: 2.8364 - val_categorical_accuracy: 0.5180\n",
            "Epoch 36/100\n",
            "333/333 [==============================] - 1s 4ms/step - loss: 0.5106 - categorical_accuracy: 0.7985 - val_loss: 3.5432 - val_categorical_accuracy: 0.5090\n",
            "Epoch 37/100\n",
            "333/333 [==============================] - 1s 4ms/step - loss: 0.5023 - categorical_accuracy: 0.8078 - val_loss: 3.4860 - val_categorical_accuracy: 0.5038\n",
            "Epoch 38/100\n",
            "333/333 [==============================] - 1s 4ms/step - loss: 0.5049 - categorical_accuracy: 0.8072 - val_loss: 5.5527 - val_categorical_accuracy: 0.5165\n",
            "Epoch 39/100\n",
            "333/333 [==============================] - 1s 4ms/step - loss: 0.5057 - categorical_accuracy: 0.8125 - val_loss: 3.7568 - val_categorical_accuracy: 0.5128\n",
            "Epoch 40/100\n",
            "333/333 [==============================] - 1s 4ms/step - loss: 0.4844 - categorical_accuracy: 0.8158 - val_loss: 3.3211 - val_categorical_accuracy: 0.4985\n",
            "Epoch 41/100\n",
            "333/333 [==============================] - 1s 4ms/step - loss: 0.4793 - categorical_accuracy: 0.8206 - val_loss: 4.0981 - val_categorical_accuracy: 0.5008\n",
            "Epoch 42/100\n",
            "333/333 [==============================] - 1s 4ms/step - loss: 0.4867 - categorical_accuracy: 0.8250 - val_loss: 3.0724 - val_categorical_accuracy: 0.4809\n",
            "Epoch 43/100\n",
            "333/333 [==============================] - 1s 4ms/step - loss: 0.4724 - categorical_accuracy: 0.8268 - val_loss: 2.4350 - val_categorical_accuracy: 0.4456\n",
            "Epoch 44/100\n",
            "333/333 [==============================] - 1s 4ms/step - loss: 0.4518 - categorical_accuracy: 0.8328 - val_loss: 2.8327 - val_categorical_accuracy: 0.4846\n",
            "Epoch 45/100\n",
            "333/333 [==============================] - 1s 4ms/step - loss: 0.4735 - categorical_accuracy: 0.8331 - val_loss: 3.2294 - val_categorical_accuracy: 0.4831\n",
            "Epoch 46/100\n",
            "333/333 [==============================] - 1s 4ms/step - loss: 0.4398 - categorical_accuracy: 0.8421 - val_loss: 3.2135 - val_categorical_accuracy: 0.4580\n",
            "Epoch 47/100\n",
            "333/333 [==============================] - 1s 4ms/step - loss: 0.4493 - categorical_accuracy: 0.8421 - val_loss: 3.3275 - val_categorical_accuracy: 0.4722\n",
            "Epoch 48/100\n",
            "333/333 [==============================] - 1s 4ms/step - loss: 0.4628 - categorical_accuracy: 0.8448 - val_loss: 3.5237 - val_categorical_accuracy: 0.4989\n",
            "Epoch 49/100\n",
            "333/333 [==============================] - 1s 4ms/step - loss: 0.4352 - categorical_accuracy: 0.8497 - val_loss: 4.0476 - val_categorical_accuracy: 0.4741\n",
            "Epoch 50/100\n",
            "333/333 [==============================] - 1s 4ms/step - loss: 0.4221 - categorical_accuracy: 0.8497 - val_loss: 3.8760 - val_categorical_accuracy: 0.5023\n",
            "Epoch 51/100\n",
            "333/333 [==============================] - 1s 4ms/step - loss: 0.4136 - categorical_accuracy: 0.8511 - val_loss: 3.3454 - val_categorical_accuracy: 0.4929\n",
            "Epoch 52/100\n",
            "333/333 [==============================] - 1s 4ms/step - loss: 0.4093 - categorical_accuracy: 0.8571 - val_loss: 3.6317 - val_categorical_accuracy: 0.4917\n",
            "Epoch 53/100\n",
            "333/333 [==============================] - 1s 4ms/step - loss: 0.3927 - categorical_accuracy: 0.8615 - val_loss: 4.1222 - val_categorical_accuracy: 0.5105\n",
            "Epoch 54/100\n",
            "333/333 [==============================] - 1s 4ms/step - loss: 0.3957 - categorical_accuracy: 0.8617 - val_loss: 4.6391 - val_categorical_accuracy: 0.4962\n",
            "Epoch 55/100\n",
            "333/333 [==============================] - 1s 4ms/step - loss: 0.3874 - categorical_accuracy: 0.8683 - val_loss: 4.2135 - val_categorical_accuracy: 0.4966\n",
            "Epoch 56/100\n",
            "333/333 [==============================] - 1s 4ms/step - loss: 0.3855 - categorical_accuracy: 0.8654 - val_loss: 4.8517 - val_categorical_accuracy: 0.5086\n",
            "Epoch 57/100\n",
            "333/333 [==============================] - 1s 4ms/step - loss: 0.3909 - categorical_accuracy: 0.8780 - val_loss: 5.4032 - val_categorical_accuracy: 0.5026\n",
            "Epoch 58/100\n",
            "333/333 [==============================] - 1s 4ms/step - loss: 0.3992 - categorical_accuracy: 0.8702 - val_loss: 3.3927 - val_categorical_accuracy: 0.4944\n",
            "Epoch 59/100\n",
            "333/333 [==============================] - 1s 4ms/step - loss: 0.3995 - categorical_accuracy: 0.8752 - val_loss: 4.3667 - val_categorical_accuracy: 0.4854\n",
            "Epoch 60/100\n",
            "333/333 [==============================] - 1s 4ms/step - loss: 0.3808 - categorical_accuracy: 0.8776 - val_loss: 4.3661 - val_categorical_accuracy: 0.4917\n",
            "Epoch 61/100\n",
            "333/333 [==============================] - 1s 4ms/step - loss: 0.3537 - categorical_accuracy: 0.8834 - val_loss: 4.8978 - val_categorical_accuracy: 0.4872\n",
            "Epoch 62/100\n",
            "333/333 [==============================] - 1s 4ms/step - loss: 0.3612 - categorical_accuracy: 0.8733 - val_loss: 5.1618 - val_categorical_accuracy: 0.4970\n",
            "Epoch 63/100\n",
            "333/333 [==============================] - 1s 4ms/step - loss: 0.3714 - categorical_accuracy: 0.8808 - val_loss: 4.6503 - val_categorical_accuracy: 0.4876\n",
            "Epoch 64/100\n",
            "333/333 [==============================] - 1s 4ms/step - loss: 0.3606 - categorical_accuracy: 0.8889 - val_loss: 6.6422 - val_categorical_accuracy: 0.5015\n",
            "Epoch 65/100\n",
            "333/333 [==============================] - 1s 4ms/step - loss: 0.3438 - categorical_accuracy: 0.8858 - val_loss: 4.5289 - val_categorical_accuracy: 0.4771\n",
            "Epoch 66/100\n",
            "333/333 [==============================] - 1s 4ms/step - loss: 0.3483 - categorical_accuracy: 0.8887 - val_loss: 4.6130 - val_categorical_accuracy: 0.4902\n",
            "Epoch 67/100\n",
            "333/333 [==============================] - 1s 4ms/step - loss: 0.3678 - categorical_accuracy: 0.8867 - val_loss: 4.8629 - val_categorical_accuracy: 0.4681\n",
            "Epoch 68/100\n",
            "333/333 [==============================] - 1s 4ms/step - loss: 0.3829 - categorical_accuracy: 0.8932 - val_loss: 5.8452 - val_categorical_accuracy: 0.4921\n",
            "Epoch 69/100\n",
            "333/333 [==============================] - 1s 4ms/step - loss: 0.3303 - categorical_accuracy: 0.8937 - val_loss: 5.9581 - val_categorical_accuracy: 0.4951\n",
            "Epoch 70/100\n",
            "333/333 [==============================] - 1s 4ms/step - loss: 0.3403 - categorical_accuracy: 0.8967 - val_loss: 6.7424 - val_categorical_accuracy: 0.4726\n",
            "Epoch 71/100\n",
            "333/333 [==============================] - 1s 4ms/step - loss: 0.3241 - categorical_accuracy: 0.8922 - val_loss: 5.8315 - val_categorical_accuracy: 0.4884\n",
            "Epoch 72/100\n",
            "333/333 [==============================] - 1s 4ms/step - loss: 0.3373 - categorical_accuracy: 0.8924 - val_loss: 6.8028 - val_categorical_accuracy: 0.4816\n",
            "Epoch 73/100\n",
            "333/333 [==============================] - 1s 4ms/step - loss: 0.3338 - categorical_accuracy: 0.8973 - val_loss: 5.2110 - val_categorical_accuracy: 0.4741\n",
            "Epoch 74/100\n",
            "333/333 [==============================] - 1s 4ms/step - loss: 0.3332 - categorical_accuracy: 0.8994 - val_loss: 6.6343 - val_categorical_accuracy: 0.4947\n",
            "Epoch 75/100\n",
            "333/333 [==============================] - 1s 4ms/step - loss: 0.3093 - categorical_accuracy: 0.9032 - val_loss: 6.9121 - val_categorical_accuracy: 0.4940\n",
            "Epoch 76/100\n",
            "333/333 [==============================] - 1s 4ms/step - loss: 0.3101 - categorical_accuracy: 0.9044 - val_loss: 7.2847 - val_categorical_accuracy: 0.5015\n",
            "Epoch 77/100\n",
            "333/333 [==============================] - 1s 4ms/step - loss: 0.3451 - categorical_accuracy: 0.8990 - val_loss: 6.1262 - val_categorical_accuracy: 0.4966\n",
            "Epoch 78/100\n",
            "333/333 [==============================] - 1s 4ms/step - loss: 0.3270 - categorical_accuracy: 0.9050 - val_loss: 6.3291 - val_categorical_accuracy: 0.4884\n",
            "Epoch 79/100\n",
            "333/333 [==============================] - 1s 4ms/step - loss: 0.3251 - categorical_accuracy: 0.9031 - val_loss: 7.1455 - val_categorical_accuracy: 0.4910\n",
            "Epoch 80/100\n",
            "333/333 [==============================] - 1s 4ms/step - loss: 0.3532 - categorical_accuracy: 0.9036 - val_loss: 6.6075 - val_categorical_accuracy: 0.5004\n",
            "Epoch 81/100\n",
            "333/333 [==============================] - 1s 4ms/step - loss: 0.3411 - categorical_accuracy: 0.8988 - val_loss: 5.5084 - val_categorical_accuracy: 0.4358\n",
            "Epoch 82/100\n",
            "333/333 [==============================] - 1s 4ms/step - loss: 0.2945 - categorical_accuracy: 0.9073 - val_loss: 7.8177 - val_categorical_accuracy: 0.5034\n",
            "Epoch 83/100\n",
            "333/333 [==============================] - 1s 4ms/step - loss: 0.3593 - categorical_accuracy: 0.9059 - val_loss: 7.2910 - val_categorical_accuracy: 0.4940\n",
            "Epoch 84/100\n",
            "333/333 [==============================] - 1s 4ms/step - loss: 0.3508 - categorical_accuracy: 0.9053 - val_loss: 8.0172 - val_categorical_accuracy: 0.4966\n",
            "Epoch 85/100\n",
            "333/333 [==============================] - 1s 4ms/step - loss: 0.3852 - categorical_accuracy: 0.9117 - val_loss: 9.7827 - val_categorical_accuracy: 0.4921\n",
            "Epoch 86/100\n",
            "333/333 [==============================] - 1s 4ms/step - loss: 0.3319 - categorical_accuracy: 0.9045 - val_loss: 7.7653 - val_categorical_accuracy: 0.4944\n",
            "Epoch 87/100\n",
            "333/333 [==============================] - 1s 4ms/step - loss: 0.3010 - categorical_accuracy: 0.9117 - val_loss: 8.3914 - val_categorical_accuracy: 0.4985\n",
            "Epoch 88/100\n",
            "333/333 [==============================] - 1s 4ms/step - loss: 0.3216 - categorical_accuracy: 0.9109 - val_loss: 6.6395 - val_categorical_accuracy: 0.4779\n",
            "Epoch 89/100\n",
            "333/333 [==============================] - 1s 4ms/step - loss: 0.3437 - categorical_accuracy: 0.9078 - val_loss: 7.3907 - val_categorical_accuracy: 0.4726\n",
            "Epoch 90/100\n",
            "333/333 [==============================] - 1s 4ms/step - loss: 0.3447 - categorical_accuracy: 0.9126 - val_loss: 8.0368 - val_categorical_accuracy: 0.4824\n",
            "Epoch 91/100\n",
            "333/333 [==============================] - 1s 4ms/step - loss: 0.3343 - categorical_accuracy: 0.9108 - val_loss: 6.5003 - val_categorical_accuracy: 0.4842\n",
            "Epoch 92/100\n",
            "333/333 [==============================] - 1s 4ms/step - loss: 0.3329 - categorical_accuracy: 0.9104 - val_loss: 8.2979 - val_categorical_accuracy: 0.4786\n",
            "Epoch 93/100\n",
            "333/333 [==============================] - 1s 4ms/step - loss: 0.3325 - categorical_accuracy: 0.9060 - val_loss: 10.3094 - val_categorical_accuracy: 0.5191\n",
            "Epoch 94/100\n",
            "333/333 [==============================] - 1s 4ms/step - loss: 0.4211 - categorical_accuracy: 0.9098 - val_loss: 9.4879 - val_categorical_accuracy: 0.4895\n",
            "Epoch 95/100\n",
            "333/333 [==============================] - 1s 4ms/step - loss: 0.3709 - categorical_accuracy: 0.9138 - val_loss: 7.0266 - val_categorical_accuracy: 0.4891\n",
            "Epoch 96/100\n",
            "333/333 [==============================] - 1s 4ms/step - loss: 0.2849 - categorical_accuracy: 0.9215 - val_loss: 10.8576 - val_categorical_accuracy: 0.5030\n",
            "Epoch 97/100\n",
            "333/333 [==============================] - 1s 4ms/step - loss: 0.3510 - categorical_accuracy: 0.9164 - val_loss: 10.1717 - val_categorical_accuracy: 0.4872\n",
            "Epoch 98/100\n",
            "333/333 [==============================] - 1s 4ms/step - loss: 0.3089 - categorical_accuracy: 0.9148 - val_loss: 15.5953 - val_categorical_accuracy: 0.4970\n",
            "Epoch 99/100\n",
            "333/333 [==============================] - 1s 4ms/step - loss: 0.3471 - categorical_accuracy: 0.9164 - val_loss: 10.2197 - val_categorical_accuracy: 0.4936\n",
            "Epoch 100/100\n",
            "333/333 [==============================] - 1s 4ms/step - loss: 0.2805 - categorical_accuracy: 0.9186 - val_loss: 11.9006 - val_categorical_accuracy: 0.4899\n"
          ],
          "name": "stdout"
        }
      ]
    },
    {
      "cell_type": "code",
      "metadata": {
        "colab": {
          "base_uri": "https://localhost:8080/"
        },
        "id": "8FYoRZ7uOCYK",
        "outputId": "e76e1cbe-0043-4016-c4fd-1ae0ee87f894"
      },
      "source": [
        "rs_recommended_model.evaluate(x_test, y_test) "
      ],
      "execution_count": null,
      "outputs": [
        {
          "output_type": "stream",
          "text": [
            "225/225 [==============================] - 1s 2ms/step - loss: 13.7009 - categorical_accuracy: 0.4731\n"
          ],
          "name": "stdout"
        },
        {
          "output_type": "execute_result",
          "data": {
            "text/plain": [
              "[13.700857162475586, 0.4730897843837738]"
            ]
          },
          "metadata": {
            "tags": []
          },
          "execution_count": 146
        }
      ]
    },
    {
      "cell_type": "markdown",
      "metadata": {
        "id": "PjIBKwOUjkN2"
      },
      "source": [
        "**Observation:** \n",
        "1. Model clearly overfits as expected from the increase in width and height of network. \n",
        "2. Test set accuracy is still at half way mark, model is no better than a coin flip. \n",
        "3. Alternatively approach to test LSTM layers in network architecture could be beneficial. "
      ]
    },
    {
      "cell_type": "markdown",
      "metadata": {
        "id": "zgIh8eY1kHxB"
      },
      "source": [
        "**LSTM MODEL**  w/ Glove text encoding"
      ]
    },
    {
      "cell_type": "code",
      "metadata": {
        "id": "sp_M8j6lxSp3"
      },
      "source": [
        "max_features = 20000  # Only consider the top 20k words\n",
        "maxlen = 128  # Only consider the first 200 words of each movie review"
      ],
      "execution_count": null,
      "outputs": []
    },
    {
      "cell_type": "code",
      "metadata": {
        "colab": {
          "base_uri": "https://localhost:8080/"
        },
        "id": "jf_tO7In1qlK",
        "outputId": "dbc7c4c0-23fe-43d1-dc0d-58313baceab7"
      },
      "source": [
        "# tokenizing the text - features \n",
        "tokenizer = Tokenizer()\n",
        "tokenizer.fit_on_texts(X)\n",
        "\n",
        "word_index = tokenizer.word_index\n",
        "vocab_size = len(tokenizer.word_index) + 1\n",
        "print(\"Vocabulary Size :\", vocab_size) "
      ],
      "execution_count": null,
      "outputs": [
        {
          "output_type": "stream",
          "text": [
            "Vocabulary Size : 45022\n"
          ],
          "name": "stdout"
        }
      ]
    },
    {
      "cell_type": "code",
      "metadata": {
        "id": "IO2pwtYE4uez"
      },
      "source": [
        "# !wget http://nlp.stanford.edu/data/glove.6B.zip\n",
        "# !unzip glove.6B.zip"
      ],
      "execution_count": null,
      "outputs": []
    },
    {
      "cell_type": "code",
      "metadata": {
        "id": "LbDXFGFC4uoZ"
      },
      "source": [
        "GLOVE_EMB_PATH = 'glove.6B.300d.txt'\n",
        "EMBEDDING_DIM = 300\n",
        "LR = 1e-3\n",
        "BATCH_SIZE = 32\n",
        "EPOCHS = 50\n",
        "\n",
        "embeddings_index = {}\n",
        "\n",
        "f = open(GLOVE_EMB_PATH)\n",
        "for line in f:\n",
        "  values = line.split()\n",
        "  word = value = values[0]\n",
        "  coefs = np.asarray(values[1:], dtype='float32')\n",
        "  embeddings_index[word] = coefs\n",
        "f.close()"
      ],
      "execution_count": null,
      "outputs": []
    },
    {
      "cell_type": "code",
      "metadata": {
        "colab": {
          "base_uri": "https://localhost:8080/"
        },
        "id": "lje2EN3_-cW1",
        "outputId": "5862931e-aa0c-4900-83eb-ac2a8fc6bd9e"
      },
      "source": [
        "print('Found %s word vectors.' %len(embeddings_index)) "
      ],
      "execution_count": null,
      "outputs": [
        {
          "output_type": "stream",
          "text": [
            "Found 400000 word vectors.\n"
          ],
          "name": "stdout"
        }
      ]
    },
    {
      "cell_type": "code",
      "metadata": {
        "id": "8b5PC2Ep-caH"
      },
      "source": [
        "embedding_matrix = np.zeros((vocab_size, EMBEDDING_DIM))\n",
        "for word, i in word_index.items():\n",
        "  embedding_vector = embeddings_index.get(word)\n",
        "  if embedding_vector is not None:\n",
        "    embedding_matrix[i] = embedding_vector "
      ],
      "execution_count": null,
      "outputs": []
    },
    {
      "cell_type": "code",
      "metadata": {
        "id": "_rMIY_-S-cdA"
      },
      "source": [
        "embedding_layer = tf.keras.layers.Embedding(vocab_size,\n",
        "                                          EMBEDDING_DIM,\n",
        "                                          weights=[embedding_matrix],\n",
        "                                          input_length=maxlen,\n",
        "                                          trainable=False) "
      ],
      "execution_count": null,
      "outputs": []
    },
    {
      "cell_type": "markdown",
      "metadata": {
        "id": "7F7wlX-E3R6_"
      },
      "source": [
        "**LSTM MODEL:** <br>\n",
        "Number of units calculation: <br> <center>Training Size / Scaling factor * (N(inputs) + N(outputs))  <br> \n",
        "14343 / (2 * (128 + 5)) <br>\n",
        "Approx 54 units."
      ]
    },
    {
      "cell_type": "code",
      "metadata": {
        "colab": {
          "base_uri": "https://localhost:8080/"
        },
        "id": "cCtyXFLr4SGK",
        "outputId": "2f36ac6f-e8b2-49e7-bf88-9e62b4bd0fe1"
      },
      "source": [
        "sequence_input = tf.keras.Input(shape=(maxlen,), dtype='int32')\n",
        "embedding_sequences = embedding_layer(sequence_input)\n",
        "x = tf.keras.layers.SpatialDropout1D(0.2)(embedding_sequences)\n",
        "x = tf.keras.layers.Conv1D(64, 5, activation='relu')(x)\n",
        "x = tf.keras.layers.Bidirectional(tf.keras.layers.LSTM(64, dropout=0.2, recurrent_dropout=0.2))(x)\n",
        "x = tf.keras.layers.Dense(512, activation='relu')(x)\n",
        "x = tf.keras.layers.Dropout(0.5)(x)\n",
        "x = tf.keras.layers.Dense(512, activation='relu')(x)\n",
        "outputs = tf.keras.layers.Dense(5, activation='softmax')(x)\n",
        "model = tf.keras.Model(sequence_input, outputs) "
      ],
      "execution_count": null,
      "outputs": [
        {
          "output_type": "stream",
          "text": [
            "WARNING:tensorflow:Layer lstm_5 will not use cuDNN kernels since it doesn't meet the criteria. It will use a generic GPU kernel as fallback when running on GPU.\n"
          ],
          "name": "stdout"
        },
        {
          "output_type": "stream",
          "text": [
            "WARNING:tensorflow:Layer lstm_5 will not use cuDNN kernels since it doesn't meet the criteria. It will use a generic GPU kernel as fallback when running on GPU.\n"
          ],
          "name": "stderr"
        },
        {
          "output_type": "stream",
          "text": [
            "WARNING:tensorflow:Layer lstm_5 will not use cuDNN kernels since it doesn't meet the criteria. It will use a generic GPU kernel as fallback when running on GPU.\n"
          ],
          "name": "stdout"
        },
        {
          "output_type": "stream",
          "text": [
            "WARNING:tensorflow:Layer lstm_5 will not use cuDNN kernels since it doesn't meet the criteria. It will use a generic GPU kernel as fallback when running on GPU.\n"
          ],
          "name": "stderr"
        },
        {
          "output_type": "stream",
          "text": [
            "WARNING:tensorflow:Layer lstm_5 will not use cuDNN kernels since it doesn't meet the criteria. It will use a generic GPU kernel as fallback when running on GPU.\n"
          ],
          "name": "stdout"
        },
        {
          "output_type": "stream",
          "text": [
            "WARNING:tensorflow:Layer lstm_5 will not use cuDNN kernels since it doesn't meet the criteria. It will use a generic GPU kernel as fallback when running on GPU.\n"
          ],
          "name": "stderr"
        }
      ]
    },
    {
      "cell_type": "code",
      "metadata": {
        "id": "OhU46ATZ4rVT"
      },
      "source": [
        "from tensorflow.keras.callbacks import ReduceLROnPlateau\n",
        "\n",
        "model.compile(optimizer=tf.keras.optimizers.Adam(learning_rate=LR),\n",
        "              loss='categorical_crossentropy',\n",
        "              metrics=['accuracy'])\n",
        "ReduceLROnPlateau = ReduceLROnPlateau(factor=0.1,\n",
        "                                     min_lr = 0.01,\n",
        "                                     monitor = 'val_loss',\n",
        "                                     verbose = 1) "
      ],
      "execution_count": null,
      "outputs": []
    },
    {
      "cell_type": "code",
      "metadata": {
        "colab": {
          "base_uri": "https://localhost:8080/"
        },
        "id": "LUK4DWfEulRd",
        "outputId": "d12fddb7-f489-43e5-b01d-f67d5af6c16c"
      },
      "source": [
        "train, test, train_labels, test_labels = train_test_split(X, y, test_size=0.2, \n",
        "                                                          random_state=42) \n",
        "\n",
        "print(train.shape) "
      ],
      "execution_count": null,
      "outputs": [
        {
          "output_type": "stream",
          "text": [
            "(16392,)\n"
          ],
          "name": "stdout"
        }
      ]
    },
    {
      "cell_type": "code",
      "metadata": {
        "colab": {
          "base_uri": "https://localhost:8080/"
        },
        "id": "lExyBT-6z6OV",
        "outputId": "d6f06c7c-2ea0-4af2-9763-8ee3dd898890"
      },
      "source": [
        "train = tf.keras.preprocessing.sequence.pad_sequences(\n",
        "    tokenizer.texts_to_sequences(train), maxlen=maxlen) \n",
        "\n",
        "test = tf.keras.preprocessing.sequence.pad_sequences(\n",
        "    tokenizer.texts_to_sequences(test), maxlen=maxlen)  \n",
        "\n",
        "print(train.shape, test.shape)"
      ],
      "execution_count": null,
      "outputs": [
        {
          "output_type": "stream",
          "text": [
            "(16392, 128) (4099, 128)\n"
          ],
          "name": "stdout"
        }
      ]
    },
    {
      "cell_type": "code",
      "metadata": {
        "colab": {
          "base_uri": "https://localhost:8080/"
        },
        "id": "-F7LK2BTiwX0",
        "outputId": "fa828b33-577b-4822-caf2-609c35b09e2c"
      },
      "source": [
        "history = model.fit(train, train_labels, batch_size=516, epochs=20, \n",
        "                    validation_split=0.2, shuffle=True, \n",
        "                    callbacks=[ReduceLROnPlateau])    "
      ],
      "execution_count": 213,
      "outputs": [
        {
          "output_type": "stream",
          "text": [
            "Epoch 1/15\n",
            "26/26 [==============================] - 26s 984ms/step - loss: 0.3056 - accuracy: 0.8756 - val_loss: 1.6227 - val_accuracy: 0.5590\n",
            "Epoch 2/15\n",
            "26/26 [==============================] - 26s 1s/step - loss: 0.3091 - accuracy: 0.8774 - val_loss: 1.5829 - val_accuracy: 0.5602\n",
            "Epoch 3/15\n",
            "26/26 [==============================] - 26s 1s/step - loss: 0.3058 - accuracy: 0.8803 - val_loss: 1.5909 - val_accuracy: 0.5624\n",
            "Epoch 4/15\n",
            "26/26 [==============================] - 27s 1s/step - loss: 0.2904 - accuracy: 0.8848 - val_loss: 1.6553 - val_accuracy: 0.5639\n",
            "Epoch 5/15\n",
            "26/26 [==============================] - 26s 1s/step - loss: 0.2835 - accuracy: 0.8877 - val_loss: 1.7218 - val_accuracy: 0.5743\n",
            "Epoch 6/15\n",
            "26/26 [==============================] - 26s 993ms/step - loss: 0.2859 - accuracy: 0.8878 - val_loss: 1.6420 - val_accuracy: 0.5642\n",
            "Epoch 7/15\n",
            "26/26 [==============================] - 26s 989ms/step - loss: 0.2744 - accuracy: 0.8898 - val_loss: 1.6635 - val_accuracy: 0.5621\n",
            "Epoch 8/15\n",
            "26/26 [==============================] - 26s 992ms/step - loss: 0.2750 - accuracy: 0.8913 - val_loss: 1.6903 - val_accuracy: 0.5709\n",
            "Epoch 9/15\n",
            "26/26 [==============================] - 25s 983ms/step - loss: 0.2747 - accuracy: 0.8931 - val_loss: 1.7027 - val_accuracy: 0.5566\n",
            "Epoch 10/15\n",
            "26/26 [==============================] - 27s 1s/step - loss: 0.2689 - accuracy: 0.8949 - val_loss: 1.7392 - val_accuracy: 0.5636\n",
            "Epoch 11/15\n",
            "26/26 [==============================] - 25s 969ms/step - loss: 0.2704 - accuracy: 0.8966 - val_loss: 1.7196 - val_accuracy: 0.5447\n",
            "Epoch 12/15\n",
            "26/26 [==============================] - 26s 995ms/step - loss: 0.2601 - accuracy: 0.9009 - val_loss: 1.7162 - val_accuracy: 0.5572\n",
            "Epoch 13/15\n",
            "26/26 [==============================] - 25s 976ms/step - loss: 0.2544 - accuracy: 0.8990 - val_loss: 1.7782 - val_accuracy: 0.5605\n",
            "Epoch 14/15\n",
            "26/26 [==============================] - 26s 986ms/step - loss: 0.2606 - accuracy: 0.8983 - val_loss: 1.7064 - val_accuracy: 0.5703\n",
            "Epoch 15/15\n",
            "26/26 [==============================] - 26s 1s/step - loss: 0.2571 - accuracy: 0.8979 - val_loss: 1.7306 - val_accuracy: 0.5740\n"
          ],
          "name": "stdout"
        }
      ]
    },
    {
      "cell_type": "markdown",
      "metadata": {
        "id": "p49MqkR3GYVY"
      },
      "source": [
        ""
      ]
    },
    {
      "cell_type": "code",
      "metadata": {
        "id": "guWkr21F0J3w",
        "colab": {
          "base_uri": "https://localhost:8080/"
        },
        "outputId": "28441b48-3940-406c-f6de-e612aa26c45d"
      },
      "source": [
        "model.evaluate(test, test_labels) "
      ],
      "execution_count": 214,
      "outputs": [
        {
          "output_type": "stream",
          "text": [
            "129/129 [==============================] - 8s 60ms/step - loss: 1.7727 - accuracy: 0.5543\n"
          ],
          "name": "stdout"
        },
        {
          "output_type": "execute_result",
          "data": {
            "text/plain": [
              "[1.7727024555206299, 0.5542815327644348]"
            ]
          },
          "metadata": {
            "tags": []
          },
          "execution_count": 214
        }
      ]
    },
    {
      "cell_type": "code",
      "metadata": {
        "id": "CT0UebKJ0J6v",
        "colab": {
          "base_uri": "https://localhost:8080/"
        },
        "outputId": "e5e8d04e-1a93-454d-a7c8-3e28e2268d41"
      },
      "source": [
        "print(\"training accuracy :\", round(np.max(history.history['accuracy']) * 100, 2)) \n",
        "print(\"training loss :\", round(np.max(history.history['loss']), 2)) "
      ],
      "execution_count": 215,
      "outputs": [
        {
          "output_type": "stream",
          "text": [
            "training accuracy : 90.09\n",
            "training loss : 0.31\n"
          ],
          "name": "stdout"
        }
      ]
    },
    {
      "cell_type": "code",
      "metadata": {
        "id": "ThXkb1cZ0J9v",
        "colab": {
          "base_uri": "https://localhost:8080/",
          "height": 245
        },
        "outputId": "f9b09d93-ee3b-4f1d-b916-f222b6175469"
      },
      "source": [
        "fig, ax = plt.subplots(1, 2, figsize=(20, 3))\n",
        "ax = ax.ravel()\n",
        "\n",
        "for i, metric in enumerate(['accuracy', 'loss']):\n",
        "    ax[i].plot(history.history[metric])\n",
        "    ax[i].plot(history.history[\"val_\" + metric])\n",
        "    ax[i].set_title(\"Model {}\".format(metric))\n",
        "    ax[i].set_xlabel(\"epochs\")\n",
        "    ax[i].set_ylabel(metric)\n",
        "    ax[i].legend([\"train\", \"val\"])"
      ],
      "execution_count": 216,
      "outputs": [
        {
          "output_type": "display_data",
          "data": {
            "image/png": "[encoded data removed]",
            "text/plain": [
              "<Figure size 1440x216 with 2 Axes>"
            ]
          },
          "metadata": {
            "tags": []
          }
        }
      ]
    },
    {
      "cell_type": "code",
      "metadata": {
        "colab": {
          "base_uri": "https://localhost:8080/"
        },
        "id": "PcnuNR5XYEga",
        "outputId": "abc66013-8a4e-446d-879b-7ef3ecfd8c77"
      },
      "source": [
        "# classification metrics \n",
        "prediction = model.predict(test) \n",
        "prediction = [np.argmax(i) for i in prediction] \n",
        "actual = [np.argmax(i) for i in test_labels] \n",
        "\n",
        "print(classification_report(prediction, actual))  "
      ],
      "execution_count": 217,
      "outputs": [
        {
          "output_type": "stream",
          "text": [
            "              precision    recall  f1-score   support\n",
            "\n",
            "           0       0.54      0.64      0.58       246\n",
            "           1       0.38      0.34      0.36       368\n",
            "           2       0.25      0.34      0.29       321\n",
            "           3       0.43      0.46      0.44      1158\n",
            "           4       0.75      0.67      0.71      2006\n",
            "\n",
            "    accuracy                           0.55      4099\n",
            "   macro avg       0.47      0.49      0.48      4099\n",
            "weighted avg       0.57      0.55      0.56      4099\n",
            "\n"
          ],
          "name": "stdout"
        }
      ]
    },
    {
      "cell_type": "code",
      "metadata": {
        "colab": {
          "base_uri": "https://localhost:8080/",
          "height": 397
        },
        "id": "YAzk7pPlYoYh",
        "outputId": "760c559e-b783-4489-d04f-474c108c2a25"
      },
      "source": [
        "plt.text(2.5, -0.25, 'Confusion Matrix', fontsize=14, fontweight='bold', \n",
        "         horizontalalignment='center', \n",
        "         verticalalignment='center',\n",
        "         fontfamily='serif', color=\"#000000\") \n",
        "sns.heatmap(confusion_matrix(prediction, actual), annot=True) \n",
        "plt.show()  "
      ],
      "execution_count": 319,
      "outputs": [
        {
          "output_type": "display_data",
          "data": {
            "image/png": "[encoded data removed]",
            "text/plain": [
              "<Figure size 1008x432 with 2 Axes>"
            ]
          },
          "metadata": {
            "tags": []
          }
        }
      ]
    },
    {
      "cell_type": "markdown",
      "metadata": {
        "id": "3mg9LBC_VGTl"
      },
      "source": [
        "**Observations:**\n",
        "1. LSTM layers certainly improved the training accuracy significantly but not as big of leap in test accuracy.  \n",
        "2. Model can be improved by further tuning of hyper-parameters but the idea is droped due to computational difficulties, initial training for current model took over 3 hours in early iterations. A compromise parameters are chosen to hasten training sessions. \n",
        "3. The key drawbacks that are common across all the models that have been tried, \n",
        "  *   Class imbalance\n",
        "  *   Language similarity and overlap for classes 2 and 3 \n",
        "4. A better classification result can be achieved by merging ratings 2 and 3. Better yet combining ratings 4 and 5 as positive, rest termed as negative class. \n",
        "\n"
      ]
    },
    {
      "cell_type": "code",
      "metadata": {
        "id": "P900ScVI0KAT"
      },
      "source": [
        ""
      ],
      "execution_count": null,
      "outputs": []
    },
    {
      "cell_type": "markdown",
      "metadata": {
        "id": "N3kgbovIgS41"
      },
      "source": [
        "**Tensorflow Native Estimators**"
      ]
    },
    {
      "cell_type": "code",
      "metadata": {
        "id": "S87H8YzXiwea",
        "colab": {
          "base_uri": "https://localhost:8080/"
        },
        "outputId": "54c80550-910f-4864-b9c3-6d916d31b6d5"
      },
      "source": [
        "# processing the data \n",
        "def cleaned_data(review): \n",
        "  review = re.sub(r'\\d+', ' ', review) # removes digits \n",
        "  review = review.split() \n",
        "  review = ' '.join([word for word in review \n",
        "                    if not word in stop_words]) # removes stopwords\n",
        "  \n",
        "  return review \n",
        "\n",
        "\n",
        "# features\n",
        "data.Review = data.Review.apply(cleaned_data) \n",
        "print(data.Review.shape)\n",
        "print(data.Review.loc[10:15]) \n",
        "\n",
        "# labels - sparse categorical \n",
        "encoding = {1: 0, 2: 1, 3: 2, 4: 3, 5: 4}\n",
        "data.Rating.replace(encoding, inplace=True) \n",
        "print(data.Rating.head()) "
      ],
      "execution_count": 305,
      "outputs": [
        {
          "output_type": "stream",
          "text": [
            "(20491,)\n",
            "10    poor value stayed monaco seattle july, nice ho...\n",
            "11    nice value seattle stayed nights late . looked...\n",
            "12    nice hotel good location hotel kimpton design ...\n",
            "13    nice hotel nice staff hotel lovely staff quite...\n",
            "14    great hotel night quick business trip, loved l...\n",
            "15    horrible customer service hotel stay february ...\n",
            "Name: Review, dtype: object\n",
            "0    3\n",
            "1    1\n",
            "2    2\n",
            "3    4\n",
            "4    4\n",
            "Name: Rating, dtype: int64\n"
          ],
          "name": "stdout"
        }
      ]
    },
    {
      "cell_type": "code",
      "metadata": {
        "id": "GRMf_hBciwhR",
        "colab": {
          "base_uri": "https://localhost:8080/"
        },
        "outputId": "be08ab5c-883d-4883-b8a5-efc153c547e2"
      },
      "source": [
        "# spliting train and test \n",
        "data_copy = data.copy()\n",
        "train = data_copy.sample(frac=0.7, random_state=42)\n",
        "test = data_copy.drop(train.index)\n",
        "\n",
        "print(\"Training set: \", train.shape, \"\\nTestset: \",test.shape) "
      ],
      "execution_count": 306,
      "outputs": [
        {
          "output_type": "stream",
          "text": [
            "Training set:  (14344, 2) \n",
            "Testset:  (6147, 2)\n"
          ],
          "name": "stdout"
        }
      ]
    },
    {
      "cell_type": "code",
      "metadata": {
        "id": "81u5O9XqcrdV"
      },
      "source": [
        "# input functions for model \n",
        "train_input_function = tf.compat.v1.estimator.inputs.pandas_input_fn(\n",
        "    train, train.Rating, num_epochs=None, shuffle=True) \n",
        "\n",
        "# train prediction input \n",
        "predict_train_fn = tf.compat.v1.estimator.inputs.pandas_input_fn(\n",
        "    train, train.Rating, shuffle=False)\n",
        "\n",
        "# test prediction input \n",
        "prediction_test_fn = tf.compat.v1.estimator.inputs.pandas_input_fn(\n",
        "    test, test.Rating, shuffle=False)"
      ],
      "execution_count": 311,
      "outputs": []
    },
    {
      "cell_type": "code",
      "metadata": {
        "id": "jvsjU187g7rU"
      },
      "source": [
        "# feature columns \n",
        "embedded_text_feature_column = hub.text_embedding_column(key=\"Review\", \n",
        "    module_spec=\"https://tfhub.dev/google/nnlm-en-dim128/1\") "
      ],
      "execution_count": 312,
      "outputs": []
    },
    {
      "cell_type": "code",
      "metadata": {
        "colab": {
          "base_uri": "https://localhost:8080/"
        },
        "id": "NMVjk5Z6g74_",
        "outputId": "ade5b169-02cd-4565-ad48-e880b26ae18c"
      },
      "source": [
        "estimator = tf.compat.v1.estimator.DNNClassifier(\n",
        "    hidden_units=[1024, 512, 256], feature_columns=[embedded_text_feature_column],\n",
        "    n_classes=5,\n",
        "    optimizer=tf.compat.v1.train.AdagradOptimizer(learning_rate=0.003)) "
      ],
      "execution_count": 313,
      "outputs": [
        {
          "output_type": "stream",
          "text": [
            "INFO:tensorflow:Using default config.\n"
          ],
          "name": "stdout"
        },
        {
          "output_type": "stream",
          "text": [
            "INFO:tensorflow:Using default config.\n"
          ],
          "name": "stderr"
        },
        {
          "output_type": "stream",
          "text": [
            "WARNING:tensorflow:Using temporary folder as model directory: /tmp/tmp7iwmn4us\n"
          ],
          "name": "stdout"
        },
        {
          "output_type": "stream",
          "text": [
            "WARNING:tensorflow:Using temporary folder as model directory: /tmp/tmp7iwmn4us\n"
          ],
          "name": "stderr"
        },
        {
          "output_type": "stream",
          "text": [
            "INFO:tensorflow:Using config: {'_model_dir': '/tmp/tmp7iwmn4us', '_tf_random_seed': None, '_save_summary_steps': 100, '_save_checkpoints_steps': None, '_save_checkpoints_secs': 600, '_session_config': allow_soft_placement: true\n",
            "graph_options {\n",
            "  rewrite_options {\n",
            "    meta_optimizer_iterations: ONE\n",
            "  }\n",
            "}\n",
            ", '_keep_checkpoint_max': 5, '_keep_checkpoint_every_n_hours': 10000, '_log_step_count_steps': 100, '_train_distribute': None, '_device_fn': None, '_protocol': None, '_eval_distribute': None, '_experimental_distribute': None, '_experimental_max_worker_delay_secs': None, '_session_creation_timeout_secs': 7200, '_checkpoint_save_graph_def': True, '_service': None, '_cluster_spec': ClusterSpec({}), '_task_type': 'worker', '_task_id': 0, '_global_id_in_cluster': 0, '_master': '', '_evaluation_master': '', '_is_chief': True, '_num_ps_replicas': 0, '_num_worker_replicas': 1}\n"
          ],
          "name": "stdout"
        },
        {
          "output_type": "stream",
          "text": [
            "INFO:tensorflow:Using config: {'_model_dir': '/tmp/tmp7iwmn4us', '_tf_random_seed': None, '_save_summary_steps': 100, '_save_checkpoints_steps': None, '_save_checkpoints_secs': 600, '_session_config': allow_soft_placement: true\n",
            "graph_options {\n",
            "  rewrite_options {\n",
            "    meta_optimizer_iterations: ONE\n",
            "  }\n",
            "}\n",
            ", '_keep_checkpoint_max': 5, '_keep_checkpoint_every_n_hours': 10000, '_log_step_count_steps': 100, '_train_distribute': None, '_device_fn': None, '_protocol': None, '_eval_distribute': None, '_experimental_distribute': None, '_experimental_max_worker_delay_secs': None, '_session_creation_timeout_secs': 7200, '_checkpoint_save_graph_def': True, '_service': None, '_cluster_spec': ClusterSpec({}), '_task_type': 'worker', '_task_id': 0, '_global_id_in_cluster': 0, '_master': '', '_evaluation_master': '', '_is_chief': True, '_num_ps_replicas': 0, '_num_worker_replicas': 1}\n"
          ],
          "name": "stderr"
        }
      ]
    },
    {
      "cell_type": "code",
      "metadata": {
        "colab": {
          "base_uri": "https://localhost:8080/"
        },
        "id": "fMRLkcRrhjnd",
        "outputId": "e50e62ef-d3f8-4bb0-c562-da0f3d45debe"
      },
      "source": [
        "estimator.train(input_fn=train_input_function, steps=1000);  "
      ],
      "execution_count": 314,
      "outputs": [
        {
          "output_type": "stream",
          "text": [
            "WARNING:tensorflow:From /usr/local/lib/python3.7/dist-packages/tensorflow_estimator/python/estimator/inputs/queues/feeding_queue_runner.py:65: QueueRunner.__init__ (from tensorflow.python.training.queue_runner_impl) is deprecated and will be removed in a future version.\n",
            "Instructions for updating:\n",
            "To construct input pipelines, use the `tf.data` module.\n"
          ],
          "name": "stdout"
        },
        {
          "output_type": "stream",
          "text": [
            "WARNING:tensorflow:From /usr/local/lib/python3.7/dist-packages/tensorflow_estimator/python/estimator/inputs/queues/feeding_queue_runner.py:65: QueueRunner.__init__ (from tensorflow.python.training.queue_runner_impl) is deprecated and will be removed in a future version.\n",
            "Instructions for updating:\n",
            "To construct input pipelines, use the `tf.data` module.\n"
          ],
          "name": "stderr"
        },
        {
          "output_type": "stream",
          "text": [
            "WARNING:tensorflow:From /usr/local/lib/python3.7/dist-packages/tensorflow_estimator/python/estimator/inputs/queues/feeding_functions.py:491: add_queue_runner (from tensorflow.python.training.queue_runner_impl) is deprecated and will be removed in a future version.\n",
            "Instructions for updating:\n",
            "To construct input pipelines, use the `tf.data` module.\n"
          ],
          "name": "stdout"
        },
        {
          "output_type": "stream",
          "text": [
            "WARNING:tensorflow:From /usr/local/lib/python3.7/dist-packages/tensorflow_estimator/python/estimator/inputs/queues/feeding_functions.py:491: add_queue_runner (from tensorflow.python.training.queue_runner_impl) is deprecated and will be removed in a future version.\n",
            "Instructions for updating:\n",
            "To construct input pipelines, use the `tf.data` module.\n"
          ],
          "name": "stderr"
        },
        {
          "output_type": "stream",
          "text": [
            "INFO:tensorflow:Calling model_fn.\n"
          ],
          "name": "stdout"
        },
        {
          "output_type": "stream",
          "text": [
            "INFO:tensorflow:Calling model_fn.\n"
          ],
          "name": "stderr"
        },
        {
          "output_type": "stream",
          "text": [
            "INFO:tensorflow:Saver not created because there are no variables in the graph to restore\n"
          ],
          "name": "stdout"
        },
        {
          "output_type": "stream",
          "text": [
            "INFO:tensorflow:Saver not created because there are no variables in the graph to restore\n"
          ],
          "name": "stderr"
        },
        {
          "output_type": "stream",
          "text": [
            "INFO:tensorflow:Saver not created because there are no variables in the graph to restore\n"
          ],
          "name": "stdout"
        },
        {
          "output_type": "stream",
          "text": [
            "INFO:tensorflow:Saver not created because there are no variables in the graph to restore\n"
          ],
          "name": "stderr"
        },
        {
          "output_type": "stream",
          "text": [
            "WARNING:tensorflow:From /usr/local/lib/python3.7/dist-packages/tensorflow/python/training/adagrad.py:77: calling Constant.__init__ (from tensorflow.python.ops.init_ops) with dtype is deprecated and will be removed in a future version.\n",
            "Instructions for updating:\n",
            "Call initializer instance with the dtype argument instead of passing it to the constructor\n"
          ],
          "name": "stdout"
        },
        {
          "output_type": "stream",
          "text": [
            "WARNING:tensorflow:From /usr/local/lib/python3.7/dist-packages/tensorflow/python/training/adagrad.py:77: calling Constant.__init__ (from tensorflow.python.ops.init_ops) with dtype is deprecated and will be removed in a future version.\n",
            "Instructions for updating:\n",
            "Call initializer instance with the dtype argument instead of passing it to the constructor\n"
          ],
          "name": "stderr"
        },
        {
          "output_type": "stream",
          "text": [
            "INFO:tensorflow:Done calling model_fn.\n"
          ],
          "name": "stdout"
        },
        {
          "output_type": "stream",
          "text": [
            "INFO:tensorflow:Done calling model_fn.\n"
          ],
          "name": "stderr"
        },
        {
          "output_type": "stream",
          "text": [
            "INFO:tensorflow:Create CheckpointSaverHook.\n"
          ],
          "name": "stdout"
        },
        {
          "output_type": "stream",
          "text": [
            "INFO:tensorflow:Create CheckpointSaverHook.\n"
          ],
          "name": "stderr"
        },
        {
          "output_type": "stream",
          "text": [
            "INFO:tensorflow:Graph was finalized.\n"
          ],
          "name": "stdout"
        },
        {
          "output_type": "stream",
          "text": [
            "INFO:tensorflow:Graph was finalized.\n"
          ],
          "name": "stderr"
        },
        {
          "output_type": "stream",
          "text": [
            "INFO:tensorflow:Running local_init_op.\n"
          ],
          "name": "stdout"
        },
        {
          "output_type": "stream",
          "text": [
            "INFO:tensorflow:Running local_init_op.\n"
          ],
          "name": "stderr"
        },
        {
          "output_type": "stream",
          "text": [
            "INFO:tensorflow:Done running local_init_op.\n"
          ],
          "name": "stdout"
        },
        {
          "output_type": "stream",
          "text": [
            "INFO:tensorflow:Done running local_init_op.\n"
          ],
          "name": "stderr"
        },
        {
          "output_type": "stream",
          "text": [
            "WARNING:tensorflow:From /usr/local/lib/python3.7/dist-packages/tensorflow/python/training/monitored_session.py:907: start_queue_runners (from tensorflow.python.training.queue_runner_impl) is deprecated and will be removed in a future version.\n",
            "Instructions for updating:\n",
            "To construct input pipelines, use the `tf.data` module.\n"
          ],
          "name": "stdout"
        },
        {
          "output_type": "stream",
          "text": [
            "WARNING:tensorflow:From /usr/local/lib/python3.7/dist-packages/tensorflow/python/training/monitored_session.py:907: start_queue_runners (from tensorflow.python.training.queue_runner_impl) is deprecated and will be removed in a future version.\n",
            "Instructions for updating:\n",
            "To construct input pipelines, use the `tf.data` module.\n"
          ],
          "name": "stderr"
        },
        {
          "output_type": "stream",
          "text": [
            "INFO:tensorflow:Calling checkpoint listeners before saving checkpoint 0...\n"
          ],
          "name": "stdout"
        },
        {
          "output_type": "stream",
          "text": [
            "INFO:tensorflow:Calling checkpoint listeners before saving checkpoint 0...\n"
          ],
          "name": "stderr"
        },
        {
          "output_type": "stream",
          "text": [
            "INFO:tensorflow:Saving checkpoints for 0 into /tmp/tmp7iwmn4us/model.ckpt.\n"
          ],
          "name": "stdout"
        },
        {
          "output_type": "stream",
          "text": [
            "INFO:tensorflow:Saving checkpoints for 0 into /tmp/tmp7iwmn4us/model.ckpt.\n"
          ],
          "name": "stderr"
        },
        {
          "output_type": "stream",
          "text": [
            "INFO:tensorflow:Calling checkpoint listeners after saving checkpoint 0...\n"
          ],
          "name": "stdout"
        },
        {
          "output_type": "stream",
          "text": [
            "INFO:tensorflow:Calling checkpoint listeners after saving checkpoint 0...\n"
          ],
          "name": "stderr"
        },
        {
          "output_type": "stream",
          "text": [
            "INFO:tensorflow:loss = 204.16003, step = 0\n"
          ],
          "name": "stdout"
        },
        {
          "output_type": "stream",
          "text": [
            "INFO:tensorflow:loss = 204.16003, step = 0\n"
          ],
          "name": "stderr"
        },
        {
          "output_type": "stream",
          "text": [
            "INFO:tensorflow:global_step/sec: 93.531\n"
          ],
          "name": "stdout"
        },
        {
          "output_type": "stream",
          "text": [
            "INFO:tensorflow:global_step/sec: 93.531\n"
          ],
          "name": "stderr"
        },
        {
          "output_type": "stream",
          "text": [
            "INFO:tensorflow:loss = 116.4229, step = 100 (1.076 sec)\n"
          ],
          "name": "stdout"
        },
        {
          "output_type": "stream",
          "text": [
            "INFO:tensorflow:loss = 116.4229, step = 100 (1.076 sec)\n"
          ],
          "name": "stderr"
        },
        {
          "output_type": "stream",
          "text": [
            "INFO:tensorflow:global_step/sec: 97.156\n"
          ],
          "name": "stdout"
        },
        {
          "output_type": "stream",
          "text": [
            "INFO:tensorflow:global_step/sec: 97.156\n"
          ],
          "name": "stderr"
        },
        {
          "output_type": "stream",
          "text": [
            "INFO:tensorflow:loss = 142.40218, step = 200 (1.029 sec)\n"
          ],
          "name": "stdout"
        },
        {
          "output_type": "stream",
          "text": [
            "INFO:tensorflow:loss = 142.40218, step = 200 (1.029 sec)\n"
          ],
          "name": "stderr"
        },
        {
          "output_type": "stream",
          "text": [
            "INFO:tensorflow:global_step/sec: 99.6788\n"
          ],
          "name": "stdout"
        },
        {
          "output_type": "stream",
          "text": [
            "INFO:tensorflow:global_step/sec: 99.6788\n"
          ],
          "name": "stderr"
        },
        {
          "output_type": "stream",
          "text": [
            "INFO:tensorflow:loss = 145.53763, step = 300 (1.002 sec)\n"
          ],
          "name": "stdout"
        },
        {
          "output_type": "stream",
          "text": [
            "INFO:tensorflow:loss = 145.53763, step = 300 (1.002 sec)\n"
          ],
          "name": "stderr"
        },
        {
          "output_type": "stream",
          "text": [
            "INFO:tensorflow:global_step/sec: 101.693\n"
          ],
          "name": "stdout"
        },
        {
          "output_type": "stream",
          "text": [
            "INFO:tensorflow:global_step/sec: 101.693\n"
          ],
          "name": "stderr"
        },
        {
          "output_type": "stream",
          "text": [
            "INFO:tensorflow:loss = 125.12633, step = 400 (0.983 sec)\n"
          ],
          "name": "stdout"
        },
        {
          "output_type": "stream",
          "text": [
            "INFO:tensorflow:loss = 125.12633, step = 400 (0.983 sec)\n"
          ],
          "name": "stderr"
        },
        {
          "output_type": "stream",
          "text": [
            "INFO:tensorflow:global_step/sec: 102.779\n"
          ],
          "name": "stdout"
        },
        {
          "output_type": "stream",
          "text": [
            "INFO:tensorflow:global_step/sec: 102.779\n"
          ],
          "name": "stderr"
        },
        {
          "output_type": "stream",
          "text": [
            "INFO:tensorflow:loss = 123.552, step = 500 (0.976 sec)\n"
          ],
          "name": "stdout"
        },
        {
          "output_type": "stream",
          "text": [
            "INFO:tensorflow:loss = 123.552, step = 500 (0.976 sec)\n"
          ],
          "name": "stderr"
        },
        {
          "output_type": "stream",
          "text": [
            "INFO:tensorflow:global_step/sec: 101.185\n"
          ],
          "name": "stdout"
        },
        {
          "output_type": "stream",
          "text": [
            "INFO:tensorflow:global_step/sec: 101.185\n"
          ],
          "name": "stderr"
        },
        {
          "output_type": "stream",
          "text": [
            "INFO:tensorflow:loss = 120.82508, step = 600 (0.994 sec)\n"
          ],
          "name": "stdout"
        },
        {
          "output_type": "stream",
          "text": [
            "INFO:tensorflow:loss = 120.82508, step = 600 (0.994 sec)\n"
          ],
          "name": "stderr"
        },
        {
          "output_type": "stream",
          "text": [
            "INFO:tensorflow:global_step/sec: 101.435\n"
          ],
          "name": "stdout"
        },
        {
          "output_type": "stream",
          "text": [
            "INFO:tensorflow:global_step/sec: 101.435\n"
          ],
          "name": "stderr"
        },
        {
          "output_type": "stream",
          "text": [
            "INFO:tensorflow:loss = 119.20912, step = 700 (0.979 sec)\n"
          ],
          "name": "stdout"
        },
        {
          "output_type": "stream",
          "text": [
            "INFO:tensorflow:loss = 119.20912, step = 700 (0.979 sec)\n"
          ],
          "name": "stderr"
        },
        {
          "output_type": "stream",
          "text": [
            "INFO:tensorflow:global_step/sec: 101.667\n"
          ],
          "name": "stdout"
        },
        {
          "output_type": "stream",
          "text": [
            "INFO:tensorflow:global_step/sec: 101.667\n"
          ],
          "name": "stderr"
        },
        {
          "output_type": "stream",
          "text": [
            "INFO:tensorflow:loss = 119.00133, step = 800 (0.983 sec)\n"
          ],
          "name": "stdout"
        },
        {
          "output_type": "stream",
          "text": [
            "INFO:tensorflow:loss = 119.00133, step = 800 (0.983 sec)\n"
          ],
          "name": "stderr"
        },
        {
          "output_type": "stream",
          "text": [
            "INFO:tensorflow:global_step/sec: 102.837\n"
          ],
          "name": "stdout"
        },
        {
          "output_type": "stream",
          "text": [
            "INFO:tensorflow:global_step/sec: 102.837\n"
          ],
          "name": "stderr"
        },
        {
          "output_type": "stream",
          "text": [
            "INFO:tensorflow:loss = 116.14978, step = 900 (0.969 sec)\n"
          ],
          "name": "stdout"
        },
        {
          "output_type": "stream",
          "text": [
            "INFO:tensorflow:loss = 116.14978, step = 900 (0.969 sec)\n"
          ],
          "name": "stderr"
        },
        {
          "output_type": "stream",
          "text": [
            "INFO:tensorflow:Calling checkpoint listeners before saving checkpoint 1000...\n"
          ],
          "name": "stdout"
        },
        {
          "output_type": "stream",
          "text": [
            "INFO:tensorflow:Calling checkpoint listeners before saving checkpoint 1000...\n"
          ],
          "name": "stderr"
        },
        {
          "output_type": "stream",
          "text": [
            "INFO:tensorflow:Saving checkpoints for 1000 into /tmp/tmp7iwmn4us/model.ckpt.\n"
          ],
          "name": "stdout"
        },
        {
          "output_type": "stream",
          "text": [
            "INFO:tensorflow:Saving checkpoints for 1000 into /tmp/tmp7iwmn4us/model.ckpt.\n"
          ],
          "name": "stderr"
        },
        {
          "output_type": "stream",
          "text": [
            "INFO:tensorflow:Calling checkpoint listeners after saving checkpoint 1000...\n"
          ],
          "name": "stdout"
        },
        {
          "output_type": "stream",
          "text": [
            "INFO:tensorflow:Calling checkpoint listeners after saving checkpoint 1000...\n"
          ],
          "name": "stderr"
        },
        {
          "output_type": "stream",
          "text": [
            "INFO:tensorflow:Loss for final step: 115.20302.\n"
          ],
          "name": "stdout"
        },
        {
          "output_type": "stream",
          "text": [
            "INFO:tensorflow:Loss for final step: 115.20302.\n"
          ],
          "name": "stderr"
        }
      ]
    },
    {
      "cell_type": "code",
      "metadata": {
        "colab": {
          "base_uri": "https://localhost:8080/"
        },
        "id": "Dws4f0cWhjuI",
        "outputId": "e6f06bff-7e22-49f5-e5e0-d4987f1c285b"
      },
      "source": [
        "# evaluation \n",
        "train_eval_result = estimator.evaluate(input_fn=predict_train_fn)\n",
        "test_eval_result = estimator.evaluate(input_fn=prediction_test_fn)\n",
        "\n",
        "print(\"Training set accuracy: {accuracy}\".format(**train_eval_result))\n",
        "print(\"Test set accuracy: {accuracy}\".format(**test_eval_result))"
      ],
      "execution_count": 315,
      "outputs": [
        {
          "output_type": "stream",
          "text": [
            "INFO:tensorflow:Calling model_fn.\n"
          ],
          "name": "stdout"
        },
        {
          "output_type": "stream",
          "text": [
            "INFO:tensorflow:Calling model_fn.\n"
          ],
          "name": "stderr"
        },
        {
          "output_type": "stream",
          "text": [
            "INFO:tensorflow:Saver not created because there are no variables in the graph to restore\n"
          ],
          "name": "stdout"
        },
        {
          "output_type": "stream",
          "text": [
            "INFO:tensorflow:Saver not created because there are no variables in the graph to restore\n"
          ],
          "name": "stderr"
        },
        {
          "output_type": "stream",
          "text": [
            "INFO:tensorflow:Saver not created because there are no variables in the graph to restore\n"
          ],
          "name": "stdout"
        },
        {
          "output_type": "stream",
          "text": [
            "INFO:tensorflow:Saver not created because there are no variables in the graph to restore\n"
          ],
          "name": "stderr"
        },
        {
          "output_type": "stream",
          "text": [
            "INFO:tensorflow:Done calling model_fn.\n"
          ],
          "name": "stdout"
        },
        {
          "output_type": "stream",
          "text": [
            "INFO:tensorflow:Done calling model_fn.\n"
          ],
          "name": "stderr"
        },
        {
          "output_type": "stream",
          "text": [
            "INFO:tensorflow:Starting evaluation at 2021-07-14T19:39:46\n"
          ],
          "name": "stdout"
        },
        {
          "output_type": "stream",
          "text": [
            "INFO:tensorflow:Starting evaluation at 2021-07-14T19:39:46\n"
          ],
          "name": "stderr"
        },
        {
          "output_type": "stream",
          "text": [
            "INFO:tensorflow:Graph was finalized.\n"
          ],
          "name": "stdout"
        },
        {
          "output_type": "stream",
          "text": [
            "INFO:tensorflow:Graph was finalized.\n"
          ],
          "name": "stderr"
        },
        {
          "output_type": "stream",
          "text": [
            "INFO:tensorflow:Restoring parameters from /tmp/tmp7iwmn4us/model.ckpt-1000\n"
          ],
          "name": "stdout"
        },
        {
          "output_type": "stream",
          "text": [
            "INFO:tensorflow:Restoring parameters from /tmp/tmp7iwmn4us/model.ckpt-1000\n"
          ],
          "name": "stderr"
        },
        {
          "output_type": "stream",
          "text": [
            "INFO:tensorflow:Running local_init_op.\n"
          ],
          "name": "stdout"
        },
        {
          "output_type": "stream",
          "text": [
            "INFO:tensorflow:Running local_init_op.\n"
          ],
          "name": "stderr"
        },
        {
          "output_type": "stream",
          "text": [
            "INFO:tensorflow:Done running local_init_op.\n"
          ],
          "name": "stdout"
        },
        {
          "output_type": "stream",
          "text": [
            "INFO:tensorflow:Done running local_init_op.\n"
          ],
          "name": "stderr"
        },
        {
          "output_type": "stream",
          "text": [
            "INFO:tensorflow:Inference Time : 1.64024s\n"
          ],
          "name": "stdout"
        },
        {
          "output_type": "stream",
          "text": [
            "INFO:tensorflow:Inference Time : 1.64024s\n"
          ],
          "name": "stderr"
        },
        {
          "output_type": "stream",
          "text": [
            "INFO:tensorflow:Finished evaluation at 2021-07-14-19:39:47\n"
          ],
          "name": "stdout"
        },
        {
          "output_type": "stream",
          "text": [
            "INFO:tensorflow:Finished evaluation at 2021-07-14-19:39:47\n"
          ],
          "name": "stderr"
        },
        {
          "output_type": "stream",
          "text": [
            "INFO:tensorflow:Saving dict for global step 1000: accuracy = 0.60506135, average_loss = 0.903681, global_step = 1000, loss = 114.71151\n"
          ],
          "name": "stdout"
        },
        {
          "output_type": "stream",
          "text": [
            "INFO:tensorflow:Saving dict for global step 1000: accuracy = 0.60506135, average_loss = 0.903681, global_step = 1000, loss = 114.71151\n"
          ],
          "name": "stderr"
        },
        {
          "output_type": "stream",
          "text": [
            "INFO:tensorflow:Saving 'checkpoint_path' summary for global step 1000: /tmp/tmp7iwmn4us/model.ckpt-1000\n"
          ],
          "name": "stdout"
        },
        {
          "output_type": "stream",
          "text": [
            "INFO:tensorflow:Saving 'checkpoint_path' summary for global step 1000: /tmp/tmp7iwmn4us/model.ckpt-1000\n"
          ],
          "name": "stderr"
        },
        {
          "output_type": "stream",
          "text": [
            "INFO:tensorflow:Calling model_fn.\n"
          ],
          "name": "stdout"
        },
        {
          "output_type": "stream",
          "text": [
            "INFO:tensorflow:Calling model_fn.\n"
          ],
          "name": "stderr"
        },
        {
          "output_type": "stream",
          "text": [
            "INFO:tensorflow:Saver not created because there are no variables in the graph to restore\n"
          ],
          "name": "stdout"
        },
        {
          "output_type": "stream",
          "text": [
            "INFO:tensorflow:Saver not created because there are no variables in the graph to restore\n"
          ],
          "name": "stderr"
        },
        {
          "output_type": "stream",
          "text": [
            "INFO:tensorflow:Saver not created because there are no variables in the graph to restore\n"
          ],
          "name": "stdout"
        },
        {
          "output_type": "stream",
          "text": [
            "INFO:tensorflow:Saver not created because there are no variables in the graph to restore\n"
          ],
          "name": "stderr"
        },
        {
          "output_type": "stream",
          "text": [
            "INFO:tensorflow:Done calling model_fn.\n"
          ],
          "name": "stdout"
        },
        {
          "output_type": "stream",
          "text": [
            "INFO:tensorflow:Done calling model_fn.\n"
          ],
          "name": "stderr"
        },
        {
          "output_type": "stream",
          "text": [
            "INFO:tensorflow:Starting evaluation at 2021-07-14T19:39:48\n"
          ],
          "name": "stdout"
        },
        {
          "output_type": "stream",
          "text": [
            "INFO:tensorflow:Starting evaluation at 2021-07-14T19:39:48\n"
          ],
          "name": "stderr"
        },
        {
          "output_type": "stream",
          "text": [
            "INFO:tensorflow:Graph was finalized.\n"
          ],
          "name": "stdout"
        },
        {
          "output_type": "stream",
          "text": [
            "INFO:tensorflow:Graph was finalized.\n"
          ],
          "name": "stderr"
        },
        {
          "output_type": "stream",
          "text": [
            "INFO:tensorflow:Restoring parameters from /tmp/tmp7iwmn4us/model.ckpt-1000\n"
          ],
          "name": "stdout"
        },
        {
          "output_type": "stream",
          "text": [
            "INFO:tensorflow:Restoring parameters from /tmp/tmp7iwmn4us/model.ckpt-1000\n"
          ],
          "name": "stderr"
        },
        {
          "output_type": "stream",
          "text": [
            "INFO:tensorflow:Running local_init_op.\n"
          ],
          "name": "stdout"
        },
        {
          "output_type": "stream",
          "text": [
            "INFO:tensorflow:Running local_init_op.\n"
          ],
          "name": "stderr"
        },
        {
          "output_type": "stream",
          "text": [
            "INFO:tensorflow:Done running local_init_op.\n"
          ],
          "name": "stdout"
        },
        {
          "output_type": "stream",
          "text": [
            "INFO:tensorflow:Done running local_init_op.\n"
          ],
          "name": "stderr"
        },
        {
          "output_type": "stream",
          "text": [
            "INFO:tensorflow:Inference Time : 1.15673s\n"
          ],
          "name": "stdout"
        },
        {
          "output_type": "stream",
          "text": [
            "INFO:tensorflow:Inference Time : 1.15673s\n"
          ],
          "name": "stderr"
        },
        {
          "output_type": "stream",
          "text": [
            "INFO:tensorflow:Finished evaluation at 2021-07-14-19:39:49\n"
          ],
          "name": "stdout"
        },
        {
          "output_type": "stream",
          "text": [
            "INFO:tensorflow:Finished evaluation at 2021-07-14-19:39:49\n"
          ],
          "name": "stderr"
        },
        {
          "output_type": "stream",
          "text": [
            "INFO:tensorflow:Saving dict for global step 1000: accuracy = 0.57019687, average_loss = 0.9600561, global_step = 1000, loss = 120.43806\n"
          ],
          "name": "stdout"
        },
        {
          "output_type": "stream",
          "text": [
            "INFO:tensorflow:Saving dict for global step 1000: accuracy = 0.57019687, average_loss = 0.9600561, global_step = 1000, loss = 120.43806\n"
          ],
          "name": "stderr"
        },
        {
          "output_type": "stream",
          "text": [
            "INFO:tensorflow:Saving 'checkpoint_path' summary for global step 1000: /tmp/tmp7iwmn4us/model.ckpt-1000\n"
          ],
          "name": "stdout"
        },
        {
          "output_type": "stream",
          "text": [
            "INFO:tensorflow:Saving 'checkpoint_path' summary for global step 1000: /tmp/tmp7iwmn4us/model.ckpt-1000\n"
          ],
          "name": "stderr"
        },
        {
          "output_type": "stream",
          "text": [
            "Training set accuracy: 0.6050613522529602\n",
            "Test set accuracy: 0.5701968669891357\n"
          ],
          "name": "stdout"
        }
      ]
    },
    {
      "cell_type": "code",
      "metadata": {
        "colab": {
          "base_uri": "https://localhost:8080/"
        },
        "id": "soCc21DTitpb",
        "outputId": "ccbddca5-2796-4e9e-86d7-38cd7aa05ea9"
      },
      "source": [
        "def get_predictions(estimator, input_fn):\n",
        "  return [x[\"class_ids\"][0] for x in estimator.predict(input_fn=input_fn)]\n",
        "\n",
        "LABELS = [\"1\", \"2\", \"3\", \"4\", \"5\"]\n",
        "\n",
        "# Create a confusion matrix on training data.\n",
        "cm = tf.math.confusion_matrix(train[\"Rating\"], \n",
        "                              get_predictions(estimator, predict_train_fn)) "
      ],
      "execution_count": 316,
      "outputs": [
        {
          "output_type": "stream",
          "text": [
            "INFO:tensorflow:Calling model_fn.\n"
          ],
          "name": "stdout"
        },
        {
          "output_type": "stream",
          "text": [
            "INFO:tensorflow:Calling model_fn.\n"
          ],
          "name": "stderr"
        },
        {
          "output_type": "stream",
          "text": [
            "INFO:tensorflow:Saver not created because there are no variables in the graph to restore\n"
          ],
          "name": "stdout"
        },
        {
          "output_type": "stream",
          "text": [
            "INFO:tensorflow:Saver not created because there are no variables in the graph to restore\n"
          ],
          "name": "stderr"
        },
        {
          "output_type": "stream",
          "text": [
            "INFO:tensorflow:Saver not created because there are no variables in the graph to restore\n"
          ],
          "name": "stdout"
        },
        {
          "output_type": "stream",
          "text": [
            "INFO:tensorflow:Saver not created because there are no variables in the graph to restore\n"
          ],
          "name": "stderr"
        },
        {
          "output_type": "stream",
          "text": [
            "INFO:tensorflow:Done calling model_fn.\n"
          ],
          "name": "stdout"
        },
        {
          "output_type": "stream",
          "text": [
            "INFO:tensorflow:Done calling model_fn.\n"
          ],
          "name": "stderr"
        },
        {
          "output_type": "stream",
          "text": [
            "INFO:tensorflow:Graph was finalized.\n"
          ],
          "name": "stdout"
        },
        {
          "output_type": "stream",
          "text": [
            "INFO:tensorflow:Graph was finalized.\n"
          ],
          "name": "stderr"
        },
        {
          "output_type": "stream",
          "text": [
            "INFO:tensorflow:Restoring parameters from /tmp/tmp7iwmn4us/model.ckpt-1000\n"
          ],
          "name": "stdout"
        },
        {
          "output_type": "stream",
          "text": [
            "INFO:tensorflow:Restoring parameters from /tmp/tmp7iwmn4us/model.ckpt-1000\n"
          ],
          "name": "stderr"
        },
        {
          "output_type": "stream",
          "text": [
            "INFO:tensorflow:Running local_init_op.\n"
          ],
          "name": "stdout"
        },
        {
          "output_type": "stream",
          "text": [
            "INFO:tensorflow:Running local_init_op.\n"
          ],
          "name": "stderr"
        },
        {
          "output_type": "stream",
          "text": [
            "INFO:tensorflow:Done running local_init_op.\n"
          ],
          "name": "stdout"
        },
        {
          "output_type": "stream",
          "text": [
            "INFO:tensorflow:Done running local_init_op.\n"
          ],
          "name": "stderr"
        }
      ]
    },
    {
      "cell_type": "code",
      "metadata": {
        "colab": {
          "base_uri": "https://localhost:8080/",
          "height": 414
        },
        "id": "Hskfco38hjxs",
        "outputId": "e68da5c6-1782-4abc-ec7e-dd7e72f982a1"
      },
      "source": [
        "# Normalize the confusion matrix so that each row sums to 1.\n",
        "cm = tf.cast(cm, dtype=tf.float32)\n",
        "cm = cm / tf.math.reduce_sum(cm, axis=1)[:, np.newaxis]\n",
        "\n",
        "plt.text(2.5, -0.25, 'Confusion Matrix', fontsize=14, fontweight='bold', \n",
        "         horizontalalignment='center', \n",
        "         verticalalignment='center',\n",
        "         fontfamily='serif', color=\"#000000\") \n",
        "sns.heatmap(cm, annot=True, xticklabels=LABELS, yticklabels=LABELS)\n",
        "plt.xlabel(\"Predicted\")\n",
        "plt.ylabel(\"True\")\n",
        "plt.show() "
      ],
      "execution_count": 320,
      "outputs": [
        {
          "output_type": "display_data",
          "data": {
            "image/png": "[encoded data removed]",
            "text/plain": [
              "<Figure size 1008x432 with 2 Axes>"
            ]
          },
          "metadata": {
            "tags": []
          }
        }
      ]
    },
    {
      "cell_type": "code",
      "metadata": {
        "id": "NeRFLPkYhj1y"
      },
      "source": [
        ""
      ],
      "execution_count": null,
      "outputs": []
    },
    {
      "cell_type": "code",
      "metadata": {
        "id": "pmOfJF0WVSpk"
      },
      "source": [
        ""
      ],
      "execution_count": null,
      "outputs": []
    },
    {
      "cell_type": "code",
      "metadata": {
        "id": "dZb0BWF4dP6x"
      },
      "source": [
        ""
      ],
      "execution_count": null,
      "outputs": []
    },
    {
      "cell_type": "code",
      "metadata": {
        "id": "iW9UbVK8-g5a"
      },
      "source": [
        ""
      ],
      "execution_count": null,
      "outputs": []
    },
    {
      "cell_type": "code",
      "metadata": {
        "id": "xFmQ_241-nIw"
      },
      "source": [
        ""
      ],
      "execution_count": null,
      "outputs": []
    },
    {
      "cell_type": "code",
      "metadata": {
        "id": "YuT6D5krAU_L"
      },
      "source": [
        ""
      ],
      "execution_count": null,
      "outputs": []
    },
    {
      "cell_type": "code",
      "metadata": {
        "id": "P2lA4jkpZn5H"
      },
      "source": [
        ""
      ],
      "execution_count": null,
      "outputs": []
    },
    {
      "cell_type": "code",
      "metadata": {
        "id": "3pN-qqc23QjZ"
      },
      "source": [
        ""
      ],
      "execution_count": null,
      "outputs": []
    },
    {
      "cell_type": "code",
      "metadata": {
        "id": "JfZbaXAQ3Qs3"
      },
      "source": [
        ""
      ],
      "execution_count": null,
      "outputs": []
    },
    {
      "cell_type": "markdown",
      "metadata": {
        "id": "AZ8bzYX8nG4k"
      },
      "source": [
        "### Evaluation"
      ]
    },
    {
      "cell_type": "code",
      "metadata": {
        "id": "u7IXsyVgnGf7"
      },
      "source": [
        ""
      ],
      "execution_count": null,
      "outputs": []
    },
    {
      "cell_type": "code",
      "metadata": {
        "id": "8Flub69WnJo8"
      },
      "source": [
        ""
      ],
      "execution_count": null,
      "outputs": []
    },
    {
      "cell_type": "code",
      "metadata": {
        "id": "KvFkeF-4nJwZ"
      },
      "source": [
        ""
      ],
      "execution_count": null,
      "outputs": []
    },
    {
      "cell_type": "code",
      "metadata": {
        "id": "o6osFnpunJzl"
      },
      "source": [
        ""
      ],
      "execution_count": null,
      "outputs": []
    },
    {
      "cell_type": "code",
      "metadata": {
        "id": "whruj0YunJ2k"
      },
      "source": [
        ""
      ],
      "execution_count": null,
      "outputs": []
    },
    {
      "cell_type": "code",
      "metadata": {
        "id": "Vl1NtCZ6nJ5A"
      },
      "source": [
        ""
      ],
      "execution_count": null,
      "outputs": []
    },
    {
      "cell_type": "code",
      "metadata": {
        "id": "yKtZsV4BnFzs"
      },
      "source": [
        ""
      ],
      "execution_count": null,
      "outputs": []
    },
    {
      "cell_type": "code",
      "metadata": {
        "id": "5_MNHg8DQIc9"
      },
      "source": [
        ""
      ],
      "execution_count": null,
      "outputs": []
    },
    {
      "cell_type": "code",
      "metadata": {
        "id": "_NlLTER3muLD"
      },
      "source": [
        ""
      ],
      "execution_count": null,
      "outputs": []
    },
    {
      "cell_type": "code",
      "metadata": {
        "id": "VhTUHSg6ntob"
      },
      "source": [
        ""
      ],
      "execution_count": null,
      "outputs": []
    },
    {
      "cell_type": "code",
      "metadata": {
        "id": "OJaDAa10uA6-"
      },
      "source": [
        ""
      ],
      "execution_count": null,
      "outputs": []
    },
    {
      "cell_type": "code",
      "metadata": {
        "id": "jFtaamWuuWgT"
      },
      "source": [
        ""
      ],
      "execution_count": null,
      "outputs": []
    },
    {
      "cell_type": "code",
      "metadata": {
        "id": "RjuITaGXujFb"
      },
      "source": [
        ""
      ],
      "execution_count": null,
      "outputs": []
    }
  ]
}